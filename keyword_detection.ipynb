{
 "cells": [
  {
   "cell_type": "markdown",
   "id": "4bd002b3-9ffe-4e54-a0cf-9d16e9ec82df",
   "metadata": {},
   "source": [
    "# Keyword Detection on Websites\n",
    "\n",
    "## Objective \n",
    "+ Create an algorithm, that takes html page as input and infers if the page contains the information about cancer tumorboard or not\n",
    "\n",
    "## What is a tumor board?\n",
    "+ Tumor Board is a consilium of doctors (usually from different disciplines) discussing cancer cases in their departments\n",
    "\n",
    "### Initial Steps\n",
    "\n",
    "+ Read in test, train and keyword csv's\n",
    "+ Prepare to use beautiful soup to parse the HTML content needed\n",
    "+ Install lxml, an HMTL parser"
   ]
  },
  {
   "cell_type": "code",
   "execution_count": 1,
   "id": "14db8eb0-35da-49ab-8c2e-d72a64041053",
   "metadata": {},
   "outputs": [
    {
     "data": {
      "text/html": [
       "<div>\n",
       "<style scoped>\n",
       "    .dataframe tbody tr th:only-of-type {\n",
       "        vertical-align: middle;\n",
       "    }\n",
       "\n",
       "    .dataframe tbody tr th {\n",
       "        vertical-align: top;\n",
       "    }\n",
       "\n",
       "    .dataframe thead th {\n",
       "        text-align: right;\n",
       "    }\n",
       "</style>\n",
       "<table border=\"1\" class=\"dataframe\">\n",
       "  <thead>\n",
       "    <tr style=\"text-align: right;\">\n",
       "      <th></th>\n",
       "      <th>url</th>\n",
       "      <th>doc_id</th>\n",
       "      <th>label</th>\n",
       "    </tr>\n",
       "  </thead>\n",
       "  <tbody>\n",
       "    <tr>\n",
       "      <th>83</th>\n",
       "      <td>http://www.sbk-vs.de/de/medizin/leistungen-und...</td>\n",
       "      <td>125</td>\n",
       "      <td>1</td>\n",
       "    </tr>\n",
       "    <tr>\n",
       "      <th>53</th>\n",
       "      <td>http://www.klinikum-esslingen.de/kliniken-und-...</td>\n",
       "      <td>85</td>\n",
       "      <td>2</td>\n",
       "    </tr>\n",
       "    <tr>\n",
       "      <th>70</th>\n",
       "      <td>http://www.malteser-kliniken-rhein-ruhr.de/med...</td>\n",
       "      <td>107</td>\n",
       "      <td>2</td>\n",
       "    </tr>\n",
       "    <tr>\n",
       "      <th>45</th>\n",
       "      <td>http://www.klilu.de/medizin__pflege/kliniken_u...</td>\n",
       "      <td>73</td>\n",
       "      <td>2</td>\n",
       "    </tr>\n",
       "    <tr>\n",
       "      <th>44</th>\n",
       "      <td>http://www.kk-bochum.de/de/kliniken_zentren_be...</td>\n",
       "      <td>72</td>\n",
       "      <td>1</td>\n",
       "    </tr>\n",
       "    <tr>\n",
       "      <th>39</th>\n",
       "      <td>http://www.gesundheit-nordhessen.de/klinikum-k...</td>\n",
       "      <td>57</td>\n",
       "      <td>3</td>\n",
       "    </tr>\n",
       "    <tr>\n",
       "      <th>22</th>\n",
       "      <td>http://stereotaxie.uk-koeln.de/erkrankungen-th...</td>\n",
       "      <td>28</td>\n",
       "      <td>2</td>\n",
       "    </tr>\n",
       "    <tr>\n",
       "      <th>80</th>\n",
       "      <td>http://www.neurochirurgie.uk-erlangen.de/forsc...</td>\n",
       "      <td>120</td>\n",
       "      <td>1</td>\n",
       "    </tr>\n",
       "    <tr>\n",
       "      <th>10</th>\n",
       "      <td>http://krebszentrum.kreiskliniken-reutlingen.d...</td>\n",
       "      <td>13</td>\n",
       "      <td>2</td>\n",
       "    </tr>\n",
       "    <tr>\n",
       "      <th>0</th>\n",
       "      <td>http://elbe-elster-klinikum.de/fachbereiche/ch...</td>\n",
       "      <td>1</td>\n",
       "      <td>1</td>\n",
       "    </tr>\n",
       "  </tbody>\n",
       "</table>\n",
       "</div>"
      ],
      "text/plain": [
       "                                                  url  doc_id  label\n",
       "83  http://www.sbk-vs.de/de/medizin/leistungen-und...     125      1\n",
       "53  http://www.klinikum-esslingen.de/kliniken-und-...      85      2\n",
       "70  http://www.malteser-kliniken-rhein-ruhr.de/med...     107      2\n",
       "45  http://www.klilu.de/medizin__pflege/kliniken_u...      73      2\n",
       "44  http://www.kk-bochum.de/de/kliniken_zentren_be...      72      1\n",
       "39  http://www.gesundheit-nordhessen.de/klinikum-k...      57      3\n",
       "22  http://stereotaxie.uk-koeln.de/erkrankungen-th...      28      2\n",
       "80  http://www.neurochirurgie.uk-erlangen.de/forsc...     120      1\n",
       "10  http://krebszentrum.kreiskliniken-reutlingen.d...      13      2\n",
       "0   http://elbe-elster-klinikum.de/fachbereiche/ch...       1      1"
      ]
     },
     "execution_count": 1,
     "metadata": {},
     "output_type": "execute_result"
    }
   ],
   "source": [
    "# importing packages\n",
    "\n",
    "import numpy as np\n",
    "import pandas as pd\n",
    "import matplotlib.pyplot as plt\n",
    "import seaborn as sns\n",
    "\n",
    "\n",
    "# reading in training csv\n",
    "train_df = pd.read_csv('detection_train.csv')\n",
    "\n",
    "# printing out 10 random samples from the dataset\n",
    "train_df.sample(n = 10, random_state = 42)"
   ]
  },
  {
   "cell_type": "code",
   "execution_count": 2,
   "id": "f9a71c68-8ffd-43dc-9a15-59421d139e85",
   "metadata": {},
   "outputs": [
    {
     "data": {
      "text/html": [
       "<div>\n",
       "<style scoped>\n",
       "    .dataframe tbody tr th:only-of-type {\n",
       "        vertical-align: middle;\n",
       "    }\n",
       "\n",
       "    .dataframe tbody tr th {\n",
       "        vertical-align: top;\n",
       "    }\n",
       "\n",
       "    .dataframe thead th {\n",
       "        text-align: right;\n",
       "    }\n",
       "</style>\n",
       "<table border=\"1\" class=\"dataframe\">\n",
       "  <thead>\n",
       "    <tr style=\"text-align: right;\">\n",
       "      <th></th>\n",
       "      <th>url</th>\n",
       "      <th>doc_id</th>\n",
       "    </tr>\n",
       "  </thead>\n",
       "  <tbody>\n",
       "    <tr>\n",
       "      <th>27</th>\n",
       "      <td>http://www.josephstift-dresden.de/pressemittei...</td>\n",
       "      <td>71</td>\n",
       "    </tr>\n",
       "    <tr>\n",
       "      <th>40</th>\n",
       "      <td>http://www.pius-hospital.de/kliniken/gynaekolo...</td>\n",
       "      <td>123</td>\n",
       "    </tr>\n",
       "    <tr>\n",
       "      <th>26</th>\n",
       "      <td>http://www.interdisziplinaere-endoskopie.mri.t...</td>\n",
       "      <td>70</td>\n",
       "    </tr>\n",
       "    <tr>\n",
       "      <th>43</th>\n",
       "      <td>http://www.uk-augsburg.de/krebsbehandlung/diag...</td>\n",
       "      <td>134</td>\n",
       "    </tr>\n",
       "    <tr>\n",
       "      <th>24</th>\n",
       "      <td>http://www.hjk-muenster.de/unsere-kompetenzen/...</td>\n",
       "      <td>68</td>\n",
       "    </tr>\n",
       "    <tr>\n",
       "      <th>37</th>\n",
       "      <td>http://www.maria-josef-hospital.de/unsere-komp...</td>\n",
       "      <td>109</td>\n",
       "    </tr>\n",
       "    <tr>\n",
       "      <th>12</th>\n",
       "      <td>http://www.ctk.de/klinikum/karriere/stellenang...</td>\n",
       "      <td>46</td>\n",
       "    </tr>\n",
       "    <tr>\n",
       "      <th>19</th>\n",
       "      <td>http://www.gesundheitszentrum-wetterau.de/342/...</td>\n",
       "      <td>59</td>\n",
       "    </tr>\n",
       "    <tr>\n",
       "      <th>4</th>\n",
       "      <td>http://marienhospital-buer.de/mhb-av-chirurgie...</td>\n",
       "      <td>16</td>\n",
       "    </tr>\n",
       "    <tr>\n",
       "      <th>25</th>\n",
       "      <td>http://www.hufeland.de/de/abteilung-fuer-gastr...</td>\n",
       "      <td>69</td>\n",
       "    </tr>\n",
       "  </tbody>\n",
       "</table>\n",
       "</div>"
      ],
      "text/plain": [
       "                                                  url  doc_id\n",
       "27  http://www.josephstift-dresden.de/pressemittei...      71\n",
       "40  http://www.pius-hospital.de/kliniken/gynaekolo...     123\n",
       "26  http://www.interdisziplinaere-endoskopie.mri.t...      70\n",
       "43  http://www.uk-augsburg.de/krebsbehandlung/diag...     134\n",
       "24  http://www.hjk-muenster.de/unsere-kompetenzen/...      68\n",
       "37  http://www.maria-josef-hospital.de/unsere-komp...     109\n",
       "12  http://www.ctk.de/klinikum/karriere/stellenang...      46\n",
       "19  http://www.gesundheitszentrum-wetterau.de/342/...      59\n",
       "4   http://marienhospital-buer.de/mhb-av-chirurgie...      16\n",
       "25  http://www.hufeland.de/de/abteilung-fuer-gastr...      69"
      ]
     },
     "execution_count": 2,
     "metadata": {},
     "output_type": "execute_result"
    }
   ],
   "source": [
    "# reading in training csv\n",
    "test_df = pd.read_csv('detection_test.csv')\n",
    "\n",
    "# printing out 10 random samples from the dataset\n",
    "test_df.sample(n = 10, random_state = 42)"
   ]
  },
  {
   "cell_type": "code",
   "execution_count": 3,
   "id": "7809042c-8ae3-4790-94d2-8e3fc8db6e9b",
   "metadata": {},
   "outputs": [
    {
     "data": {
      "text/html": [
       "<div>\n",
       "<style scoped>\n",
       "    .dataframe tbody tr th:only-of-type {\n",
       "        vertical-align: middle;\n",
       "    }\n",
       "\n",
       "    .dataframe tbody tr th {\n",
       "        vertical-align: top;\n",
       "    }\n",
       "\n",
       "    .dataframe thead th {\n",
       "        text-align: right;\n",
       "    }\n",
       "</style>\n",
       "<table border=\"1\" class=\"dataframe\">\n",
       "  <thead>\n",
       "    <tr style=\"text-align: right;\">\n",
       "      <th></th>\n",
       "      <th>keyword</th>\n",
       "      <th>tumor_type</th>\n",
       "    </tr>\n",
       "  </thead>\n",
       "  <tbody>\n",
       "    <tr>\n",
       "      <th>73</th>\n",
       "      <td>magen</td>\n",
       "      <td>Magen</td>\n",
       "    </tr>\n",
       "    <tr>\n",
       "      <th>19</th>\n",
       "      <td>malignome</td>\n",
       "      <td>Endokrine malignome</td>\n",
       "    </tr>\n",
       "    <tr>\n",
       "      <th>116</th>\n",
       "      <td>molekulare</td>\n",
       "      <td>Molekular</td>\n",
       "    </tr>\n",
       "    <tr>\n",
       "      <th>67</th>\n",
       "      <td>transit</td>\n",
       "      <td>Lymphom</td>\n",
       "    </tr>\n",
       "    <tr>\n",
       "      <th>94</th>\n",
       "      <td>bone</td>\n",
       "      <td>Sarkome</td>\n",
       "    </tr>\n",
       "    <tr>\n",
       "      <th>77</th>\n",
       "      <td>mammographie</td>\n",
       "      <td>Mamma carcinoma</td>\n",
       "    </tr>\n",
       "    <tr>\n",
       "      <th>31</th>\n",
       "      <td>gynäkologische</td>\n",
       "      <td>Gynäkologie</td>\n",
       "    </tr>\n",
       "    <tr>\n",
       "      <th>53</th>\n",
       "      <td>thyroid</td>\n",
       "      <td>Kopf-hals</td>\n",
       "    </tr>\n",
       "    <tr>\n",
       "      <th>117</th>\n",
       "      <td>oral</td>\n",
       "      <td>Oral</td>\n",
       "    </tr>\n",
       "    <tr>\n",
       "      <th>44</th>\n",
       "      <td>lympho</td>\n",
       "      <td>Hämatooncology</td>\n",
       "    </tr>\n",
       "  </tbody>\n",
       "</table>\n",
       "</div>"
      ],
      "text/plain": [
       "            keyword           tumor_type\n",
       "73            magen                Magen\n",
       "19        malignome  Endokrine malignome\n",
       "116      molekulare            Molekular\n",
       "67          transit              Lymphom\n",
       "94             bone              Sarkome\n",
       "77     mammographie      Mamma carcinoma\n",
       "31   gynäkologische          Gynäkologie\n",
       "53          thyroid            Kopf-hals\n",
       "117            oral                 Oral\n",
       "44           lympho       Hämatooncology"
      ]
     },
     "execution_count": 3,
     "metadata": {},
     "output_type": "execute_result"
    }
   ],
   "source": [
    "# reading in training csv\n",
    "keyword_df = pd.read_csv('keyword2tumor_type.csv')\n",
    "\n",
    "# printing out 10 random samples from the dataset\n",
    "keyword_df.sample(n = 10, random_state = 42)"
   ]
  },
  {
   "cell_type": "code",
   "execution_count": 4,
   "id": "0cbe77e7-96c3-411e-a5b3-ef6e8f0caac9",
   "metadata": {},
   "outputs": [
    {
     "data": {
      "text/html": [
       "<div>\n",
       "<style scoped>\n",
       "    .dataframe tbody tr th:only-of-type {\n",
       "        vertical-align: middle;\n",
       "    }\n",
       "\n",
       "    .dataframe tbody tr th {\n",
       "        vertical-align: top;\n",
       "    }\n",
       "\n",
       "    .dataframe thead th {\n",
       "        text-align: right;\n",
       "    }\n",
       "</style>\n",
       "<table border=\"1\" class=\"dataframe\">\n",
       "  <thead>\n",
       "    <tr style=\"text-align: right;\">\n",
       "      <th></th>\n",
       "      <th>index</th>\n",
       "      <th>label</th>\n",
       "    </tr>\n",
       "  </thead>\n",
       "  <tbody>\n",
       "    <tr>\n",
       "      <th>0</th>\n",
       "      <td>2</td>\n",
       "      <td>59</td>\n",
       "    </tr>\n",
       "    <tr>\n",
       "      <th>1</th>\n",
       "      <td>1</td>\n",
       "      <td>32</td>\n",
       "    </tr>\n",
       "    <tr>\n",
       "      <th>2</th>\n",
       "      <td>3</td>\n",
       "      <td>9</td>\n",
       "    </tr>\n",
       "  </tbody>\n",
       "</table>\n",
       "</div>"
      ],
      "text/plain": [
       "   index  label\n",
       "0      2     59\n",
       "1      1     32\n",
       "2      3      9"
      ]
     },
     "execution_count": 4,
     "metadata": {},
     "output_type": "execute_result"
    }
   ],
   "source": [
    "# now let's understand the distribution of labels across the training doc\n",
    "\n",
    "train_df['label'].value_counts().reset_index()"
   ]
  },
  {
   "cell_type": "markdown",
   "id": "26f6260c-933f-4540-b8c9-930fb5168200",
   "metadata": {},
   "source": [
    "### Next steps\n",
    "\n",
    "+ Load the data to read the HTML files\n",
    "+ Create a function that will load the corresponding HTML file from the htmls directory\n",
    "+ Get the HMTL contents and store it in a new column called \"html\"\n",
    "+ Since the documents are in German, the encoding cannot be utf-8 which is commonly used, instead latin1 will be used"
   ]
  },
  {
   "cell_type": "code",
   "execution_count": 5,
   "id": "f4c9fb76-4ad4-46d7-a969-7ab3d530da7e",
   "metadata": {},
   "outputs": [],
   "source": [
    "# defining a function to read an HMTL file given a document ID\n",
    "def read_html(doc_id: int) -> str:\n",
    "    # open the HTML file with the given document ID\n",
    "    with open(file=f\"htmls/{doc_id}.html\",\n",
    "              mode=\"r\",\n",
    "              encoding=\"latin1\") as f:\n",
    "        # read the contents of the file and store it as a string\n",
    "        html = f.read()\n",
    "    # return the HMTL string    \n",
    "    return html\n",
    "\n",
    "\n",
    "# apply the read_html function to each value in the \"doc_id\" column of the train_df dataframe\n",
    "# and store the resulting HTML strings in a new column called \"html\"\n",
    "train_df[\"html\"] = train_df[\"doc_id\"].apply(read_html)"
   ]
  },
  {
   "cell_type": "code",
   "execution_count": 6,
   "id": "c77cc380-6991-4a77-a35a-8916690fb61c",
   "metadata": {},
   "outputs": [
    {
     "data": {
      "text/html": [
       "<div>\n",
       "<style scoped>\n",
       "    .dataframe tbody tr th:only-of-type {\n",
       "        vertical-align: middle;\n",
       "    }\n",
       "\n",
       "    .dataframe tbody tr th {\n",
       "        vertical-align: top;\n",
       "    }\n",
       "\n",
       "    .dataframe thead th {\n",
       "        text-align: right;\n",
       "    }\n",
       "</style>\n",
       "<table border=\"1\" class=\"dataframe\">\n",
       "  <thead>\n",
       "    <tr style=\"text-align: right;\">\n",
       "      <th></th>\n",
       "      <th>url</th>\n",
       "      <th>doc_id</th>\n",
       "      <th>label</th>\n",
       "      <th>html</th>\n",
       "    </tr>\n",
       "  </thead>\n",
       "  <tbody>\n",
       "    <tr>\n",
       "      <th>83</th>\n",
       "      <td>http://www.sbk-vs.de/de/medizin/leistungen-und...</td>\n",
       "      <td>125</td>\n",
       "      <td>1</td>\n",
       "      <td>\\n\\n&lt;!DOCTYPE HTML&gt;\\n&lt;html dir=\"ltr\" lang=\"de_...</td>\n",
       "    </tr>\n",
       "    <tr>\n",
       "      <th>53</th>\n",
       "      <td>http://www.klinikum-esslingen.de/kliniken-und-...</td>\n",
       "      <td>85</td>\n",
       "      <td>2</td>\n",
       "      <td>&lt;!DOCTYPE html&gt;\\n&lt;html xmlns=\"http://www.w3.or...</td>\n",
       "    </tr>\n",
       "    <tr>\n",
       "      <th>70</th>\n",
       "      <td>http://www.malteser-kliniken-rhein-ruhr.de/med...</td>\n",
       "      <td>107</td>\n",
       "      <td>2</td>\n",
       "      <td>&lt;!DOCTYPE html&gt;\\n&lt;html lang=\"de\"&gt;\\n&lt;head&gt;\\n\\n&lt;...</td>\n",
       "    </tr>\n",
       "    <tr>\n",
       "      <th>45</th>\n",
       "      <td>http://www.klilu.de/medizin__pflege/kliniken_u...</td>\n",
       "      <td>73</td>\n",
       "      <td>2</td>\n",
       "      <td>&lt;!DOCTYPE html&gt;\\n&lt;html lang=\"de\"&gt;&lt;head&gt;\\n\\t&lt;me...</td>\n",
       "    </tr>\n",
       "    <tr>\n",
       "      <th>44</th>\n",
       "      <td>http://www.kk-bochum.de/de/kliniken_zentren_be...</td>\n",
       "      <td>72</td>\n",
       "      <td>1</td>\n",
       "      <td>&lt;!DOCTYPE html PUBLIC \"-//W3C//DTD HTML 4.01 T...</td>\n",
       "    </tr>\n",
       "    <tr>\n",
       "      <th>39</th>\n",
       "      <td>http://www.gesundheit-nordhessen.de/klinikum-k...</td>\n",
       "      <td>57</td>\n",
       "      <td>3</td>\n",
       "      <td>&lt;!DOCTYPE html&gt;\\n&lt;!--[if lt IE 7 ]&gt;&lt;html dir=\"...</td>\n",
       "    </tr>\n",
       "    <tr>\n",
       "      <th>22</th>\n",
       "      <td>http://stereotaxie.uk-koeln.de/erkrankungen-th...</td>\n",
       "      <td>28</td>\n",
       "      <td>2</td>\n",
       "      <td>&lt;!DOCTYPE html&gt; &lt;html class=\"no-js\"&gt; &lt;head&gt; &lt;m...</td>\n",
       "    </tr>\n",
       "    <tr>\n",
       "      <th>80</th>\n",
       "      <td>http://www.neurochirurgie.uk-erlangen.de/forsc...</td>\n",
       "      <td>120</td>\n",
       "      <td>1</td>\n",
       "      <td>&lt;!DOCTYPE html&gt;\\n&lt;html class=\"no-js\"&gt;\\n&lt;meta h...</td>\n",
       "    </tr>\n",
       "    <tr>\n",
       "      <th>10</th>\n",
       "      <td>http://krebszentrum.kreiskliniken-reutlingen.d...</td>\n",
       "      <td>13</td>\n",
       "      <td>2</td>\n",
       "      <td>&lt;!DOCTYPE html PUBLIC \"-//W3C//DTD XHTML 1.0 T...</td>\n",
       "    </tr>\n",
       "    <tr>\n",
       "      <th>0</th>\n",
       "      <td>http://elbe-elster-klinikum.de/fachbereiche/ch...</td>\n",
       "      <td>1</td>\n",
       "      <td>1</td>\n",
       "      <td>&lt;!DOCTYPE html&gt;\\n&lt;!-- jsn_reta_pro 1.0.2 --&gt;\\n...</td>\n",
       "    </tr>\n",
       "  </tbody>\n",
       "</table>\n",
       "</div>"
      ],
      "text/plain": [
       "                                                  url  doc_id  label  \\\n",
       "83  http://www.sbk-vs.de/de/medizin/leistungen-und...     125      1   \n",
       "53  http://www.klinikum-esslingen.de/kliniken-und-...      85      2   \n",
       "70  http://www.malteser-kliniken-rhein-ruhr.de/med...     107      2   \n",
       "45  http://www.klilu.de/medizin__pflege/kliniken_u...      73      2   \n",
       "44  http://www.kk-bochum.de/de/kliniken_zentren_be...      72      1   \n",
       "39  http://www.gesundheit-nordhessen.de/klinikum-k...      57      3   \n",
       "22  http://stereotaxie.uk-koeln.de/erkrankungen-th...      28      2   \n",
       "80  http://www.neurochirurgie.uk-erlangen.de/forsc...     120      1   \n",
       "10  http://krebszentrum.kreiskliniken-reutlingen.d...      13      2   \n",
       "0   http://elbe-elster-klinikum.de/fachbereiche/ch...       1      1   \n",
       "\n",
       "                                                 html  \n",
       "83  \\n\\n<!DOCTYPE HTML>\\n<html dir=\"ltr\" lang=\"de_...  \n",
       "53  <!DOCTYPE html>\\n<html xmlns=\"http://www.w3.or...  \n",
       "70  <!DOCTYPE html>\\n<html lang=\"de\">\\n<head>\\n\\n<...  \n",
       "45  <!DOCTYPE html>\\n<html lang=\"de\"><head>\\n\\t<me...  \n",
       "44  <!DOCTYPE html PUBLIC \"-//W3C//DTD HTML 4.01 T...  \n",
       "39  <!DOCTYPE html>\\n<!--[if lt IE 7 ]><html dir=\"...  \n",
       "22  <!DOCTYPE html> <html class=\"no-js\"> <head> <m...  \n",
       "80  <!DOCTYPE html>\\n<html class=\"no-js\">\\n<meta h...  \n",
       "10  <!DOCTYPE html PUBLIC \"-//W3C//DTD XHTML 1.0 T...  \n",
       "0   <!DOCTYPE html>\\n<!-- jsn_reta_pro 1.0.2 -->\\n...  "
      ]
     },
     "execution_count": 6,
     "metadata": {},
     "output_type": "execute_result"
    }
   ],
   "source": [
    "train_df.sample(n = 10, random_state = 42)"
   ]
  },
  {
   "cell_type": "markdown",
   "id": "b3800c76-0751-4b9a-8d0e-262b2a5ce47d",
   "metadata": {},
   "source": [
    "### Parsing the HTML Content\n",
    "\n",
    "+ Use the package BeautifulSoup to parse through the HTML content for the data we need\n",
    "+ On top of BeautifulSoup, we will use the a proper HMTL parser, which is the lxml library\n",
    "+ Build a function that extracts the text"
   ]
  },
  {
   "cell_type": "code",
   "execution_count": 7,
   "id": "0da378cf-fa8f-4d7a-abeb-13bb1a2fd091",
   "metadata": {},
   "outputs": [],
   "source": [
    "import warnings\n",
    "\n",
    "from bs4 import BeautifulSoup\n",
    "\n",
    "# filtering warning messages\n",
    "warnings.filterwarnings(action = \"ignore\")\n",
    "\n",
    "# defining a function to extract text from HTML\n",
    "def extract_html(html: str) -> str:\n",
    "    # creating a beautiful soup object and parsing the HTML\n",
    "    bs = BeautifulSoup(markup = html, features = 'lxml')\n",
    "    # removing script and style tags\n",
    "    for script in bs(name = ['script', 'style']):\n",
    "        script.decompose()\n",
    "    # getting the text content after removing script style tags\n",
    "    return bs.get_text(separator = \"\")\n",
    "\n",
    "# applying the extract html function to the html column\n",
    "train_df['html_text'] = train_df['html'].apply(extract_html)"
   ]
  },
  {
   "cell_type": "code",
   "execution_count": 8,
   "id": "6c12b225-f64b-4d39-bf83-30beafe71264",
   "metadata": {},
   "outputs": [
    {
     "data": {
      "text/html": [
       "<div>\n",
       "<style scoped>\n",
       "    .dataframe tbody tr th:only-of-type {\n",
       "        vertical-align: middle;\n",
       "    }\n",
       "\n",
       "    .dataframe tbody tr th {\n",
       "        vertical-align: top;\n",
       "    }\n",
       "\n",
       "    .dataframe thead th {\n",
       "        text-align: right;\n",
       "    }\n",
       "</style>\n",
       "<table border=\"1\" class=\"dataframe\">\n",
       "  <thead>\n",
       "    <tr style=\"text-align: right;\">\n",
       "      <th></th>\n",
       "      <th>url</th>\n",
       "      <th>doc_id</th>\n",
       "      <th>label</th>\n",
       "      <th>html</th>\n",
       "      <th>html_text</th>\n",
       "    </tr>\n",
       "  </thead>\n",
       "  <tbody>\n",
       "    <tr>\n",
       "      <th>83</th>\n",
       "      <td>http://www.sbk-vs.de/de/medizin/leistungen-und...</td>\n",
       "      <td>125</td>\n",
       "      <td>1</td>\n",
       "      <td>\\n\\n&lt;!DOCTYPE HTML&gt;\\n&lt;html dir=\"ltr\" lang=\"de_...</td>\n",
       "      <td>\\n\\n\\n\\n\\nProstata-Karzinom-Zentrum - Schwarzw...</td>\n",
       "    </tr>\n",
       "    <tr>\n",
       "      <th>53</th>\n",
       "      <td>http://www.klinikum-esslingen.de/kliniken-und-...</td>\n",
       "      <td>85</td>\n",
       "      <td>2</td>\n",
       "      <td>&lt;!DOCTYPE html&gt;\\n&lt;html xmlns=\"http://www.w3.or...</td>\n",
       "      <td>\\n\\n\\n\\n\\n\\n\\n\\n\\n\\n\\n\\n\\n\\n\\n\\n\\n\\n\\n\\n\\n\\n\\n...</td>\n",
       "    </tr>\n",
       "    <tr>\n",
       "      <th>70</th>\n",
       "      <td>http://www.malteser-kliniken-rhein-ruhr.de/med...</td>\n",
       "      <td>107</td>\n",
       "      <td>2</td>\n",
       "      <td>&lt;!DOCTYPE html&gt;\\n&lt;html lang=\"de\"&gt;\\n&lt;head&gt;\\n\\n&lt;...</td>\n",
       "      <td>\\n\\n\\n\\n\\n\\n\\n\\n\\n\\n\\n\\n\\n\\n\\n\\n\\n\\n\\n\\n\\n\\n\\n...</td>\n",
       "    </tr>\n",
       "    <tr>\n",
       "      <th>45</th>\n",
       "      <td>http://www.klilu.de/medizin__pflege/kliniken_u...</td>\n",
       "      <td>73</td>\n",
       "      <td>2</td>\n",
       "      <td>&lt;!DOCTYPE html&gt;\\n&lt;html lang=\"de\"&gt;&lt;head&gt;\\n\\t&lt;me...</td>\n",
       "      <td>\\n\\n\\n\\nDarmzentrum Rheinpfalz » Zentren A-Z »...</td>\n",
       "    </tr>\n",
       "    <tr>\n",
       "      <th>44</th>\n",
       "      <td>http://www.kk-bochum.de/de/kliniken_zentren_be...</td>\n",
       "      <td>72</td>\n",
       "      <td>1</td>\n",
       "      <td>&lt;!DOCTYPE html PUBLIC \"-//W3C//DTD HTML 4.01 T...</td>\n",
       "      <td>\\n\\n\\n\\n\\n\\n\\n\\n\\n\\n\\n\\n\\n\\n\\n\\n\\n\\n\\n\\n\\n\\n\\n...</td>\n",
       "    </tr>\n",
       "    <tr>\n",
       "      <th>39</th>\n",
       "      <td>http://www.gesundheit-nordhessen.de/klinikum-k...</td>\n",
       "      <td>57</td>\n",
       "      <td>3</td>\n",
       "      <td>&lt;!DOCTYPE html&gt;\\n&lt;!--[if lt IE 7 ]&gt;&lt;html dir=\"...</td>\n",
       "      <td>\\n\\n\\n\\n\\n\\nInterdisziplinÃ¤re Zusammenarbeit ...</td>\n",
       "    </tr>\n",
       "    <tr>\n",
       "      <th>22</th>\n",
       "      <td>http://stereotaxie.uk-koeln.de/erkrankungen-th...</td>\n",
       "      <td>28</td>\n",
       "      <td>2</td>\n",
       "      <td>&lt;!DOCTYPE html&gt; &lt;html class=\"no-js\"&gt; &lt;head&gt; &lt;m...</td>\n",
       "      <td>Radiochirurgie - Hirntumore - Erkrank...</td>\n",
       "    </tr>\n",
       "    <tr>\n",
       "      <th>80</th>\n",
       "      <td>http://www.neurochirurgie.uk-erlangen.de/forsc...</td>\n",
       "      <td>120</td>\n",
       "      <td>1</td>\n",
       "      <td>&lt;!DOCTYPE html&gt;\\n&lt;html class=\"no-js\"&gt;\\n&lt;meta h...</td>\n",
       "      <td>\\n\\n\\n\\n\\nNeurochirurgie\\n\\n\\n\\n\\n\\n\\n\\n\\n\\n\\n...</td>\n",
       "    </tr>\n",
       "    <tr>\n",
       "      <th>10</th>\n",
       "      <td>http://krebszentrum.kreiskliniken-reutlingen.d...</td>\n",
       "      <td>13</td>\n",
       "      <td>2</td>\n",
       "      <td>&lt;!DOCTYPE html PUBLIC \"-//W3C//DTD XHTML 1.0 T...</td>\n",
       "      <td>\\n\\n\\nKrebszentrum Reutlingen: Zentrale Einric...</td>\n",
       "    </tr>\n",
       "    <tr>\n",
       "      <th>0</th>\n",
       "      <td>http://elbe-elster-klinikum.de/fachbereiche/ch...</td>\n",
       "      <td>1</td>\n",
       "      <td>1</td>\n",
       "      <td>&lt;!DOCTYPE html&gt;\\n&lt;!-- jsn_reta_pro 1.0.2 --&gt;\\n...</td>\n",
       "      <td>\\n\\n\\n\\n\\n\\nElbe-Elster Klinikum - Chirurgie F...</td>\n",
       "    </tr>\n",
       "  </tbody>\n",
       "</table>\n",
       "</div>"
      ],
      "text/plain": [
       "                                                  url  doc_id  label  \\\n",
       "83  http://www.sbk-vs.de/de/medizin/leistungen-und...     125      1   \n",
       "53  http://www.klinikum-esslingen.de/kliniken-und-...      85      2   \n",
       "70  http://www.malteser-kliniken-rhein-ruhr.de/med...     107      2   \n",
       "45  http://www.klilu.de/medizin__pflege/kliniken_u...      73      2   \n",
       "44  http://www.kk-bochum.de/de/kliniken_zentren_be...      72      1   \n",
       "39  http://www.gesundheit-nordhessen.de/klinikum-k...      57      3   \n",
       "22  http://stereotaxie.uk-koeln.de/erkrankungen-th...      28      2   \n",
       "80  http://www.neurochirurgie.uk-erlangen.de/forsc...     120      1   \n",
       "10  http://krebszentrum.kreiskliniken-reutlingen.d...      13      2   \n",
       "0   http://elbe-elster-klinikum.de/fachbereiche/ch...       1      1   \n",
       "\n",
       "                                                 html  \\\n",
       "83  \\n\\n<!DOCTYPE HTML>\\n<html dir=\"ltr\" lang=\"de_...   \n",
       "53  <!DOCTYPE html>\\n<html xmlns=\"http://www.w3.or...   \n",
       "70  <!DOCTYPE html>\\n<html lang=\"de\">\\n<head>\\n\\n<...   \n",
       "45  <!DOCTYPE html>\\n<html lang=\"de\"><head>\\n\\t<me...   \n",
       "44  <!DOCTYPE html PUBLIC \"-//W3C//DTD HTML 4.01 T...   \n",
       "39  <!DOCTYPE html>\\n<!--[if lt IE 7 ]><html dir=\"...   \n",
       "22  <!DOCTYPE html> <html class=\"no-js\"> <head> <m...   \n",
       "80  <!DOCTYPE html>\\n<html class=\"no-js\">\\n<meta h...   \n",
       "10  <!DOCTYPE html PUBLIC \"-//W3C//DTD XHTML 1.0 T...   \n",
       "0   <!DOCTYPE html>\\n<!-- jsn_reta_pro 1.0.2 -->\\n...   \n",
       "\n",
       "                                            html_text  \n",
       "83  \\n\\n\\n\\n\\nProstata-Karzinom-Zentrum - Schwarzw...  \n",
       "53  \\n\\n\\n\\n\\n\\n\\n\\n\\n\\n\\n\\n\\n\\n\\n\\n\\n\\n\\n\\n\\n\\n\\n...  \n",
       "70  \\n\\n\\n\\n\\n\\n\\n\\n\\n\\n\\n\\n\\n\\n\\n\\n\\n\\n\\n\\n\\n\\n\\n...  \n",
       "45  \\n\\n\\n\\nDarmzentrum Rheinpfalz » Zentren A-Z »...  \n",
       "44  \\n\\n\\n\\n\\n\\n\\n\\n\\n\\n\\n\\n\\n\\n\\n\\n\\n\\n\\n\\n\\n\\n\\n...  \n",
       "39  \\n\\n\\n\\n\\n\\nInterdisziplinÃ¤re Zusammenarbeit ...  \n",
       "22           Radiochirurgie - Hirntumore - Erkrank...  \n",
       "80  \\n\\n\\n\\n\\nNeurochirurgie\\n\\n\\n\\n\\n\\n\\n\\n\\n\\n\\n...  \n",
       "10  \\n\\n\\nKrebszentrum Reutlingen: Zentrale Einric...  \n",
       "0   \\n\\n\\n\\n\\n\\nElbe-Elster Klinikum - Chirurgie F...  "
      ]
     },
     "execution_count": 8,
     "metadata": {},
     "output_type": "execute_result"
    }
   ],
   "source": [
    "# displaying the dataframe to ensure the function worked appropriately\n",
    "train_df.sample(n = 10, random_state = 42)"
   ]
  },
  {
   "cell_type": "markdown",
   "id": "49c4227a-e7cb-4ee7-8321-a3581829a5e0",
   "metadata": {},
   "source": [
    "### Next Steps\n",
    "\n",
    "+ The HTML text has been extracted but it contrains a lot of new line symbols (\\n)\n",
    "+ In order to remove these characters from the html_text, the text must be cleaned or preprocessed\n",
    "+ Since we are looking to keyword detections, remove any other unnecessary characters\n",
    "+ Write a function to remove non-alphanumeric characters, multiple whitespaces and numerical characters\n",
    "+ We will also remove any stop words\n",
    "\n",
    "### How the function will work in steps\n",
    "\n",
    "1. Strips all non-alphanumerical characters\n",
    "2. Strips all multiple whitespaces\n",
    "3. Strips all punctuation\n",
    "4. Strips all numerical characters\n",
    "5. Converts to lowercase and then stems the text\n",
    "6. Removes all stop-words\n",
    "\n",
    "### What does stop words mean?\n",
    "\n",
    "+ Stop words are common words that occur frequently in a language, but are not very informative or meaningful for natural language processing tasks. Examples of stop words in English include words like \"the\", \"a\", \"an\", \"and\", \"in\", \"of\", \"to\", etc\n",
    "\n",
    "### Once that is completed\n",
    "\n",
    "+ Once the chracters aforementioned are removed, the next step is to perform an Exploratory Data Analysis of the dataset"
   ]
  },
  {
   "cell_type": "code",
   "execution_count": 9,
   "id": "78a19aea-75ac-4b09-9ba0-2fff8ee2f682",
   "metadata": {},
   "outputs": [],
   "source": [
    "import re\n",
    "from nltk.stem.snowball import SnowballStemmer\n",
    "from nltk.corpus import stopwords\n",
    "\n",
    "def preprocess_html_text(html_text: str) -> str:\n",
    "    stemmer = SnowballStemmer(\"english\")         # initializing Snowball stemmer for English language\n",
    "    stop_words = stopwords.words('english')      # getting english stop words\n",
    "    text = html_text.lower()                     # converting the text to lower case\n",
    "    text = re.sub(r'\\W', ' ', text)              # replace non-alphanumeric characters with whitespace\n",
    "    text = re.sub(r'\\s+', ' ', text)             # # replace multiple whitespaces with single whitespace\n",
    "    text = re.sub(r'\\d+', '', text)              # # remove numerical characters\n",
    "    tokens = text.split()                        # splitting and tokenizing the text\n",
    "    tokens = [stemmer.stem(token) for token in tokens if token not in stop_words]  # apply stemming and remove stop words through a list comprehension\n",
    "    return \" \".join(tokens)                      # join the tokens back together to form the preprocessed text\n",
    "\n",
    "# applying function to the html_text column and storing the preprocessed text in a new column\n",
    "train_df['preprocessed_text'] = train_df['html_text'].apply(preprocess_html_text)"
   ]
  },
  {
   "cell_type": "code",
   "execution_count": 10,
   "id": "cf99d5d9-50bf-4ff3-84d3-7d0d84622c16",
   "metadata": {},
   "outputs": [
    {
     "data": {
      "text/html": [
       "<div>\n",
       "<style scoped>\n",
       "    .dataframe tbody tr th:only-of-type {\n",
       "        vertical-align: middle;\n",
       "    }\n",
       "\n",
       "    .dataframe tbody tr th {\n",
       "        vertical-align: top;\n",
       "    }\n",
       "\n",
       "    .dataframe thead th {\n",
       "        text-align: right;\n",
       "    }\n",
       "</style>\n",
       "<table border=\"1\" class=\"dataframe\">\n",
       "  <thead>\n",
       "    <tr style=\"text-align: right;\">\n",
       "      <th></th>\n",
       "      <th>url</th>\n",
       "      <th>doc_id</th>\n",
       "      <th>label</th>\n",
       "      <th>html</th>\n",
       "      <th>html_text</th>\n",
       "      <th>preprocessed_text</th>\n",
       "    </tr>\n",
       "  </thead>\n",
       "  <tbody>\n",
       "    <tr>\n",
       "      <th>83</th>\n",
       "      <td>http://www.sbk-vs.de/de/medizin/leistungen-und...</td>\n",
       "      <td>125</td>\n",
       "      <td>1</td>\n",
       "      <td>\\n\\n&lt;!DOCTYPE HTML&gt;\\n&lt;html dir=\"ltr\" lang=\"de_...</td>\n",
       "      <td>\\n\\n\\n\\n\\nProstata-Karzinom-Zentrum - Schwarzw...</td>\n",
       "      <td>prostata karzinom zentrum schwarzwald baar kli...</td>\n",
       "    </tr>\n",
       "    <tr>\n",
       "      <th>53</th>\n",
       "      <td>http://www.klinikum-esslingen.de/kliniken-und-...</td>\n",
       "      <td>85</td>\n",
       "      <td>2</td>\n",
       "      <td>&lt;!DOCTYPE html&gt;\\n&lt;html xmlns=\"http://www.w3.or...</td>\n",
       "      <td>\\n\\n\\n\\n\\n\\n\\n\\n\\n\\n\\n\\n\\n\\n\\n\\n\\n\\n\\n\\n\\n\\n\\n...</td>\n",
       "      <td>unser profil gefã ã und thoraxchirurgi kliniku...</td>\n",
       "    </tr>\n",
       "    <tr>\n",
       "      <th>70</th>\n",
       "      <td>http://www.malteser-kliniken-rhein-ruhr.de/med...</td>\n",
       "      <td>107</td>\n",
       "      <td>2</td>\n",
       "      <td>&lt;!DOCTYPE html&gt;\\n&lt;html lang=\"de\"&gt;\\n&lt;head&gt;\\n\\n&lt;...</td>\n",
       "      <td>\\n\\n\\n\\n\\n\\n\\n\\n\\n\\n\\n\\n\\n\\n\\n\\n\\n\\n\\n\\n\\n\\n\\n...</td>\n",
       "      <td>maltes kliniken rhein ruhr darmzentrum duisbur...</td>\n",
       "    </tr>\n",
       "    <tr>\n",
       "      <th>45</th>\n",
       "      <td>http://www.klilu.de/medizin__pflege/kliniken_u...</td>\n",
       "      <td>73</td>\n",
       "      <td>2</td>\n",
       "      <td>&lt;!DOCTYPE html&gt;\\n&lt;html lang=\"de\"&gt;&lt;head&gt;\\n\\t&lt;me...</td>\n",
       "      <td>\\n\\n\\n\\nDarmzentrum Rheinpfalz » Zentren A-Z »...</td>\n",
       "      <td>darmzentrum rheinpfalz zentren z kliniken und ...</td>\n",
       "    </tr>\n",
       "    <tr>\n",
       "      <th>44</th>\n",
       "      <td>http://www.kk-bochum.de/de/kliniken_zentren_be...</td>\n",
       "      <td>72</td>\n",
       "      <td>1</td>\n",
       "      <td>&lt;!DOCTYPE html PUBLIC \"-//W3C//DTD HTML 4.01 T...</td>\n",
       "      <td>\\n\\n\\n\\n\\n\\n\\n\\n\\n\\n\\n\\n\\n\\n\\n\\n\\n\\n\\n\\n\\n\\n\\n...</td>\n",
       "      <td>mund kiefer und plastisch gesichtschirurgi de ...</td>\n",
       "    </tr>\n",
       "  </tbody>\n",
       "</table>\n",
       "</div>"
      ],
      "text/plain": [
       "                                                  url  doc_id  label  \\\n",
       "83  http://www.sbk-vs.de/de/medizin/leistungen-und...     125      1   \n",
       "53  http://www.klinikum-esslingen.de/kliniken-und-...      85      2   \n",
       "70  http://www.malteser-kliniken-rhein-ruhr.de/med...     107      2   \n",
       "45  http://www.klilu.de/medizin__pflege/kliniken_u...      73      2   \n",
       "44  http://www.kk-bochum.de/de/kliniken_zentren_be...      72      1   \n",
       "\n",
       "                                                 html  \\\n",
       "83  \\n\\n<!DOCTYPE HTML>\\n<html dir=\"ltr\" lang=\"de_...   \n",
       "53  <!DOCTYPE html>\\n<html xmlns=\"http://www.w3.or...   \n",
       "70  <!DOCTYPE html>\\n<html lang=\"de\">\\n<head>\\n\\n<...   \n",
       "45  <!DOCTYPE html>\\n<html lang=\"de\"><head>\\n\\t<me...   \n",
       "44  <!DOCTYPE html PUBLIC \"-//W3C//DTD HTML 4.01 T...   \n",
       "\n",
       "                                            html_text  \\\n",
       "83  \\n\\n\\n\\n\\nProstata-Karzinom-Zentrum - Schwarzw...   \n",
       "53  \\n\\n\\n\\n\\n\\n\\n\\n\\n\\n\\n\\n\\n\\n\\n\\n\\n\\n\\n\\n\\n\\n\\n...   \n",
       "70  \\n\\n\\n\\n\\n\\n\\n\\n\\n\\n\\n\\n\\n\\n\\n\\n\\n\\n\\n\\n\\n\\n\\n...   \n",
       "45  \\n\\n\\n\\nDarmzentrum Rheinpfalz » Zentren A-Z »...   \n",
       "44  \\n\\n\\n\\n\\n\\n\\n\\n\\n\\n\\n\\n\\n\\n\\n\\n\\n\\n\\n\\n\\n\\n\\n...   \n",
       "\n",
       "                                    preprocessed_text  \n",
       "83  prostata karzinom zentrum schwarzwald baar kli...  \n",
       "53  unser profil gefã ã und thoraxchirurgi kliniku...  \n",
       "70  maltes kliniken rhein ruhr darmzentrum duisbur...  \n",
       "45  darmzentrum rheinpfalz zentren z kliniken und ...  \n",
       "44  mund kiefer und plastisch gesichtschirurgi de ...  "
      ]
     },
     "execution_count": 10,
     "metadata": {},
     "output_type": "execute_result"
    }
   ],
   "source": [
    "# displaying dataframe to ensure the preprocessing was successful\n",
    "train_df.sample(n = 5, random_state = 42)"
   ]
  },
  {
   "cell_type": "markdown",
   "id": "6f3db34d-e71d-45fb-aa8d-a6cff05ace7c",
   "metadata": {},
   "source": [
    "## Exploratory Data Analysis\n",
    "\n",
    "#### Questions to address\n",
    "\n",
    "+ What is the average length of characters per text? \n",
    "+ What about average amount of words per text?\n",
    "+ Since we are building a model to detect key words, unique words are important. What does that distribution look like?\n",
    "\n",
    "\n",
    "#### Takeaways \n",
    "\n",
    "+ Are there any outliers?\n",
    "+ Can we draw assumptions on the data by looking at some visuals?\n",
    "\n",
    "#### Approach\n",
    "\n",
    "+ Apply the .len function to preprocessed text to count the total number of characters per article and store it in a new column\n",
    "+ Use the 'str' accessor to split the text directly and applying the .len function to calculate numbers of words per article and store it in a new column"
   ]
  },
  {
   "cell_type": "code",
   "execution_count": 11,
   "id": "ed57d0a7-c441-4fa7-9a55-81e6fc044556",
   "metadata": {},
   "outputs": [
    {
     "data": {
      "text/html": [
       "        <script type=\"text/javascript\">\n",
       "        window.PlotlyConfig = {MathJaxConfig: 'local'};\n",
       "        if (window.MathJax && window.MathJax.Hub && window.MathJax.Hub.Config) {window.MathJax.Hub.Config({SVG: {font: \"STIX-Web\"}});}\n",
       "        if (typeof require !== 'undefined') {\n",
       "        require.undef(\"plotly\");\n",
       "        requirejs.config({\n",
       "            paths: {\n",
       "                'plotly': ['https://cdn.plot.ly/plotly-2.16.1.min']\n",
       "            }\n",
       "        });\n",
       "        require(['plotly'], function(Plotly) {\n",
       "            window._Plotly = Plotly;\n",
       "        });\n",
       "        }\n",
       "        </script>\n",
       "        "
      ]
     },
     "metadata": {},
     "output_type": "display_data"
    }
   ],
   "source": [
    "# importing plotly\n",
    "import plotly.express as px\n",
    "import plotly.offline as pyo\n",
    "\n",
    "# set notebook mode to work in offline\n",
    "pyo.init_notebook_mode(connected=True)"
   ]
  },
  {
   "cell_type": "code",
   "execution_count": 12,
   "id": "fbbf880d-926a-4ffe-8d8b-614a02f02546",
   "metadata": {},
   "outputs": [
    {
     "data": {
      "text/html": [
       "<div>\n",
       "<style scoped>\n",
       "    .dataframe tbody tr th:only-of-type {\n",
       "        vertical-align: middle;\n",
       "    }\n",
       "\n",
       "    .dataframe tbody tr th {\n",
       "        vertical-align: top;\n",
       "    }\n",
       "\n",
       "    .dataframe thead th {\n",
       "        text-align: right;\n",
       "    }\n",
       "</style>\n",
       "<table border=\"1\" class=\"dataframe\">\n",
       "  <thead>\n",
       "    <tr style=\"text-align: right;\">\n",
       "      <th></th>\n",
       "      <th>url</th>\n",
       "      <th>doc_id</th>\n",
       "      <th>label</th>\n",
       "      <th>html</th>\n",
       "      <th>html_text</th>\n",
       "      <th>preprocessed_text</th>\n",
       "      <th>character count</th>\n",
       "      <th>word count</th>\n",
       "      <th>unique word count</th>\n",
       "    </tr>\n",
       "  </thead>\n",
       "  <tbody>\n",
       "    <tr>\n",
       "      <th>0</th>\n",
       "      <td>http://elbe-elster-klinikum.de/fachbereiche/ch...</td>\n",
       "      <td>1</td>\n",
       "      <td>1</td>\n",
       "      <td>&lt;!DOCTYPE html&gt;\\n&lt;!-- jsn_reta_pro 1.0.2 --&gt;\\n...</td>\n",
       "      <td>\\n\\n\\n\\n\\n\\nElbe-Elster Klinikum - Chirurgie F...</td>\n",
       "      <td>elb elster klinikum chirurgi finsterwald suche...</td>\n",
       "      <td>8326</td>\n",
       "      <td>960</td>\n",
       "      <td>473</td>\n",
       "    </tr>\n",
       "    <tr>\n",
       "      <th>1</th>\n",
       "      <td>http://klinikum-bayreuth.de/einrichtungen/zent...</td>\n",
       "      <td>3</td>\n",
       "      <td>3</td>\n",
       "      <td>&lt;!DOCTYPE html&gt;\\n&lt;html class=\"no-js\" lang=\"de\"...</td>\n",
       "      <td>\\n\\n\\n\\n\\n\\n\\nOnkologisches Zentrum - Klinikum...</td>\n",
       "      <td>onkologisch zentrum klinikum bayreuth aktuel ã...</td>\n",
       "      <td>22752</td>\n",
       "      <td>2742</td>\n",
       "      <td>926</td>\n",
       "    </tr>\n",
       "    <tr>\n",
       "      <th>2</th>\n",
       "      <td>http://klinikum-braunschweig.de/info.php/?id_o...</td>\n",
       "      <td>4</td>\n",
       "      <td>1</td>\n",
       "      <td>&lt;!doctype html&gt;\\n&lt;html lang=\"de\"&gt;\\n&lt;head&gt;\\n\\t&lt;...</td>\n",
       "      <td>\\n\\nZentrum - SozialpÃ¤diatrisches Zentrum - S...</td>\n",
       "      <td>zentrum sozialpã diatrisch zentrum stã dtisch ...</td>\n",
       "      <td>9021</td>\n",
       "      <td>1062</td>\n",
       "      <td>529</td>\n",
       "    </tr>\n",
       "    <tr>\n",
       "      <th>3</th>\n",
       "      <td>http://klinikum-braunschweig.de/info.php/?id_o...</td>\n",
       "      <td>5</td>\n",
       "      <td>1</td>\n",
       "      <td>&lt;!doctype html&gt;\\n&lt;html lang=\"de\"&gt;\\n&lt;head&gt;\\n\\t&lt;...</td>\n",
       "      <td>\\n\\nLeistung - Spezielle UnterstÃ¼tzung bei de...</td>\n",
       "      <td>leistung speziell unterstã¼tzung bei der anmel...</td>\n",
       "      <td>4052</td>\n",
       "      <td>414</td>\n",
       "      <td>252</td>\n",
       "    </tr>\n",
       "    <tr>\n",
       "      <th>4</th>\n",
       "      <td>http://klinikum-braunschweig.de/zuweiser/tumor...</td>\n",
       "      <td>6</td>\n",
       "      <td>3</td>\n",
       "      <td>&lt;!doctype html&gt;\\n&lt;html lang=\"de\"&gt;\\n&lt;head&gt;\\n\\t&lt;...</td>\n",
       "      <td>\\n\\nZuweiser - Tumorkonferenzen - Tumorkonfere...</td>\n",
       "      <td>zuweis tumorkonferenzen tumorkonferenz gastroi...</td>\n",
       "      <td>4378</td>\n",
       "      <td>434</td>\n",
       "      <td>219</td>\n",
       "    </tr>\n",
       "    <tr>\n",
       "      <th>...</th>\n",
       "      <td>...</td>\n",
       "      <td>...</td>\n",
       "      <td>...</td>\n",
       "      <td>...</td>\n",
       "      <td>...</td>\n",
       "      <td>...</td>\n",
       "      <td>...</td>\n",
       "      <td>...</td>\n",
       "      <td>...</td>\n",
       "    </tr>\n",
       "    <tr>\n",
       "      <th>95</th>\n",
       "      <td>http://www.unicross.uni-freiburg.de/thema/unifm/</td>\n",
       "      <td>140</td>\n",
       "      <td>1</td>\n",
       "      <td>&lt;!DOCTYPE html&gt;\\n&lt;html lang=\"de-DE\"\\nprefix=\"o...</td>\n",
       "      <td>\\n\\n\\n\\n\\n\\n\\n\\n\\n\\n\\nuniFM | uniCROSS\\n\\n\\n\\n...</td>\n",
       "      <td>unifm unicross news magazin theme home wir mac...</td>\n",
       "      <td>176782</td>\n",
       "      <td>27209</td>\n",
       "      <td>6904</td>\n",
       "    </tr>\n",
       "    <tr>\n",
       "      <th>96</th>\n",
       "      <td>http://www.uniklinik-duesseldorf.de/patienten-...</td>\n",
       "      <td>141</td>\n",
       "      <td>1</td>\n",
       "      <td>&lt;!DOCTYPE html&gt;\\n&lt;html class=\"no-js\" lang=\"de\"...</td>\n",
       "      <td>\\n\\n\\n\\n\\n\\n\\n\\n\\n\\n\\n\\n\\n\\n\\n\\n\\n\\n\\nInterdis...</td>\n",
       "      <td>interdisziplinã neurovaskulã konferenz ǀ ukd j...</td>\n",
       "      <td>7046</td>\n",
       "      <td>835</td>\n",
       "      <td>452</td>\n",
       "    </tr>\n",
       "    <tr>\n",
       "      <th>97</th>\n",
       "      <td>http://www.vivantes.de/fuer-sie-vor-ort/klinik...</td>\n",
       "      <td>144</td>\n",
       "      <td>2</td>\n",
       "      <td>&lt;!DOCTYPE html&gt;\\n\\n&lt;html class=\"no-js\" lang=\"d...</td>\n",
       "      <td>\\n\\n\\n\\n\\n\\n\\n\\n\\n\\n\\n\\nFÃ¼r Ãrzte | Vivantes...</td>\n",
       "      <td>fã¼r ã rzte vivant javascript scheint ihrem br...</td>\n",
       "      <td>13385</td>\n",
       "      <td>1613</td>\n",
       "      <td>447</td>\n",
       "    </tr>\n",
       "    <tr>\n",
       "      <th>98</th>\n",
       "      <td>http://www.vivantes.de/fuer-sie-vor-ort/klinik...</td>\n",
       "      <td>145</td>\n",
       "      <td>2</td>\n",
       "      <td>&lt;!DOCTYPE html&gt;\\n\\n&lt;html class=\"no-js\" lang=\"d...</td>\n",
       "      <td>\\n\\n\\n\\n\\n\\n\\n\\n\\n\\n\\n\\n\\n\\nInnere Medizin â...</td>\n",
       "      <td>inner medizin â hã matologi onkologi und palli...</td>\n",
       "      <td>15443</td>\n",
       "      <td>1882</td>\n",
       "      <td>584</td>\n",
       "    </tr>\n",
       "    <tr>\n",
       "      <th>99</th>\n",
       "      <td>http://www.walburga-krankenhaus.de/wk/artikel/...</td>\n",
       "      <td>146</td>\n",
       "      <td>1</td>\n",
       "      <td>&lt;!DOCTYPE html PUBLIC \"-//W3C//DTD XHTML 1.0 T...</td>\n",
       "      <td>\\n\\n\\nVersorgung von Krebspatienten stÃ¤rken |...</td>\n",
       "      <td>versorgung von krebspatienten stã rken st walb...</td>\n",
       "      <td>8665</td>\n",
       "      <td>1042</td>\n",
       "      <td>499</td>\n",
       "    </tr>\n",
       "  </tbody>\n",
       "</table>\n",
       "<p>100 rows × 9 columns</p>\n",
       "</div>"
      ],
      "text/plain": [
       "                                                  url  doc_id  label  \\\n",
       "0   http://elbe-elster-klinikum.de/fachbereiche/ch...       1      1   \n",
       "1   http://klinikum-bayreuth.de/einrichtungen/zent...       3      3   \n",
       "2   http://klinikum-braunschweig.de/info.php/?id_o...       4      1   \n",
       "3   http://klinikum-braunschweig.de/info.php/?id_o...       5      1   \n",
       "4   http://klinikum-braunschweig.de/zuweiser/tumor...       6      3   \n",
       "..                                                ...     ...    ...   \n",
       "95   http://www.unicross.uni-freiburg.de/thema/unifm/     140      1   \n",
       "96  http://www.uniklinik-duesseldorf.de/patienten-...     141      1   \n",
       "97  http://www.vivantes.de/fuer-sie-vor-ort/klinik...     144      2   \n",
       "98  http://www.vivantes.de/fuer-sie-vor-ort/klinik...     145      2   \n",
       "99  http://www.walburga-krankenhaus.de/wk/artikel/...     146      1   \n",
       "\n",
       "                                                 html  \\\n",
       "0   <!DOCTYPE html>\\n<!-- jsn_reta_pro 1.0.2 -->\\n...   \n",
       "1   <!DOCTYPE html>\\n<html class=\"no-js\" lang=\"de\"...   \n",
       "2   <!doctype html>\\n<html lang=\"de\">\\n<head>\\n\\t<...   \n",
       "3   <!doctype html>\\n<html lang=\"de\">\\n<head>\\n\\t<...   \n",
       "4   <!doctype html>\\n<html lang=\"de\">\\n<head>\\n\\t<...   \n",
       "..                                                ...   \n",
       "95  <!DOCTYPE html>\\n<html lang=\"de-DE\"\\nprefix=\"o...   \n",
       "96  <!DOCTYPE html>\\n<html class=\"no-js\" lang=\"de\"...   \n",
       "97  <!DOCTYPE html>\\n\\n<html class=\"no-js\" lang=\"d...   \n",
       "98  <!DOCTYPE html>\\n\\n<html class=\"no-js\" lang=\"d...   \n",
       "99  <!DOCTYPE html PUBLIC \"-//W3C//DTD XHTML 1.0 T...   \n",
       "\n",
       "                                            html_text  \\\n",
       "0   \\n\\n\\n\\n\\n\\nElbe-Elster Klinikum - Chirurgie F...   \n",
       "1   \\n\\n\\n\\n\\n\\n\\nOnkologisches Zentrum - Klinikum...   \n",
       "2   \\n\\nZentrum - SozialpÃ¤diatrisches Zentrum - S...   \n",
       "3   \\n\\nLeistung - Spezielle UnterstÃ¼tzung bei de...   \n",
       "4   \\n\\nZuweiser - Tumorkonferenzen - Tumorkonfere...   \n",
       "..                                                ...   \n",
       "95  \\n\\n\\n\\n\\n\\n\\n\\n\\n\\n\\nuniFM | uniCROSS\\n\\n\\n\\n...   \n",
       "96  \\n\\n\\n\\n\\n\\n\\n\\n\\n\\n\\n\\n\\n\\n\\n\\n\\n\\n\\nInterdis...   \n",
       "97  \\n\\n\\n\\n\\n\\n\\n\\n\\n\\n\\n\\nFÃ¼r Ãrzte | Vivantes...   \n",
       "98  \\n\\n\\n\\n\\n\\n\\n\\n\\n\\n\\n\\n\\n\\nInnere Medizin â...   \n",
       "99  \\n\\n\\nVersorgung von Krebspatienten stÃ¤rken |...   \n",
       "\n",
       "                                    preprocessed_text  character count  \\\n",
       "0   elb elster klinikum chirurgi finsterwald suche...             8326   \n",
       "1   onkologisch zentrum klinikum bayreuth aktuel ã...            22752   \n",
       "2   zentrum sozialpã diatrisch zentrum stã dtisch ...             9021   \n",
       "3   leistung speziell unterstã¼tzung bei der anmel...             4052   \n",
       "4   zuweis tumorkonferenzen tumorkonferenz gastroi...             4378   \n",
       "..                                                ...              ...   \n",
       "95  unifm unicross news magazin theme home wir mac...           176782   \n",
       "96  interdisziplinã neurovaskulã konferenz ǀ ukd j...             7046   \n",
       "97  fã¼r ã rzte vivant javascript scheint ihrem br...            13385   \n",
       "98  inner medizin â hã matologi onkologi und palli...            15443   \n",
       "99  versorgung von krebspatienten stã rken st walb...             8665   \n",
       "\n",
       "    word count  unique word count  \n",
       "0          960                473  \n",
       "1         2742                926  \n",
       "2         1062                529  \n",
       "3          414                252  \n",
       "4          434                219  \n",
       "..         ...                ...  \n",
       "95       27209               6904  \n",
       "96         835                452  \n",
       "97        1613                447  \n",
       "98        1882                584  \n",
       "99        1042                499  \n",
       "\n",
       "[100 rows x 9 columns]"
      ]
     },
     "execution_count": 12,
     "metadata": {},
     "output_type": "execute_result"
    }
   ],
   "source": [
    "# adding a new column counting the total number of characters\n",
    "train_df['character count'] = train_df['preprocessed_text'].apply(len)\n",
    "\n",
    "# also adding a new column counting to the total number of words in each article\n",
    "train_df['word count'] = train_df['preprocessed_text'].str.split().apply(len)\n",
    "\n",
    "# adding in unique words per article as well\n",
    "train_df['unique word count'] = train_df['preprocessed_text'].str.split().apply(set).apply(len)\n",
    "\n",
    "# displaying the dataframe to ensure it worked\n",
    "train_df"
   ]
  },
  {
   "cell_type": "code",
   "execution_count": 13,
   "id": "7d2f510a-2577-47a4-84c6-9d3e481b9a97",
   "metadata": {},
   "outputs": [
    {
     "data": {
      "application/vnd.plotly.v1+json": {
       "config": {
        "plotlyServerURL": "https://plot.ly"
       },
       "data": [
        {
         "alignmentgroup": "True",
         "bingroup": "x",
         "hovertemplate": "Character Count Grouped by 20K=%{x}<br>count=%{y}<extra></extra>",
         "legendgroup": "",
         "marker": {
          "color": "#636efa",
          "pattern": {
           "shape": ""
          }
         },
         "name": "",
         "offsetgroup": "",
         "orientation": "v",
         "showlegend": false,
         "type": "histogram",
         "x": [
          8326,
          22752,
          9021,
          4052,
          4378,
          2515,
          2664,
          1640,
          2118,
          2565,
          2760,
          9578,
          7768,
          7768,
          5721,
          5721,
          9440,
          9933,
          8132,
          3810,
          22796,
          36595,
          6508,
          7737,
          7317,
          18862,
          16688,
          31648,
          35282,
          9757,
          10627,
          31998,
          12225,
          16172,
          42519,
          3624,
          7128,
          4318,
          27788,
          4926,
          11673,
          6583,
          3831,
          4698,
          8250,
          4879,
          30671,
          41876,
          8577,
          2464,
          3897,
          3393,
          5953,
          5953,
          3362,
          3475,
          15984,
          14593,
          7290,
          33389,
          7498,
          13200,
          13900,
          15658,
          7875,
          3099,
          8597,
          6276,
          16478,
          15959,
          18305,
          15476,
          9383,
          3565,
          14272,
          7042,
          15753,
          9348,
          21581,
          9994,
          6736,
          6826,
          4695,
          12778,
          6371,
          4240,
          5972,
          5972,
          4511,
          4511,
          19137,
          5527,
          7170,
          19247,
          20684,
          176782,
          7046,
          13385,
          15443,
          8665
         ],
         "xaxis": "x",
         "yaxis": "y"
        }
       ],
       "layout": {
        "autosize": true,
        "barmode": "relative",
        "legend": {
         "tracegroupgap": 0
        },
        "template": {
         "data": {
          "bar": [
           {
            "error_x": {
             "color": "#2a3f5f"
            },
            "error_y": {
             "color": "#2a3f5f"
            },
            "marker": {
             "line": {
              "color": "#E5ECF6",
              "width": 0.5
             },
             "pattern": {
              "fillmode": "overlay",
              "size": 10,
              "solidity": 0.2
             }
            },
            "type": "bar"
           }
          ],
          "barpolar": [
           {
            "marker": {
             "line": {
              "color": "#E5ECF6",
              "width": 0.5
             },
             "pattern": {
              "fillmode": "overlay",
              "size": 10,
              "solidity": 0.2
             }
            },
            "type": "barpolar"
           }
          ],
          "carpet": [
           {
            "aaxis": {
             "endlinecolor": "#2a3f5f",
             "gridcolor": "white",
             "linecolor": "white",
             "minorgridcolor": "white",
             "startlinecolor": "#2a3f5f"
            },
            "baxis": {
             "endlinecolor": "#2a3f5f",
             "gridcolor": "white",
             "linecolor": "white",
             "minorgridcolor": "white",
             "startlinecolor": "#2a3f5f"
            },
            "type": "carpet"
           }
          ],
          "choropleth": [
           {
            "colorbar": {
             "outlinewidth": 0,
             "ticks": ""
            },
            "type": "choropleth"
           }
          ],
          "contour": [
           {
            "colorbar": {
             "outlinewidth": 0,
             "ticks": ""
            },
            "colorscale": [
             [
              0,
              "#0d0887"
             ],
             [
              0.1111111111111111,
              "#46039f"
             ],
             [
              0.2222222222222222,
              "#7201a8"
             ],
             [
              0.3333333333333333,
              "#9c179e"
             ],
             [
              0.4444444444444444,
              "#bd3786"
             ],
             [
              0.5555555555555556,
              "#d8576b"
             ],
             [
              0.6666666666666666,
              "#ed7953"
             ],
             [
              0.7777777777777778,
              "#fb9f3a"
             ],
             [
              0.8888888888888888,
              "#fdca26"
             ],
             [
              1,
              "#f0f921"
             ]
            ],
            "type": "contour"
           }
          ],
          "contourcarpet": [
           {
            "colorbar": {
             "outlinewidth": 0,
             "ticks": ""
            },
            "type": "contourcarpet"
           }
          ],
          "heatmap": [
           {
            "colorbar": {
             "outlinewidth": 0,
             "ticks": ""
            },
            "colorscale": [
             [
              0,
              "#0d0887"
             ],
             [
              0.1111111111111111,
              "#46039f"
             ],
             [
              0.2222222222222222,
              "#7201a8"
             ],
             [
              0.3333333333333333,
              "#9c179e"
             ],
             [
              0.4444444444444444,
              "#bd3786"
             ],
             [
              0.5555555555555556,
              "#d8576b"
             ],
             [
              0.6666666666666666,
              "#ed7953"
             ],
             [
              0.7777777777777778,
              "#fb9f3a"
             ],
             [
              0.8888888888888888,
              "#fdca26"
             ],
             [
              1,
              "#f0f921"
             ]
            ],
            "type": "heatmap"
           }
          ],
          "heatmapgl": [
           {
            "colorbar": {
             "outlinewidth": 0,
             "ticks": ""
            },
            "colorscale": [
             [
              0,
              "#0d0887"
             ],
             [
              0.1111111111111111,
              "#46039f"
             ],
             [
              0.2222222222222222,
              "#7201a8"
             ],
             [
              0.3333333333333333,
              "#9c179e"
             ],
             [
              0.4444444444444444,
              "#bd3786"
             ],
             [
              0.5555555555555556,
              "#d8576b"
             ],
             [
              0.6666666666666666,
              "#ed7953"
             ],
             [
              0.7777777777777778,
              "#fb9f3a"
             ],
             [
              0.8888888888888888,
              "#fdca26"
             ],
             [
              1,
              "#f0f921"
             ]
            ],
            "type": "heatmapgl"
           }
          ],
          "histogram": [
           {
            "marker": {
             "pattern": {
              "fillmode": "overlay",
              "size": 10,
              "solidity": 0.2
             }
            },
            "type": "histogram"
           }
          ],
          "histogram2d": [
           {
            "colorbar": {
             "outlinewidth": 0,
             "ticks": ""
            },
            "colorscale": [
             [
              0,
              "#0d0887"
             ],
             [
              0.1111111111111111,
              "#46039f"
             ],
             [
              0.2222222222222222,
              "#7201a8"
             ],
             [
              0.3333333333333333,
              "#9c179e"
             ],
             [
              0.4444444444444444,
              "#bd3786"
             ],
             [
              0.5555555555555556,
              "#d8576b"
             ],
             [
              0.6666666666666666,
              "#ed7953"
             ],
             [
              0.7777777777777778,
              "#fb9f3a"
             ],
             [
              0.8888888888888888,
              "#fdca26"
             ],
             [
              1,
              "#f0f921"
             ]
            ],
            "type": "histogram2d"
           }
          ],
          "histogram2dcontour": [
           {
            "colorbar": {
             "outlinewidth": 0,
             "ticks": ""
            },
            "colorscale": [
             [
              0,
              "#0d0887"
             ],
             [
              0.1111111111111111,
              "#46039f"
             ],
             [
              0.2222222222222222,
              "#7201a8"
             ],
             [
              0.3333333333333333,
              "#9c179e"
             ],
             [
              0.4444444444444444,
              "#bd3786"
             ],
             [
              0.5555555555555556,
              "#d8576b"
             ],
             [
              0.6666666666666666,
              "#ed7953"
             ],
             [
              0.7777777777777778,
              "#fb9f3a"
             ],
             [
              0.8888888888888888,
              "#fdca26"
             ],
             [
              1,
              "#f0f921"
             ]
            ],
            "type": "histogram2dcontour"
           }
          ],
          "mesh3d": [
           {
            "colorbar": {
             "outlinewidth": 0,
             "ticks": ""
            },
            "type": "mesh3d"
           }
          ],
          "parcoords": [
           {
            "line": {
             "colorbar": {
              "outlinewidth": 0,
              "ticks": ""
             }
            },
            "type": "parcoords"
           }
          ],
          "pie": [
           {
            "automargin": true,
            "type": "pie"
           }
          ],
          "scatter": [
           {
            "fillpattern": {
             "fillmode": "overlay",
             "size": 10,
             "solidity": 0.2
            },
            "type": "scatter"
           }
          ],
          "scatter3d": [
           {
            "line": {
             "colorbar": {
              "outlinewidth": 0,
              "ticks": ""
             }
            },
            "marker": {
             "colorbar": {
              "outlinewidth": 0,
              "ticks": ""
             }
            },
            "type": "scatter3d"
           }
          ],
          "scattercarpet": [
           {
            "marker": {
             "colorbar": {
              "outlinewidth": 0,
              "ticks": ""
             }
            },
            "type": "scattercarpet"
           }
          ],
          "scattergeo": [
           {
            "marker": {
             "colorbar": {
              "outlinewidth": 0,
              "ticks": ""
             }
            },
            "type": "scattergeo"
           }
          ],
          "scattergl": [
           {
            "marker": {
             "colorbar": {
              "outlinewidth": 0,
              "ticks": ""
             }
            },
            "type": "scattergl"
           }
          ],
          "scattermapbox": [
           {
            "marker": {
             "colorbar": {
              "outlinewidth": 0,
              "ticks": ""
             }
            },
            "type": "scattermapbox"
           }
          ],
          "scatterpolar": [
           {
            "marker": {
             "colorbar": {
              "outlinewidth": 0,
              "ticks": ""
             }
            },
            "type": "scatterpolar"
           }
          ],
          "scatterpolargl": [
           {
            "marker": {
             "colorbar": {
              "outlinewidth": 0,
              "ticks": ""
             }
            },
            "type": "scatterpolargl"
           }
          ],
          "scatterternary": [
           {
            "marker": {
             "colorbar": {
              "outlinewidth": 0,
              "ticks": ""
             }
            },
            "type": "scatterternary"
           }
          ],
          "surface": [
           {
            "colorbar": {
             "outlinewidth": 0,
             "ticks": ""
            },
            "colorscale": [
             [
              0,
              "#0d0887"
             ],
             [
              0.1111111111111111,
              "#46039f"
             ],
             [
              0.2222222222222222,
              "#7201a8"
             ],
             [
              0.3333333333333333,
              "#9c179e"
             ],
             [
              0.4444444444444444,
              "#bd3786"
             ],
             [
              0.5555555555555556,
              "#d8576b"
             ],
             [
              0.6666666666666666,
              "#ed7953"
             ],
             [
              0.7777777777777778,
              "#fb9f3a"
             ],
             [
              0.8888888888888888,
              "#fdca26"
             ],
             [
              1,
              "#f0f921"
             ]
            ],
            "type": "surface"
           }
          ],
          "table": [
           {
            "cells": {
             "fill": {
              "color": "#EBF0F8"
             },
             "line": {
              "color": "white"
             }
            },
            "header": {
             "fill": {
              "color": "#C8D4E3"
             },
             "line": {
              "color": "white"
             }
            },
            "type": "table"
           }
          ]
         },
         "layout": {
          "annotationdefaults": {
           "arrowcolor": "#2a3f5f",
           "arrowhead": 0,
           "arrowwidth": 1
          },
          "autotypenumbers": "strict",
          "coloraxis": {
           "colorbar": {
            "outlinewidth": 0,
            "ticks": ""
           }
          },
          "colorscale": {
           "diverging": [
            [
             0,
             "#8e0152"
            ],
            [
             0.1,
             "#c51b7d"
            ],
            [
             0.2,
             "#de77ae"
            ],
            [
             0.3,
             "#f1b6da"
            ],
            [
             0.4,
             "#fde0ef"
            ],
            [
             0.5,
             "#f7f7f7"
            ],
            [
             0.6,
             "#e6f5d0"
            ],
            [
             0.7,
             "#b8e186"
            ],
            [
             0.8,
             "#7fbc41"
            ],
            [
             0.9,
             "#4d9221"
            ],
            [
             1,
             "#276419"
            ]
           ],
           "sequential": [
            [
             0,
             "#0d0887"
            ],
            [
             0.1111111111111111,
             "#46039f"
            ],
            [
             0.2222222222222222,
             "#7201a8"
            ],
            [
             0.3333333333333333,
             "#9c179e"
            ],
            [
             0.4444444444444444,
             "#bd3786"
            ],
            [
             0.5555555555555556,
             "#d8576b"
            ],
            [
             0.6666666666666666,
             "#ed7953"
            ],
            [
             0.7777777777777778,
             "#fb9f3a"
            ],
            [
             0.8888888888888888,
             "#fdca26"
            ],
            [
             1,
             "#f0f921"
            ]
           ],
           "sequentialminus": [
            [
             0,
             "#0d0887"
            ],
            [
             0.1111111111111111,
             "#46039f"
            ],
            [
             0.2222222222222222,
             "#7201a8"
            ],
            [
             0.3333333333333333,
             "#9c179e"
            ],
            [
             0.4444444444444444,
             "#bd3786"
            ],
            [
             0.5555555555555556,
             "#d8576b"
            ],
            [
             0.6666666666666666,
             "#ed7953"
            ],
            [
             0.7777777777777778,
             "#fb9f3a"
            ],
            [
             0.8888888888888888,
             "#fdca26"
            ],
            [
             1,
             "#f0f921"
            ]
           ]
          },
          "colorway": [
           "#636efa",
           "#EF553B",
           "#00cc96",
           "#ab63fa",
           "#FFA15A",
           "#19d3f3",
           "#FF6692",
           "#B6E880",
           "#FF97FF",
           "#FECB52"
          ],
          "font": {
           "color": "#2a3f5f"
          },
          "geo": {
           "bgcolor": "white",
           "lakecolor": "white",
           "landcolor": "#E5ECF6",
           "showlakes": true,
           "showland": true,
           "subunitcolor": "white"
          },
          "hoverlabel": {
           "align": "left"
          },
          "hovermode": "closest",
          "mapbox": {
           "style": "light"
          },
          "paper_bgcolor": "white",
          "plot_bgcolor": "#E5ECF6",
          "polar": {
           "angularaxis": {
            "gridcolor": "white",
            "linecolor": "white",
            "ticks": ""
           },
           "bgcolor": "#E5ECF6",
           "radialaxis": {
            "gridcolor": "white",
            "linecolor": "white",
            "ticks": ""
           }
          },
          "scene": {
           "xaxis": {
            "backgroundcolor": "#E5ECF6",
            "gridcolor": "white",
            "gridwidth": 2,
            "linecolor": "white",
            "showbackground": true,
            "ticks": "",
            "zerolinecolor": "white"
           },
           "yaxis": {
            "backgroundcolor": "#E5ECF6",
            "gridcolor": "white",
            "gridwidth": 2,
            "linecolor": "white",
            "showbackground": true,
            "ticks": "",
            "zerolinecolor": "white"
           },
           "zaxis": {
            "backgroundcolor": "#E5ECF6",
            "gridcolor": "white",
            "gridwidth": 2,
            "linecolor": "white",
            "showbackground": true,
            "ticks": "",
            "zerolinecolor": "white"
           }
          },
          "shapedefaults": {
           "line": {
            "color": "#2a3f5f"
           }
          },
          "ternary": {
           "aaxis": {
            "gridcolor": "white",
            "linecolor": "white",
            "ticks": ""
           },
           "baxis": {
            "gridcolor": "white",
            "linecolor": "white",
            "ticks": ""
           },
           "bgcolor": "#E5ECF6",
           "caxis": {
            "gridcolor": "white",
            "linecolor": "white",
            "ticks": ""
           }
          },
          "title": {
           "x": 0.05
          },
          "xaxis": {
           "automargin": true,
           "gridcolor": "white",
           "linecolor": "white",
           "ticks": "",
           "title": {
            "standoff": 15
           },
           "zerolinecolor": "white",
           "zerolinewidth": 2
          },
          "yaxis": {
           "automargin": true,
           "gridcolor": "white",
           "linecolor": "white",
           "ticks": "",
           "title": {
            "standoff": 15
           },
           "zerolinecolor": "white",
           "zerolinewidth": 2
          }
         }
        },
        "title": {
         "text": "Distribution of Text Length (Character Count)",
         "x": 0.5,
         "y": 0.9
        },
        "xaxis": {
         "anchor": "y",
         "autorange": true,
         "domain": [
          0,
          1
         ],
         "range": [
          -0.5,
          179999.5
         ],
         "title": {
          "text": "Character Count Grouped by 20K"
         },
         "type": "linear"
        },
        "yaxis": {
         "anchor": "x",
         "autorange": true,
         "domain": [
          0,
          1
         ],
         "range": [
          0,
          67.36842105263158
         ],
         "title": {
          "text": "Distribution of Articles by Character Count"
         }
        }
       }
      },
      "image/png": "[encoded data removed]",
      "text/html": [
       "<div>                            <div id=\"4d5fb5d9-b437-4531-a3fe-3cc56946b05b\" class=\"plotly-graph-div\" style=\"height:600px; width:100%;\"></div>            <script type=\"text/javascript\">                require([\"plotly\"], function(Plotly) {                    window.PLOTLYENV=window.PLOTLYENV || {};                                    if (document.getElementById(\"4d5fb5d9-b437-4531-a3fe-3cc56946b05b\")) {                    Plotly.newPlot(                        \"4d5fb5d9-b437-4531-a3fe-3cc56946b05b\",                        [{\"alignmentgroup\":\"True\",\"bingroup\":\"x\",\"hovertemplate\":\"Character Count Grouped by 20K=%{x}<br>count=%{y}<extra></extra>\",\"legendgroup\":\"\",\"marker\":{\"color\":\"#636efa\",\"pattern\":{\"shape\":\"\"}},\"name\":\"\",\"offsetgroup\":\"\",\"orientation\":\"v\",\"showlegend\":false,\"x\":[8326,22752,9021,4052,4378,2515,2664,1640,2118,2565,2760,9578,7768,7768,5721,5721,9440,9933,8132,3810,22796,36595,6508,7737,7317,18862,16688,31648,35282,9757,10627,31998,12225,16172,42519,3624,7128,4318,27788,4926,11673,6583,3831,4698,8250,4879,30671,41876,8577,2464,3897,3393,5953,5953,3362,3475,15984,14593,7290,33389,7498,13200,13900,15658,7875,3099,8597,6276,16478,15959,18305,15476,9383,3565,14272,7042,15753,9348,21581,9994,6736,6826,4695,12778,6371,4240,5972,5972,4511,4511,19137,5527,7170,19247,20684,176782,7046,13385,15443,8665],\"xaxis\":\"x\",\"yaxis\":\"y\",\"type\":\"histogram\"}],                        {\"template\":{\"data\":{\"histogram2dcontour\":[{\"type\":\"histogram2dcontour\",\"colorbar\":{\"outlinewidth\":0,\"ticks\":\"\"},\"colorscale\":[[0.0,\"#0d0887\"],[0.1111111111111111,\"#46039f\"],[0.2222222222222222,\"#7201a8\"],[0.3333333333333333,\"#9c179e\"],[0.4444444444444444,\"#bd3786\"],[0.5555555555555556,\"#d8576b\"],[0.6666666666666666,\"#ed7953\"],[0.7777777777777778,\"#fb9f3a\"],[0.8888888888888888,\"#fdca26\"],[1.0,\"#f0f921\"]]}],\"choropleth\":[{\"type\":\"choropleth\",\"colorbar\":{\"outlinewidth\":0,\"ticks\":\"\"}}],\"histogram2d\":[{\"type\":\"histogram2d\",\"colorbar\":{\"outlinewidth\":0,\"ticks\":\"\"},\"colorscale\":[[0.0,\"#0d0887\"],[0.1111111111111111,\"#46039f\"],[0.2222222222222222,\"#7201a8\"],[0.3333333333333333,\"#9c179e\"],[0.4444444444444444,\"#bd3786\"],[0.5555555555555556,\"#d8576b\"],[0.6666666666666666,\"#ed7953\"],[0.7777777777777778,\"#fb9f3a\"],[0.8888888888888888,\"#fdca26\"],[1.0,\"#f0f921\"]]}],\"heatmap\":[{\"type\":\"heatmap\",\"colorbar\":{\"outlinewidth\":0,\"ticks\":\"\"},\"colorscale\":[[0.0,\"#0d0887\"],[0.1111111111111111,\"#46039f\"],[0.2222222222222222,\"#7201a8\"],[0.3333333333333333,\"#9c179e\"],[0.4444444444444444,\"#bd3786\"],[0.5555555555555556,\"#d8576b\"],[0.6666666666666666,\"#ed7953\"],[0.7777777777777778,\"#fb9f3a\"],[0.8888888888888888,\"#fdca26\"],[1.0,\"#f0f921\"]]}],\"heatmapgl\":[{\"type\":\"heatmapgl\",\"colorbar\":{\"outlinewidth\":0,\"ticks\":\"\"},\"colorscale\":[[0.0,\"#0d0887\"],[0.1111111111111111,\"#46039f\"],[0.2222222222222222,\"#7201a8\"],[0.3333333333333333,\"#9c179e\"],[0.4444444444444444,\"#bd3786\"],[0.5555555555555556,\"#d8576b\"],[0.6666666666666666,\"#ed7953\"],[0.7777777777777778,\"#fb9f3a\"],[0.8888888888888888,\"#fdca26\"],[1.0,\"#f0f921\"]]}],\"contourcarpet\":[{\"type\":\"contourcarpet\",\"colorbar\":{\"outlinewidth\":0,\"ticks\":\"\"}}],\"contour\":[{\"type\":\"contour\",\"colorbar\":{\"outlinewidth\":0,\"ticks\":\"\"},\"colorscale\":[[0.0,\"#0d0887\"],[0.1111111111111111,\"#46039f\"],[0.2222222222222222,\"#7201a8\"],[0.3333333333333333,\"#9c179e\"],[0.4444444444444444,\"#bd3786\"],[0.5555555555555556,\"#d8576b\"],[0.6666666666666666,\"#ed7953\"],[0.7777777777777778,\"#fb9f3a\"],[0.8888888888888888,\"#fdca26\"],[1.0,\"#f0f921\"]]}],\"surface\":[{\"type\":\"surface\",\"colorbar\":{\"outlinewidth\":0,\"ticks\":\"\"},\"colorscale\":[[0.0,\"#0d0887\"],[0.1111111111111111,\"#46039f\"],[0.2222222222222222,\"#7201a8\"],[0.3333333333333333,\"#9c179e\"],[0.4444444444444444,\"#bd3786\"],[0.5555555555555556,\"#d8576b\"],[0.6666666666666666,\"#ed7953\"],[0.7777777777777778,\"#fb9f3a\"],[0.8888888888888888,\"#fdca26\"],[1.0,\"#f0f921\"]]}],\"mesh3d\":[{\"type\":\"mesh3d\",\"colorbar\":{\"outlinewidth\":0,\"ticks\":\"\"}}],\"scatter\":[{\"fillpattern\":{\"fillmode\":\"overlay\",\"size\":10,\"solidity\":0.2},\"type\":\"scatter\"}],\"parcoords\":[{\"type\":\"parcoords\",\"line\":{\"colorbar\":{\"outlinewidth\":0,\"ticks\":\"\"}}}],\"scatterpolargl\":[{\"type\":\"scatterpolargl\",\"marker\":{\"colorbar\":{\"outlinewidth\":0,\"ticks\":\"\"}}}],\"bar\":[{\"error_x\":{\"color\":\"#2a3f5f\"},\"error_y\":{\"color\":\"#2a3f5f\"},\"marker\":{\"line\":{\"color\":\"#E5ECF6\",\"width\":0.5},\"pattern\":{\"fillmode\":\"overlay\",\"size\":10,\"solidity\":0.2}},\"type\":\"bar\"}],\"scattergeo\":[{\"type\":\"scattergeo\",\"marker\":{\"colorbar\":{\"outlinewidth\":0,\"ticks\":\"\"}}}],\"scatterpolar\":[{\"type\":\"scatterpolar\",\"marker\":{\"colorbar\":{\"outlinewidth\":0,\"ticks\":\"\"}}}],\"histogram\":[{\"marker\":{\"pattern\":{\"fillmode\":\"overlay\",\"size\":10,\"solidity\":0.2}},\"type\":\"histogram\"}],\"scattergl\":[{\"type\":\"scattergl\",\"marker\":{\"colorbar\":{\"outlinewidth\":0,\"ticks\":\"\"}}}],\"scatter3d\":[{\"type\":\"scatter3d\",\"line\":{\"colorbar\":{\"outlinewidth\":0,\"ticks\":\"\"}},\"marker\":{\"colorbar\":{\"outlinewidth\":0,\"ticks\":\"\"}}}],\"scattermapbox\":[{\"type\":\"scattermapbox\",\"marker\":{\"colorbar\":{\"outlinewidth\":0,\"ticks\":\"\"}}}],\"scatterternary\":[{\"type\":\"scatterternary\",\"marker\":{\"colorbar\":{\"outlinewidth\":0,\"ticks\":\"\"}}}],\"scattercarpet\":[{\"type\":\"scattercarpet\",\"marker\":{\"colorbar\":{\"outlinewidth\":0,\"ticks\":\"\"}}}],\"carpet\":[{\"aaxis\":{\"endlinecolor\":\"#2a3f5f\",\"gridcolor\":\"white\",\"linecolor\":\"white\",\"minorgridcolor\":\"white\",\"startlinecolor\":\"#2a3f5f\"},\"baxis\":{\"endlinecolor\":\"#2a3f5f\",\"gridcolor\":\"white\",\"linecolor\":\"white\",\"minorgridcolor\":\"white\",\"startlinecolor\":\"#2a3f5f\"},\"type\":\"carpet\"}],\"table\":[{\"cells\":{\"fill\":{\"color\":\"#EBF0F8\"},\"line\":{\"color\":\"white\"}},\"header\":{\"fill\":{\"color\":\"#C8D4E3\"},\"line\":{\"color\":\"white\"}},\"type\":\"table\"}],\"barpolar\":[{\"marker\":{\"line\":{\"color\":\"#E5ECF6\",\"width\":0.5},\"pattern\":{\"fillmode\":\"overlay\",\"size\":10,\"solidity\":0.2}},\"type\":\"barpolar\"}],\"pie\":[{\"automargin\":true,\"type\":\"pie\"}]},\"layout\":{\"autotypenumbers\":\"strict\",\"colorway\":[\"#636efa\",\"#EF553B\",\"#00cc96\",\"#ab63fa\",\"#FFA15A\",\"#19d3f3\",\"#FF6692\",\"#B6E880\",\"#FF97FF\",\"#FECB52\"],\"font\":{\"color\":\"#2a3f5f\"},\"hovermode\":\"closest\",\"hoverlabel\":{\"align\":\"left\"},\"paper_bgcolor\":\"white\",\"plot_bgcolor\":\"#E5ECF6\",\"polar\":{\"bgcolor\":\"#E5ECF6\",\"angularaxis\":{\"gridcolor\":\"white\",\"linecolor\":\"white\",\"ticks\":\"\"},\"radialaxis\":{\"gridcolor\":\"white\",\"linecolor\":\"white\",\"ticks\":\"\"}},\"ternary\":{\"bgcolor\":\"#E5ECF6\",\"aaxis\":{\"gridcolor\":\"white\",\"linecolor\":\"white\",\"ticks\":\"\"},\"baxis\":{\"gridcolor\":\"white\",\"linecolor\":\"white\",\"ticks\":\"\"},\"caxis\":{\"gridcolor\":\"white\",\"linecolor\":\"white\",\"ticks\":\"\"}},\"coloraxis\":{\"colorbar\":{\"outlinewidth\":0,\"ticks\":\"\"}},\"colorscale\":{\"sequential\":[[0.0,\"#0d0887\"],[0.1111111111111111,\"#46039f\"],[0.2222222222222222,\"#7201a8\"],[0.3333333333333333,\"#9c179e\"],[0.4444444444444444,\"#bd3786\"],[0.5555555555555556,\"#d8576b\"],[0.6666666666666666,\"#ed7953\"],[0.7777777777777778,\"#fb9f3a\"],[0.8888888888888888,\"#fdca26\"],[1.0,\"#f0f921\"]],\"sequentialminus\":[[0.0,\"#0d0887\"],[0.1111111111111111,\"#46039f\"],[0.2222222222222222,\"#7201a8\"],[0.3333333333333333,\"#9c179e\"],[0.4444444444444444,\"#bd3786\"],[0.5555555555555556,\"#d8576b\"],[0.6666666666666666,\"#ed7953\"],[0.7777777777777778,\"#fb9f3a\"],[0.8888888888888888,\"#fdca26\"],[1.0,\"#f0f921\"]],\"diverging\":[[0,\"#8e0152\"],[0.1,\"#c51b7d\"],[0.2,\"#de77ae\"],[0.3,\"#f1b6da\"],[0.4,\"#fde0ef\"],[0.5,\"#f7f7f7\"],[0.6,\"#e6f5d0\"],[0.7,\"#b8e186\"],[0.8,\"#7fbc41\"],[0.9,\"#4d9221\"],[1,\"#276419\"]]},\"xaxis\":{\"gridcolor\":\"white\",\"linecolor\":\"white\",\"ticks\":\"\",\"title\":{\"standoff\":15},\"zerolinecolor\":\"white\",\"automargin\":true,\"zerolinewidth\":2},\"yaxis\":{\"gridcolor\":\"white\",\"linecolor\":\"white\",\"ticks\":\"\",\"title\":{\"standoff\":15},\"zerolinecolor\":\"white\",\"automargin\":true,\"zerolinewidth\":2},\"scene\":{\"xaxis\":{\"backgroundcolor\":\"#E5ECF6\",\"gridcolor\":\"white\",\"linecolor\":\"white\",\"showbackground\":true,\"ticks\":\"\",\"zerolinecolor\":\"white\",\"gridwidth\":2},\"yaxis\":{\"backgroundcolor\":\"#E5ECF6\",\"gridcolor\":\"white\",\"linecolor\":\"white\",\"showbackground\":true,\"ticks\":\"\",\"zerolinecolor\":\"white\",\"gridwidth\":2},\"zaxis\":{\"backgroundcolor\":\"#E5ECF6\",\"gridcolor\":\"white\",\"linecolor\":\"white\",\"showbackground\":true,\"ticks\":\"\",\"zerolinecolor\":\"white\",\"gridwidth\":2}},\"shapedefaults\":{\"line\":{\"color\":\"#2a3f5f\"}},\"annotationdefaults\":{\"arrowcolor\":\"#2a3f5f\",\"arrowhead\":0,\"arrowwidth\":1},\"geo\":{\"bgcolor\":\"white\",\"landcolor\":\"#E5ECF6\",\"subunitcolor\":\"white\",\"showland\":true,\"showlakes\":true,\"lakecolor\":\"white\"},\"title\":{\"x\":0.05},\"mapbox\":{\"style\":\"light\"}}},\"xaxis\":{\"anchor\":\"y\",\"domain\":[0.0,1.0],\"title\":{\"text\":\"Character Count Grouped by 20K\"}},\"yaxis\":{\"anchor\":\"x\",\"domain\":[0.0,1.0],\"title\":{\"text\":\"Distribution of Articles by Character Count\"}},\"legend\":{\"tracegroupgap\":0},\"title\":{\"text\":\"Distribution of Text Length (Character Count)\",\"y\":0.9,\"x\":0.5},\"barmode\":\"relative\",\"height\":600},                        {\"responsive\": true}                    ).then(function(){\n",
       "                            \n",
       "var gd = document.getElementById('4d5fb5d9-b437-4531-a3fe-3cc56946b05b');\n",
       "var x = new MutationObserver(function (mutations, observer) {{\n",
       "        var display = window.getComputedStyle(gd).display;\n",
       "        if (!display || display === 'none') {{\n",
       "            console.log([gd, 'removed!']);\n",
       "            Plotly.purge(gd);\n",
       "            observer.disconnect();\n",
       "        }}\n",
       "}});\n",
       "\n",
       "// Listen for the removal of the full notebook cells\n",
       "var notebookContainer = gd.closest('#notebook-container');\n",
       "if (notebookContainer) {{\n",
       "    x.observe(notebookContainer, {childList: true});\n",
       "}}\n",
       "\n",
       "// Listen for the clearing of the current output cell\n",
       "var outputEl = gd.closest('.output');\n",
       "if (outputEl) {{\n",
       "    x.observe(outputEl, {childList: true});\n",
       "}}\n",
       "\n",
       "                        })                };                });            </script>        </div>"
      ]
     },
     "metadata": {},
     "output_type": "display_data"
    }
   ],
   "source": [
    "# creating a histogram using plotly to visualize character count\n",
    "fig = px.histogram( x = train_df[\"character count\"],                    # passing character count on the x-axis\n",
    "                   title=\"Distribution of Text Length (Character Count)\",     # editing the title of the graph\n",
    "                   height = 600,                                              # adjusting height\n",
    "                   labels = dict(x = \"Character Count Grouped by 20K\"))       # adding a label to the x-axis\n",
    "\n",
    "fig.update_yaxes(title_text = \"Distribution of Articles by Character Count\")  # editing the y-axis title\n",
    "\n",
    "fig.update_layout(title = {'y' : 0.9, 'x' : 0.5})  # ensuring that the title is centred"
   ]
  },
  {
   "cell_type": "markdown",
   "id": "ffc40957-6619-4616-bfb3-cfaad5324ea1",
   "metadata": {},
   "source": [
    "### Character Count Takeaways\n",
    "\n",
    "+ There is only one article that has over 50K characters\n",
    "+ 86% of articles fall under 20K articles \n",
    "\n",
    "### Next\n",
    "\n",
    "+ This is useful information, but there is more that is needed to explore\n",
    "+ Understanding average words per article, as well as unique words is needed"
   ]
  },
  {
   "cell_type": "code",
   "execution_count": 14,
   "id": "b2a0f63c-d219-47f6-a6c1-00043fc80ebb",
   "metadata": {},
   "outputs": [
    {
     "data": {
      "application/vnd.plotly.v1+json": {
       "config": {
        "plotlyServerURL": "https://plot.ly"
       },
       "data": [
        {
         "alignmentgroup": "True",
         "bingroup": "x",
         "hovertemplate": "Character Count Grouped by 5K=%{x}<br>count=%{y}<extra></extra>",
         "legendgroup": "",
         "marker": {
          "color": "#636efa",
          "pattern": {
           "shape": ""
          }
         },
         "name": "",
         "offsetgroup": "",
         "orientation": "v",
         "showlegend": false,
         "type": "histogram",
         "x": [
          960,
          2742,
          1062,
          414,
          434,
          240,
          263,
          147,
          194,
          250,
          246,
          987,
          811,
          811,
          523,
          523,
          912,
          977,
          928,
          470,
          3330,
          5061,
          743,
          924,
          829,
          1544,
          1247,
          2391,
          2892,
          793,
          1334,
          4182,
          790,
          1334,
          4131,
          405,
          911,
          464,
          3534,
          570,
          1038,
          862,
          467,
          633,
          948,
          441,
          3483,
          5174,
          966,
          282,
          331,
          279,
          639,
          639,
          307,
          282,
          1836,
          1734,
          769,
          4157,
          797,
          1485,
          1250,
          1877,
          811,
          305,
          670,
          693,
          1518,
          1458,
          1706,
          1299,
          832,
          282,
          1717,
          851,
          2088,
          1305,
          2305,
          1048,
          698,
          828,
          575,
          1473,
          570,
          457,
          734,
          734,
          523,
          523,
          2232,
          541,
          838,
          2432,
          2470,
          27209,
          835,
          1613,
          1882,
          1042
         ],
         "xaxis": "x",
         "yaxis": "y"
        }
       ],
       "layout": {
        "autosize": true,
        "barmode": "relative",
        "legend": {
         "tracegroupgap": 0
        },
        "template": {
         "data": {
          "bar": [
           {
            "error_x": {
             "color": "#2a3f5f"
            },
            "error_y": {
             "color": "#2a3f5f"
            },
            "marker": {
             "line": {
              "color": "#E5ECF6",
              "width": 0.5
             },
             "pattern": {
              "fillmode": "overlay",
              "size": 10,
              "solidity": 0.2
             }
            },
            "type": "bar"
           }
          ],
          "barpolar": [
           {
            "marker": {
             "line": {
              "color": "#E5ECF6",
              "width": 0.5
             },
             "pattern": {
              "fillmode": "overlay",
              "size": 10,
              "solidity": 0.2
             }
            },
            "type": "barpolar"
           }
          ],
          "carpet": [
           {
            "aaxis": {
             "endlinecolor": "#2a3f5f",
             "gridcolor": "white",
             "linecolor": "white",
             "minorgridcolor": "white",
             "startlinecolor": "#2a3f5f"
            },
            "baxis": {
             "endlinecolor": "#2a3f5f",
             "gridcolor": "white",
             "linecolor": "white",
             "minorgridcolor": "white",
             "startlinecolor": "#2a3f5f"
            },
            "type": "carpet"
           }
          ],
          "choropleth": [
           {
            "colorbar": {
             "outlinewidth": 0,
             "ticks": ""
            },
            "type": "choropleth"
           }
          ],
          "contour": [
           {
            "colorbar": {
             "outlinewidth": 0,
             "ticks": ""
            },
            "colorscale": [
             [
              0,
              "#0d0887"
             ],
             [
              0.1111111111111111,
              "#46039f"
             ],
             [
              0.2222222222222222,
              "#7201a8"
             ],
             [
              0.3333333333333333,
              "#9c179e"
             ],
             [
              0.4444444444444444,
              "#bd3786"
             ],
             [
              0.5555555555555556,
              "#d8576b"
             ],
             [
              0.6666666666666666,
              "#ed7953"
             ],
             [
              0.7777777777777778,
              "#fb9f3a"
             ],
             [
              0.8888888888888888,
              "#fdca26"
             ],
             [
              1,
              "#f0f921"
             ]
            ],
            "type": "contour"
           }
          ],
          "contourcarpet": [
           {
            "colorbar": {
             "outlinewidth": 0,
             "ticks": ""
            },
            "type": "contourcarpet"
           }
          ],
          "heatmap": [
           {
            "colorbar": {
             "outlinewidth": 0,
             "ticks": ""
            },
            "colorscale": [
             [
              0,
              "#0d0887"
             ],
             [
              0.1111111111111111,
              "#46039f"
             ],
             [
              0.2222222222222222,
              "#7201a8"
             ],
             [
              0.3333333333333333,
              "#9c179e"
             ],
             [
              0.4444444444444444,
              "#bd3786"
             ],
             [
              0.5555555555555556,
              "#d8576b"
             ],
             [
              0.6666666666666666,
              "#ed7953"
             ],
             [
              0.7777777777777778,
              "#fb9f3a"
             ],
             [
              0.8888888888888888,
              "#fdca26"
             ],
             [
              1,
              "#f0f921"
             ]
            ],
            "type": "heatmap"
           }
          ],
          "heatmapgl": [
           {
            "colorbar": {
             "outlinewidth": 0,
             "ticks": ""
            },
            "colorscale": [
             [
              0,
              "#0d0887"
             ],
             [
              0.1111111111111111,
              "#46039f"
             ],
             [
              0.2222222222222222,
              "#7201a8"
             ],
             [
              0.3333333333333333,
              "#9c179e"
             ],
             [
              0.4444444444444444,
              "#bd3786"
             ],
             [
              0.5555555555555556,
              "#d8576b"
             ],
             [
              0.6666666666666666,
              "#ed7953"
             ],
             [
              0.7777777777777778,
              "#fb9f3a"
             ],
             [
              0.8888888888888888,
              "#fdca26"
             ],
             [
              1,
              "#f0f921"
             ]
            ],
            "type": "heatmapgl"
           }
          ],
          "histogram": [
           {
            "marker": {
             "pattern": {
              "fillmode": "overlay",
              "size": 10,
              "solidity": 0.2
             }
            },
            "type": "histogram"
           }
          ],
          "histogram2d": [
           {
            "colorbar": {
             "outlinewidth": 0,
             "ticks": ""
            },
            "colorscale": [
             [
              0,
              "#0d0887"
             ],
             [
              0.1111111111111111,
              "#46039f"
             ],
             [
              0.2222222222222222,
              "#7201a8"
             ],
             [
              0.3333333333333333,
              "#9c179e"
             ],
             [
              0.4444444444444444,
              "#bd3786"
             ],
             [
              0.5555555555555556,
              "#d8576b"
             ],
             [
              0.6666666666666666,
              "#ed7953"
             ],
             [
              0.7777777777777778,
              "#fb9f3a"
             ],
             [
              0.8888888888888888,
              "#fdca26"
             ],
             [
              1,
              "#f0f921"
             ]
            ],
            "type": "histogram2d"
           }
          ],
          "histogram2dcontour": [
           {
            "colorbar": {
             "outlinewidth": 0,
             "ticks": ""
            },
            "colorscale": [
             [
              0,
              "#0d0887"
             ],
             [
              0.1111111111111111,
              "#46039f"
             ],
             [
              0.2222222222222222,
              "#7201a8"
             ],
             [
              0.3333333333333333,
              "#9c179e"
             ],
             [
              0.4444444444444444,
              "#bd3786"
             ],
             [
              0.5555555555555556,
              "#d8576b"
             ],
             [
              0.6666666666666666,
              "#ed7953"
             ],
             [
              0.7777777777777778,
              "#fb9f3a"
             ],
             [
              0.8888888888888888,
              "#fdca26"
             ],
             [
              1,
              "#f0f921"
             ]
            ],
            "type": "histogram2dcontour"
           }
          ],
          "mesh3d": [
           {
            "colorbar": {
             "outlinewidth": 0,
             "ticks": ""
            },
            "type": "mesh3d"
           }
          ],
          "parcoords": [
           {
            "line": {
             "colorbar": {
              "outlinewidth": 0,
              "ticks": ""
             }
            },
            "type": "parcoords"
           }
          ],
          "pie": [
           {
            "automargin": true,
            "type": "pie"
           }
          ],
          "scatter": [
           {
            "fillpattern": {
             "fillmode": "overlay",
             "size": 10,
             "solidity": 0.2
            },
            "type": "scatter"
           }
          ],
          "scatter3d": [
           {
            "line": {
             "colorbar": {
              "outlinewidth": 0,
              "ticks": ""
             }
            },
            "marker": {
             "colorbar": {
              "outlinewidth": 0,
              "ticks": ""
             }
            },
            "type": "scatter3d"
           }
          ],
          "scattercarpet": [
           {
            "marker": {
             "colorbar": {
              "outlinewidth": 0,
              "ticks": ""
             }
            },
            "type": "scattercarpet"
           }
          ],
          "scattergeo": [
           {
            "marker": {
             "colorbar": {
              "outlinewidth": 0,
              "ticks": ""
             }
            },
            "type": "scattergeo"
           }
          ],
          "scattergl": [
           {
            "marker": {
             "colorbar": {
              "outlinewidth": 0,
              "ticks": ""
             }
            },
            "type": "scattergl"
           }
          ],
          "scattermapbox": [
           {
            "marker": {
             "colorbar": {
              "outlinewidth": 0,
              "ticks": ""
             }
            },
            "type": "scattermapbox"
           }
          ],
          "scatterpolar": [
           {
            "marker": {
             "colorbar": {
              "outlinewidth": 0,
              "ticks": ""
             }
            },
            "type": "scatterpolar"
           }
          ],
          "scatterpolargl": [
           {
            "marker": {
             "colorbar": {
              "outlinewidth": 0,
              "ticks": ""
             }
            },
            "type": "scatterpolargl"
           }
          ],
          "scatterternary": [
           {
            "marker": {
             "colorbar": {
              "outlinewidth": 0,
              "ticks": ""
             }
            },
            "type": "scatterternary"
           }
          ],
          "surface": [
           {
            "colorbar": {
             "outlinewidth": 0,
             "ticks": ""
            },
            "colorscale": [
             [
              0,
              "#0d0887"
             ],
             [
              0.1111111111111111,
              "#46039f"
             ],
             [
              0.2222222222222222,
              "#7201a8"
             ],
             [
              0.3333333333333333,
              "#9c179e"
             ],
             [
              0.4444444444444444,
              "#bd3786"
             ],
             [
              0.5555555555555556,
              "#d8576b"
             ],
             [
              0.6666666666666666,
              "#ed7953"
             ],
             [
              0.7777777777777778,
              "#fb9f3a"
             ],
             [
              0.8888888888888888,
              "#fdca26"
             ],
             [
              1,
              "#f0f921"
             ]
            ],
            "type": "surface"
           }
          ],
          "table": [
           {
            "cells": {
             "fill": {
              "color": "#EBF0F8"
             },
             "line": {
              "color": "white"
             }
            },
            "header": {
             "fill": {
              "color": "#C8D4E3"
             },
             "line": {
              "color": "white"
             }
            },
            "type": "table"
           }
          ]
         },
         "layout": {
          "annotationdefaults": {
           "arrowcolor": "#2a3f5f",
           "arrowhead": 0,
           "arrowwidth": 1
          },
          "autotypenumbers": "strict",
          "coloraxis": {
           "colorbar": {
            "outlinewidth": 0,
            "ticks": ""
           }
          },
          "colorscale": {
           "diverging": [
            [
             0,
             "#8e0152"
            ],
            [
             0.1,
             "#c51b7d"
            ],
            [
             0.2,
             "#de77ae"
            ],
            [
             0.3,
             "#f1b6da"
            ],
            [
             0.4,
             "#fde0ef"
            ],
            [
             0.5,
             "#f7f7f7"
            ],
            [
             0.6,
             "#e6f5d0"
            ],
            [
             0.7,
             "#b8e186"
            ],
            [
             0.8,
             "#7fbc41"
            ],
            [
             0.9,
             "#4d9221"
            ],
            [
             1,
             "#276419"
            ]
           ],
           "sequential": [
            [
             0,
             "#0d0887"
            ],
            [
             0.1111111111111111,
             "#46039f"
            ],
            [
             0.2222222222222222,
             "#7201a8"
            ],
            [
             0.3333333333333333,
             "#9c179e"
            ],
            [
             0.4444444444444444,
             "#bd3786"
            ],
            [
             0.5555555555555556,
             "#d8576b"
            ],
            [
             0.6666666666666666,
             "#ed7953"
            ],
            [
             0.7777777777777778,
             "#fb9f3a"
            ],
            [
             0.8888888888888888,
             "#fdca26"
            ],
            [
             1,
             "#f0f921"
            ]
           ],
           "sequentialminus": [
            [
             0,
             "#0d0887"
            ],
            [
             0.1111111111111111,
             "#46039f"
            ],
            [
             0.2222222222222222,
             "#7201a8"
            ],
            [
             0.3333333333333333,
             "#9c179e"
            ],
            [
             0.4444444444444444,
             "#bd3786"
            ],
            [
             0.5555555555555556,
             "#d8576b"
            ],
            [
             0.6666666666666666,
             "#ed7953"
            ],
            [
             0.7777777777777778,
             "#fb9f3a"
            ],
            [
             0.8888888888888888,
             "#fdca26"
            ],
            [
             1,
             "#f0f921"
            ]
           ]
          },
          "colorway": [
           "#636efa",
           "#EF553B",
           "#00cc96",
           "#ab63fa",
           "#FFA15A",
           "#19d3f3",
           "#FF6692",
           "#B6E880",
           "#FF97FF",
           "#FECB52"
          ],
          "font": {
           "color": "#2a3f5f"
          },
          "geo": {
           "bgcolor": "white",
           "lakecolor": "white",
           "landcolor": "#E5ECF6",
           "showlakes": true,
           "showland": true,
           "subunitcolor": "white"
          },
          "hoverlabel": {
           "align": "left"
          },
          "hovermode": "closest",
          "mapbox": {
           "style": "light"
          },
          "paper_bgcolor": "white",
          "plot_bgcolor": "#E5ECF6",
          "polar": {
           "angularaxis": {
            "gridcolor": "white",
            "linecolor": "white",
            "ticks": ""
           },
           "bgcolor": "#E5ECF6",
           "radialaxis": {
            "gridcolor": "white",
            "linecolor": "white",
            "ticks": ""
           }
          },
          "scene": {
           "xaxis": {
            "backgroundcolor": "#E5ECF6",
            "gridcolor": "white",
            "gridwidth": 2,
            "linecolor": "white",
            "showbackground": true,
            "ticks": "",
            "zerolinecolor": "white"
           },
           "yaxis": {
            "backgroundcolor": "#E5ECF6",
            "gridcolor": "white",
            "gridwidth": 2,
            "linecolor": "white",
            "showbackground": true,
            "ticks": "",
            "zerolinecolor": "white"
           },
           "zaxis": {
            "backgroundcolor": "#E5ECF6",
            "gridcolor": "white",
            "gridwidth": 2,
            "linecolor": "white",
            "showbackground": true,
            "ticks": "",
            "zerolinecolor": "white"
           }
          },
          "shapedefaults": {
           "line": {
            "color": "#2a3f5f"
           }
          },
          "ternary": {
           "aaxis": {
            "gridcolor": "white",
            "linecolor": "white",
            "ticks": ""
           },
           "baxis": {
            "gridcolor": "white",
            "linecolor": "white",
            "ticks": ""
           },
           "bgcolor": "#E5ECF6",
           "caxis": {
            "gridcolor": "white",
            "linecolor": "white",
            "ticks": ""
           }
          },
          "title": {
           "x": 0.05
          },
          "xaxis": {
           "automargin": true,
           "gridcolor": "white",
           "linecolor": "white",
           "ticks": "",
           "title": {
            "standoff": 15
           },
           "zerolinecolor": "white",
           "zerolinewidth": 2
          },
          "yaxis": {
           "automargin": true,
           "gridcolor": "white",
           "linecolor": "white",
           "ticks": "",
           "title": {
            "standoff": 15
           },
           "zerolinecolor": "white",
           "zerolinewidth": 2
          }
         }
        },
        "title": {
         "text": "Distribution of Text Length (Word Count)",
         "x": 0.5,
         "y": 0.9
        },
        "xaxis": {
         "anchor": "y",
         "autorange": true,
         "domain": [
          0,
          1
         ],
         "range": [
          -0.5,
          27999.5
         ],
         "title": {
          "text": "Character Count Grouped by 5K"
         },
         "type": "linear"
        },
        "yaxis": {
         "anchor": "x",
         "autorange": true,
         "domain": [
          0,
          1
         ],
         "range": [
          0,
          64.21052631578948
         ],
         "title": {
          "text": "Distribution of Articles by Word Count"
         }
        }
       }
      },
      "image/png": "[encoded data removed]",
      "text/html": [
       "<div>                            <div id=\"e7683d88-ee65-4a51-85fe-384b3135db23\" class=\"plotly-graph-div\" style=\"height:600px; width:100%;\"></div>            <script type=\"text/javascript\">                require([\"plotly\"], function(Plotly) {                    window.PLOTLYENV=window.PLOTLYENV || {};                                    if (document.getElementById(\"e7683d88-ee65-4a51-85fe-384b3135db23\")) {                    Plotly.newPlot(                        \"e7683d88-ee65-4a51-85fe-384b3135db23\",                        [{\"alignmentgroup\":\"True\",\"bingroup\":\"x\",\"hovertemplate\":\"Character Count Grouped by 5K=%{x}<br>count=%{y}<extra></extra>\",\"legendgroup\":\"\",\"marker\":{\"color\":\"#636efa\",\"pattern\":{\"shape\":\"\"}},\"name\":\"\",\"offsetgroup\":\"\",\"orientation\":\"v\",\"showlegend\":false,\"x\":[960,2742,1062,414,434,240,263,147,194,250,246,987,811,811,523,523,912,977,928,470,3330,5061,743,924,829,1544,1247,2391,2892,793,1334,4182,790,1334,4131,405,911,464,3534,570,1038,862,467,633,948,441,3483,5174,966,282,331,279,639,639,307,282,1836,1734,769,4157,797,1485,1250,1877,811,305,670,693,1518,1458,1706,1299,832,282,1717,851,2088,1305,2305,1048,698,828,575,1473,570,457,734,734,523,523,2232,541,838,2432,2470,27209,835,1613,1882,1042],\"xaxis\":\"x\",\"yaxis\":\"y\",\"type\":\"histogram\"}],                        {\"template\":{\"data\":{\"histogram2dcontour\":[{\"type\":\"histogram2dcontour\",\"colorbar\":{\"outlinewidth\":0,\"ticks\":\"\"},\"colorscale\":[[0.0,\"#0d0887\"],[0.1111111111111111,\"#46039f\"],[0.2222222222222222,\"#7201a8\"],[0.3333333333333333,\"#9c179e\"],[0.4444444444444444,\"#bd3786\"],[0.5555555555555556,\"#d8576b\"],[0.6666666666666666,\"#ed7953\"],[0.7777777777777778,\"#fb9f3a\"],[0.8888888888888888,\"#fdca26\"],[1.0,\"#f0f921\"]]}],\"choropleth\":[{\"type\":\"choropleth\",\"colorbar\":{\"outlinewidth\":0,\"ticks\":\"\"}}],\"histogram2d\":[{\"type\":\"histogram2d\",\"colorbar\":{\"outlinewidth\":0,\"ticks\":\"\"},\"colorscale\":[[0.0,\"#0d0887\"],[0.1111111111111111,\"#46039f\"],[0.2222222222222222,\"#7201a8\"],[0.3333333333333333,\"#9c179e\"],[0.4444444444444444,\"#bd3786\"],[0.5555555555555556,\"#d8576b\"],[0.6666666666666666,\"#ed7953\"],[0.7777777777777778,\"#fb9f3a\"],[0.8888888888888888,\"#fdca26\"],[1.0,\"#f0f921\"]]}],\"heatmap\":[{\"type\":\"heatmap\",\"colorbar\":{\"outlinewidth\":0,\"ticks\":\"\"},\"colorscale\":[[0.0,\"#0d0887\"],[0.1111111111111111,\"#46039f\"],[0.2222222222222222,\"#7201a8\"],[0.3333333333333333,\"#9c179e\"],[0.4444444444444444,\"#bd3786\"],[0.5555555555555556,\"#d8576b\"],[0.6666666666666666,\"#ed7953\"],[0.7777777777777778,\"#fb9f3a\"],[0.8888888888888888,\"#fdca26\"],[1.0,\"#f0f921\"]]}],\"heatmapgl\":[{\"type\":\"heatmapgl\",\"colorbar\":{\"outlinewidth\":0,\"ticks\":\"\"},\"colorscale\":[[0.0,\"#0d0887\"],[0.1111111111111111,\"#46039f\"],[0.2222222222222222,\"#7201a8\"],[0.3333333333333333,\"#9c179e\"],[0.4444444444444444,\"#bd3786\"],[0.5555555555555556,\"#d8576b\"],[0.6666666666666666,\"#ed7953\"],[0.7777777777777778,\"#fb9f3a\"],[0.8888888888888888,\"#fdca26\"],[1.0,\"#f0f921\"]]}],\"contourcarpet\":[{\"type\":\"contourcarpet\",\"colorbar\":{\"outlinewidth\":0,\"ticks\":\"\"}}],\"contour\":[{\"type\":\"contour\",\"colorbar\":{\"outlinewidth\":0,\"ticks\":\"\"},\"colorscale\":[[0.0,\"#0d0887\"],[0.1111111111111111,\"#46039f\"],[0.2222222222222222,\"#7201a8\"],[0.3333333333333333,\"#9c179e\"],[0.4444444444444444,\"#bd3786\"],[0.5555555555555556,\"#d8576b\"],[0.6666666666666666,\"#ed7953\"],[0.7777777777777778,\"#fb9f3a\"],[0.8888888888888888,\"#fdca26\"],[1.0,\"#f0f921\"]]}],\"surface\":[{\"type\":\"surface\",\"colorbar\":{\"outlinewidth\":0,\"ticks\":\"\"},\"colorscale\":[[0.0,\"#0d0887\"],[0.1111111111111111,\"#46039f\"],[0.2222222222222222,\"#7201a8\"],[0.3333333333333333,\"#9c179e\"],[0.4444444444444444,\"#bd3786\"],[0.5555555555555556,\"#d8576b\"],[0.6666666666666666,\"#ed7953\"],[0.7777777777777778,\"#fb9f3a\"],[0.8888888888888888,\"#fdca26\"],[1.0,\"#f0f921\"]]}],\"mesh3d\":[{\"type\":\"mesh3d\",\"colorbar\":{\"outlinewidth\":0,\"ticks\":\"\"}}],\"scatter\":[{\"fillpattern\":{\"fillmode\":\"overlay\",\"size\":10,\"solidity\":0.2},\"type\":\"scatter\"}],\"parcoords\":[{\"type\":\"parcoords\",\"line\":{\"colorbar\":{\"outlinewidth\":0,\"ticks\":\"\"}}}],\"scatterpolargl\":[{\"type\":\"scatterpolargl\",\"marker\":{\"colorbar\":{\"outlinewidth\":0,\"ticks\":\"\"}}}],\"bar\":[{\"error_x\":{\"color\":\"#2a3f5f\"},\"error_y\":{\"color\":\"#2a3f5f\"},\"marker\":{\"line\":{\"color\":\"#E5ECF6\",\"width\":0.5},\"pattern\":{\"fillmode\":\"overlay\",\"size\":10,\"solidity\":0.2}},\"type\":\"bar\"}],\"scattergeo\":[{\"type\":\"scattergeo\",\"marker\":{\"colorbar\":{\"outlinewidth\":0,\"ticks\":\"\"}}}],\"scatterpolar\":[{\"type\":\"scatterpolar\",\"marker\":{\"colorbar\":{\"outlinewidth\":0,\"ticks\":\"\"}}}],\"histogram\":[{\"marker\":{\"pattern\":{\"fillmode\":\"overlay\",\"size\":10,\"solidity\":0.2}},\"type\":\"histogram\"}],\"scattergl\":[{\"type\":\"scattergl\",\"marker\":{\"colorbar\":{\"outlinewidth\":0,\"ticks\":\"\"}}}],\"scatter3d\":[{\"type\":\"scatter3d\",\"line\":{\"colorbar\":{\"outlinewidth\":0,\"ticks\":\"\"}},\"marker\":{\"colorbar\":{\"outlinewidth\":0,\"ticks\":\"\"}}}],\"scattermapbox\":[{\"type\":\"scattermapbox\",\"marker\":{\"colorbar\":{\"outlinewidth\":0,\"ticks\":\"\"}}}],\"scatterternary\":[{\"type\":\"scatterternary\",\"marker\":{\"colorbar\":{\"outlinewidth\":0,\"ticks\":\"\"}}}],\"scattercarpet\":[{\"type\":\"scattercarpet\",\"marker\":{\"colorbar\":{\"outlinewidth\":0,\"ticks\":\"\"}}}],\"carpet\":[{\"aaxis\":{\"endlinecolor\":\"#2a3f5f\",\"gridcolor\":\"white\",\"linecolor\":\"white\",\"minorgridcolor\":\"white\",\"startlinecolor\":\"#2a3f5f\"},\"baxis\":{\"endlinecolor\":\"#2a3f5f\",\"gridcolor\":\"white\",\"linecolor\":\"white\",\"minorgridcolor\":\"white\",\"startlinecolor\":\"#2a3f5f\"},\"type\":\"carpet\"}],\"table\":[{\"cells\":{\"fill\":{\"color\":\"#EBF0F8\"},\"line\":{\"color\":\"white\"}},\"header\":{\"fill\":{\"color\":\"#C8D4E3\"},\"line\":{\"color\":\"white\"}},\"type\":\"table\"}],\"barpolar\":[{\"marker\":{\"line\":{\"color\":\"#E5ECF6\",\"width\":0.5},\"pattern\":{\"fillmode\":\"overlay\",\"size\":10,\"solidity\":0.2}},\"type\":\"barpolar\"}],\"pie\":[{\"automargin\":true,\"type\":\"pie\"}]},\"layout\":{\"autotypenumbers\":\"strict\",\"colorway\":[\"#636efa\",\"#EF553B\",\"#00cc96\",\"#ab63fa\",\"#FFA15A\",\"#19d3f3\",\"#FF6692\",\"#B6E880\",\"#FF97FF\",\"#FECB52\"],\"font\":{\"color\":\"#2a3f5f\"},\"hovermode\":\"closest\",\"hoverlabel\":{\"align\":\"left\"},\"paper_bgcolor\":\"white\",\"plot_bgcolor\":\"#E5ECF6\",\"polar\":{\"bgcolor\":\"#E5ECF6\",\"angularaxis\":{\"gridcolor\":\"white\",\"linecolor\":\"white\",\"ticks\":\"\"},\"radialaxis\":{\"gridcolor\":\"white\",\"linecolor\":\"white\",\"ticks\":\"\"}},\"ternary\":{\"bgcolor\":\"#E5ECF6\",\"aaxis\":{\"gridcolor\":\"white\",\"linecolor\":\"white\",\"ticks\":\"\"},\"baxis\":{\"gridcolor\":\"white\",\"linecolor\":\"white\",\"ticks\":\"\"},\"caxis\":{\"gridcolor\":\"white\",\"linecolor\":\"white\",\"ticks\":\"\"}},\"coloraxis\":{\"colorbar\":{\"outlinewidth\":0,\"ticks\":\"\"}},\"colorscale\":{\"sequential\":[[0.0,\"#0d0887\"],[0.1111111111111111,\"#46039f\"],[0.2222222222222222,\"#7201a8\"],[0.3333333333333333,\"#9c179e\"],[0.4444444444444444,\"#bd3786\"],[0.5555555555555556,\"#d8576b\"],[0.6666666666666666,\"#ed7953\"],[0.7777777777777778,\"#fb9f3a\"],[0.8888888888888888,\"#fdca26\"],[1.0,\"#f0f921\"]],\"sequentialminus\":[[0.0,\"#0d0887\"],[0.1111111111111111,\"#46039f\"],[0.2222222222222222,\"#7201a8\"],[0.3333333333333333,\"#9c179e\"],[0.4444444444444444,\"#bd3786\"],[0.5555555555555556,\"#d8576b\"],[0.6666666666666666,\"#ed7953\"],[0.7777777777777778,\"#fb9f3a\"],[0.8888888888888888,\"#fdca26\"],[1.0,\"#f0f921\"]],\"diverging\":[[0,\"#8e0152\"],[0.1,\"#c51b7d\"],[0.2,\"#de77ae\"],[0.3,\"#f1b6da\"],[0.4,\"#fde0ef\"],[0.5,\"#f7f7f7\"],[0.6,\"#e6f5d0\"],[0.7,\"#b8e186\"],[0.8,\"#7fbc41\"],[0.9,\"#4d9221\"],[1,\"#276419\"]]},\"xaxis\":{\"gridcolor\":\"white\",\"linecolor\":\"white\",\"ticks\":\"\",\"title\":{\"standoff\":15},\"zerolinecolor\":\"white\",\"automargin\":true,\"zerolinewidth\":2},\"yaxis\":{\"gridcolor\":\"white\",\"linecolor\":\"white\",\"ticks\":\"\",\"title\":{\"standoff\":15},\"zerolinecolor\":\"white\",\"automargin\":true,\"zerolinewidth\":2},\"scene\":{\"xaxis\":{\"backgroundcolor\":\"#E5ECF6\",\"gridcolor\":\"white\",\"linecolor\":\"white\",\"showbackground\":true,\"ticks\":\"\",\"zerolinecolor\":\"white\",\"gridwidth\":2},\"yaxis\":{\"backgroundcolor\":\"#E5ECF6\",\"gridcolor\":\"white\",\"linecolor\":\"white\",\"showbackground\":true,\"ticks\":\"\",\"zerolinecolor\":\"white\",\"gridwidth\":2},\"zaxis\":{\"backgroundcolor\":\"#E5ECF6\",\"gridcolor\":\"white\",\"linecolor\":\"white\",\"showbackground\":true,\"ticks\":\"\",\"zerolinecolor\":\"white\",\"gridwidth\":2}},\"shapedefaults\":{\"line\":{\"color\":\"#2a3f5f\"}},\"annotationdefaults\":{\"arrowcolor\":\"#2a3f5f\",\"arrowhead\":0,\"arrowwidth\":1},\"geo\":{\"bgcolor\":\"white\",\"landcolor\":\"#E5ECF6\",\"subunitcolor\":\"white\",\"showland\":true,\"showlakes\":true,\"lakecolor\":\"white\"},\"title\":{\"x\":0.05},\"mapbox\":{\"style\":\"light\"}}},\"xaxis\":{\"anchor\":\"y\",\"domain\":[0.0,1.0],\"title\":{\"text\":\"Character Count Grouped by 5K\"}},\"yaxis\":{\"anchor\":\"x\",\"domain\":[0.0,1.0],\"title\":{\"text\":\"Distribution of Articles by Word Count\"}},\"legend\":{\"tracegroupgap\":0},\"title\":{\"text\":\"Distribution of Text Length (Word Count)\",\"y\":0.9,\"x\":0.5},\"barmode\":\"relative\",\"height\":600},                        {\"responsive\": true}                    ).then(function(){\n",
       "                            \n",
       "var gd = document.getElementById('e7683d88-ee65-4a51-85fe-384b3135db23');\n",
       "var x = new MutationObserver(function (mutations, observer) {{\n",
       "        var display = window.getComputedStyle(gd).display;\n",
       "        if (!display || display === 'none') {{\n",
       "            console.log([gd, 'removed!']);\n",
       "            Plotly.purge(gd);\n",
       "            observer.disconnect();\n",
       "        }}\n",
       "}});\n",
       "\n",
       "// Listen for the removal of the full notebook cells\n",
       "var notebookContainer = gd.closest('#notebook-container');\n",
       "if (notebookContainer) {{\n",
       "    x.observe(notebookContainer, {childList: true});\n",
       "}}\n",
       "\n",
       "// Listen for the clearing of the current output cell\n",
       "var outputEl = gd.closest('.output');\n",
       "if (outputEl) {{\n",
       "    x.observe(outputEl, {childList: true});\n",
       "}}\n",
       "\n",
       "                        })                };                });            </script>        </div>"
      ]
     },
     "metadata": {},
     "output_type": "display_data"
    }
   ],
   "source": [
    "# creating a histogram using plotly to visualize character count\n",
    "fig = px.histogram( x = train_df[\"word count\"],                    # passing character count on the x-axis\n",
    "                   title = \"Distribution of Text Length (Word Count)\",     # editing the title of the graph\n",
    "                   height = 600,                                              # adjusting height\n",
    "                   labels = dict(x = \"Character Count Grouped by 5K\"))       # adding a label to the x-axis\n",
    "\n",
    "fig.update_yaxes(title_text = \"Distribution of Articles by Word Count\")  # editing the y-axis title\n",
    "\n",
    "fig.update_layout(title = {'y' : 0.9, 'x' : 0.5})  # ensuring that the title is centred"
   ]
  },
  {
   "cell_type": "markdown",
   "id": "3f58cd39-686e-43f4-9c2e-58ca5a8538e0",
   "metadata": {},
   "source": [
    "### Word Count Takeaway\n",
    "\n",
    "+ It looks as if only one article has more than 25,000 words\n",
    "+ While the rest of the articles are under 6,000\n",
    "+ To have a concrete answer, I will calculate the total number of articles under 6,000 words and divide it by total articles in the dataframe"
   ]
  },
  {
   "cell_type": "code",
   "execution_count": 15,
   "id": "a4fb8107-c239-4e4c-a607-dd1ed4488b9c",
   "metadata": {},
   "outputs": [
    {
     "data": {
      "text/plain": [
       "99.0"
      ]
     },
     "execution_count": 15,
     "metadata": {},
     "output_type": "execute_result"
    }
   ],
   "source": [
    "# calculating  the percentage of articles with 6000 words or less\n",
    "\n",
    "round(train_df[train_df['word count'] <= 6000]['word count'].count() / len(train_df) * 100, 2)"
   ]
  },
  {
   "cell_type": "code",
   "execution_count": 16,
   "id": "e19ff29b-60d3-4312-8bab-3ebb948c6cb2",
   "metadata": {},
   "outputs": [
    {
     "data": {
      "application/vnd.plotly.v1+json": {
       "config": {
        "plotlyServerURL": "https://plot.ly"
       },
       "data": [
        {
         "alignmentgroup": "True",
         "bingroup": "x",
         "hovertemplate": "Character Count Grouped by 1K=%{x}<br>count=%{y}<extra></extra>",
         "legendgroup": "",
         "marker": {
          "color": "#636efa",
          "pattern": {
           "shape": ""
          }
         },
         "name": "",
         "offsetgroup": "",
         "orientation": "v",
         "showlegend": false,
         "type": "histogram",
         "x": [
          473,
          926,
          529,
          252,
          219,
          168,
          188,
          105,
          145,
          167,
          169,
          574,
          480,
          480,
          318,
          318,
          516,
          479,
          490,
          284,
          1178,
          1800,
          419,
          532,
          405,
          717,
          573,
          940,
          1122,
          339,
          616,
          1626,
          440,
          704,
          1333,
          258,
          454,
          276,
          1043,
          314,
          608,
          497,
          299,
          344,
          503,
          296,
          1204,
          1723,
          535,
          188,
          256,
          207,
          364,
          364,
          216,
          210,
          882,
          668,
          430,
          1377,
          337,
          682,
          595,
          668,
          526,
          134,
          426,
          280,
          647,
          647,
          759,
          574,
          448,
          172,
          818,
          456,
          907,
          499,
          968,
          506,
          444,
          426,
          331,
          742,
          378,
          282,
          382,
          382,
          304,
          304,
          792,
          252,
          342,
          1022,
          1037,
          6904,
          452,
          447,
          584,
          499
         ],
         "xaxis": "x",
         "yaxis": "y"
        }
       ],
       "layout": {
        "autosize": true,
        "barmode": "relative",
        "legend": {
         "tracegroupgap": 0
        },
        "template": {
         "data": {
          "bar": [
           {
            "error_x": {
             "color": "#2a3f5f"
            },
            "error_y": {
             "color": "#2a3f5f"
            },
            "marker": {
             "line": {
              "color": "#E5ECF6",
              "width": 0.5
             },
             "pattern": {
              "fillmode": "overlay",
              "size": 10,
              "solidity": 0.2
             }
            },
            "type": "bar"
           }
          ],
          "barpolar": [
           {
            "marker": {
             "line": {
              "color": "#E5ECF6",
              "width": 0.5
             },
             "pattern": {
              "fillmode": "overlay",
              "size": 10,
              "solidity": 0.2
             }
            },
            "type": "barpolar"
           }
          ],
          "carpet": [
           {
            "aaxis": {
             "endlinecolor": "#2a3f5f",
             "gridcolor": "white",
             "linecolor": "white",
             "minorgridcolor": "white",
             "startlinecolor": "#2a3f5f"
            },
            "baxis": {
             "endlinecolor": "#2a3f5f",
             "gridcolor": "white",
             "linecolor": "white",
             "minorgridcolor": "white",
             "startlinecolor": "#2a3f5f"
            },
            "type": "carpet"
           }
          ],
          "choropleth": [
           {
            "colorbar": {
             "outlinewidth": 0,
             "ticks": ""
            },
            "type": "choropleth"
           }
          ],
          "contour": [
           {
            "colorbar": {
             "outlinewidth": 0,
             "ticks": ""
            },
            "colorscale": [
             [
              0,
              "#0d0887"
             ],
             [
              0.1111111111111111,
              "#46039f"
             ],
             [
              0.2222222222222222,
              "#7201a8"
             ],
             [
              0.3333333333333333,
              "#9c179e"
             ],
             [
              0.4444444444444444,
              "#bd3786"
             ],
             [
              0.5555555555555556,
              "#d8576b"
             ],
             [
              0.6666666666666666,
              "#ed7953"
             ],
             [
              0.7777777777777778,
              "#fb9f3a"
             ],
             [
              0.8888888888888888,
              "#fdca26"
             ],
             [
              1,
              "#f0f921"
             ]
            ],
            "type": "contour"
           }
          ],
          "contourcarpet": [
           {
            "colorbar": {
             "outlinewidth": 0,
             "ticks": ""
            },
            "type": "contourcarpet"
           }
          ],
          "heatmap": [
           {
            "colorbar": {
             "outlinewidth": 0,
             "ticks": ""
            },
            "colorscale": [
             [
              0,
              "#0d0887"
             ],
             [
              0.1111111111111111,
              "#46039f"
             ],
             [
              0.2222222222222222,
              "#7201a8"
             ],
             [
              0.3333333333333333,
              "#9c179e"
             ],
             [
              0.4444444444444444,
              "#bd3786"
             ],
             [
              0.5555555555555556,
              "#d8576b"
             ],
             [
              0.6666666666666666,
              "#ed7953"
             ],
             [
              0.7777777777777778,
              "#fb9f3a"
             ],
             [
              0.8888888888888888,
              "#fdca26"
             ],
             [
              1,
              "#f0f921"
             ]
            ],
            "type": "heatmap"
           }
          ],
          "heatmapgl": [
           {
            "colorbar": {
             "outlinewidth": 0,
             "ticks": ""
            },
            "colorscale": [
             [
              0,
              "#0d0887"
             ],
             [
              0.1111111111111111,
              "#46039f"
             ],
             [
              0.2222222222222222,
              "#7201a8"
             ],
             [
              0.3333333333333333,
              "#9c179e"
             ],
             [
              0.4444444444444444,
              "#bd3786"
             ],
             [
              0.5555555555555556,
              "#d8576b"
             ],
             [
              0.6666666666666666,
              "#ed7953"
             ],
             [
              0.7777777777777778,
              "#fb9f3a"
             ],
             [
              0.8888888888888888,
              "#fdca26"
             ],
             [
              1,
              "#f0f921"
             ]
            ],
            "type": "heatmapgl"
           }
          ],
          "histogram": [
           {
            "marker": {
             "pattern": {
              "fillmode": "overlay",
              "size": 10,
              "solidity": 0.2
             }
            },
            "type": "histogram"
           }
          ],
          "histogram2d": [
           {
            "colorbar": {
             "outlinewidth": 0,
             "ticks": ""
            },
            "colorscale": [
             [
              0,
              "#0d0887"
             ],
             [
              0.1111111111111111,
              "#46039f"
             ],
             [
              0.2222222222222222,
              "#7201a8"
             ],
             [
              0.3333333333333333,
              "#9c179e"
             ],
             [
              0.4444444444444444,
              "#bd3786"
             ],
             [
              0.5555555555555556,
              "#d8576b"
             ],
             [
              0.6666666666666666,
              "#ed7953"
             ],
             [
              0.7777777777777778,
              "#fb9f3a"
             ],
             [
              0.8888888888888888,
              "#fdca26"
             ],
             [
              1,
              "#f0f921"
             ]
            ],
            "type": "histogram2d"
           }
          ],
          "histogram2dcontour": [
           {
            "colorbar": {
             "outlinewidth": 0,
             "ticks": ""
            },
            "colorscale": [
             [
              0,
              "#0d0887"
             ],
             [
              0.1111111111111111,
              "#46039f"
             ],
             [
              0.2222222222222222,
              "#7201a8"
             ],
             [
              0.3333333333333333,
              "#9c179e"
             ],
             [
              0.4444444444444444,
              "#bd3786"
             ],
             [
              0.5555555555555556,
              "#d8576b"
             ],
             [
              0.6666666666666666,
              "#ed7953"
             ],
             [
              0.7777777777777778,
              "#fb9f3a"
             ],
             [
              0.8888888888888888,
              "#fdca26"
             ],
             [
              1,
              "#f0f921"
             ]
            ],
            "type": "histogram2dcontour"
           }
          ],
          "mesh3d": [
           {
            "colorbar": {
             "outlinewidth": 0,
             "ticks": ""
            },
            "type": "mesh3d"
           }
          ],
          "parcoords": [
           {
            "line": {
             "colorbar": {
              "outlinewidth": 0,
              "ticks": ""
             }
            },
            "type": "parcoords"
           }
          ],
          "pie": [
           {
            "automargin": true,
            "type": "pie"
           }
          ],
          "scatter": [
           {
            "fillpattern": {
             "fillmode": "overlay",
             "size": 10,
             "solidity": 0.2
            },
            "type": "scatter"
           }
          ],
          "scatter3d": [
           {
            "line": {
             "colorbar": {
              "outlinewidth": 0,
              "ticks": ""
             }
            },
            "marker": {
             "colorbar": {
              "outlinewidth": 0,
              "ticks": ""
             }
            },
            "type": "scatter3d"
           }
          ],
          "scattercarpet": [
           {
            "marker": {
             "colorbar": {
              "outlinewidth": 0,
              "ticks": ""
             }
            },
            "type": "scattercarpet"
           }
          ],
          "scattergeo": [
           {
            "marker": {
             "colorbar": {
              "outlinewidth": 0,
              "ticks": ""
             }
            },
            "type": "scattergeo"
           }
          ],
          "scattergl": [
           {
            "marker": {
             "colorbar": {
              "outlinewidth": 0,
              "ticks": ""
             }
            },
            "type": "scattergl"
           }
          ],
          "scattermapbox": [
           {
            "marker": {
             "colorbar": {
              "outlinewidth": 0,
              "ticks": ""
             }
            },
            "type": "scattermapbox"
           }
          ],
          "scatterpolar": [
           {
            "marker": {
             "colorbar": {
              "outlinewidth": 0,
              "ticks": ""
             }
            },
            "type": "scatterpolar"
           }
          ],
          "scatterpolargl": [
           {
            "marker": {
             "colorbar": {
              "outlinewidth": 0,
              "ticks": ""
             }
            },
            "type": "scatterpolargl"
           }
          ],
          "scatterternary": [
           {
            "marker": {
             "colorbar": {
              "outlinewidth": 0,
              "ticks": ""
             }
            },
            "type": "scatterternary"
           }
          ],
          "surface": [
           {
            "colorbar": {
             "outlinewidth": 0,
             "ticks": ""
            },
            "colorscale": [
             [
              0,
              "#0d0887"
             ],
             [
              0.1111111111111111,
              "#46039f"
             ],
             [
              0.2222222222222222,
              "#7201a8"
             ],
             [
              0.3333333333333333,
              "#9c179e"
             ],
             [
              0.4444444444444444,
              "#bd3786"
             ],
             [
              0.5555555555555556,
              "#d8576b"
             ],
             [
              0.6666666666666666,
              "#ed7953"
             ],
             [
              0.7777777777777778,
              "#fb9f3a"
             ],
             [
              0.8888888888888888,
              "#fdca26"
             ],
             [
              1,
              "#f0f921"
             ]
            ],
            "type": "surface"
           }
          ],
          "table": [
           {
            "cells": {
             "fill": {
              "color": "#EBF0F8"
             },
             "line": {
              "color": "white"
             }
            },
            "header": {
             "fill": {
              "color": "#C8D4E3"
             },
             "line": {
              "color": "white"
             }
            },
            "type": "table"
           }
          ]
         },
         "layout": {
          "annotationdefaults": {
           "arrowcolor": "#2a3f5f",
           "arrowhead": 0,
           "arrowwidth": 1
          },
          "autotypenumbers": "strict",
          "coloraxis": {
           "colorbar": {
            "outlinewidth": 0,
            "ticks": ""
           }
          },
          "colorscale": {
           "diverging": [
            [
             0,
             "#8e0152"
            ],
            [
             0.1,
             "#c51b7d"
            ],
            [
             0.2,
             "#de77ae"
            ],
            [
             0.3,
             "#f1b6da"
            ],
            [
             0.4,
             "#fde0ef"
            ],
            [
             0.5,
             "#f7f7f7"
            ],
            [
             0.6,
             "#e6f5d0"
            ],
            [
             0.7,
             "#b8e186"
            ],
            [
             0.8,
             "#7fbc41"
            ],
            [
             0.9,
             "#4d9221"
            ],
            [
             1,
             "#276419"
            ]
           ],
           "sequential": [
            [
             0,
             "#0d0887"
            ],
            [
             0.1111111111111111,
             "#46039f"
            ],
            [
             0.2222222222222222,
             "#7201a8"
            ],
            [
             0.3333333333333333,
             "#9c179e"
            ],
            [
             0.4444444444444444,
             "#bd3786"
            ],
            [
             0.5555555555555556,
             "#d8576b"
            ],
            [
             0.6666666666666666,
             "#ed7953"
            ],
            [
             0.7777777777777778,
             "#fb9f3a"
            ],
            [
             0.8888888888888888,
             "#fdca26"
            ],
            [
             1,
             "#f0f921"
            ]
           ],
           "sequentialminus": [
            [
             0,
             "#0d0887"
            ],
            [
             0.1111111111111111,
             "#46039f"
            ],
            [
             0.2222222222222222,
             "#7201a8"
            ],
            [
             0.3333333333333333,
             "#9c179e"
            ],
            [
             0.4444444444444444,
             "#bd3786"
            ],
            [
             0.5555555555555556,
             "#d8576b"
            ],
            [
             0.6666666666666666,
             "#ed7953"
            ],
            [
             0.7777777777777778,
             "#fb9f3a"
            ],
            [
             0.8888888888888888,
             "#fdca26"
            ],
            [
             1,
             "#f0f921"
            ]
           ]
          },
          "colorway": [
           "#636efa",
           "#EF553B",
           "#00cc96",
           "#ab63fa",
           "#FFA15A",
           "#19d3f3",
           "#FF6692",
           "#B6E880",
           "#FF97FF",
           "#FECB52"
          ],
          "font": {
           "color": "#2a3f5f"
          },
          "geo": {
           "bgcolor": "white",
           "lakecolor": "white",
           "landcolor": "#E5ECF6",
           "showlakes": true,
           "showland": true,
           "subunitcolor": "white"
          },
          "hoverlabel": {
           "align": "left"
          },
          "hovermode": "closest",
          "mapbox": {
           "style": "light"
          },
          "paper_bgcolor": "white",
          "plot_bgcolor": "#E5ECF6",
          "polar": {
           "angularaxis": {
            "gridcolor": "white",
            "linecolor": "white",
            "ticks": ""
           },
           "bgcolor": "#E5ECF6",
           "radialaxis": {
            "gridcolor": "white",
            "linecolor": "white",
            "ticks": ""
           }
          },
          "scene": {
           "xaxis": {
            "backgroundcolor": "#E5ECF6",
            "gridcolor": "white",
            "gridwidth": 2,
            "linecolor": "white",
            "showbackground": true,
            "ticks": "",
            "zerolinecolor": "white"
           },
           "yaxis": {
            "backgroundcolor": "#E5ECF6",
            "gridcolor": "white",
            "gridwidth": 2,
            "linecolor": "white",
            "showbackground": true,
            "ticks": "",
            "zerolinecolor": "white"
           },
           "zaxis": {
            "backgroundcolor": "#E5ECF6",
            "gridcolor": "white",
            "gridwidth": 2,
            "linecolor": "white",
            "showbackground": true,
            "ticks": "",
            "zerolinecolor": "white"
           }
          },
          "shapedefaults": {
           "line": {
            "color": "#2a3f5f"
           }
          },
          "ternary": {
           "aaxis": {
            "gridcolor": "white",
            "linecolor": "white",
            "ticks": ""
           },
           "baxis": {
            "gridcolor": "white",
            "linecolor": "white",
            "ticks": ""
           },
           "bgcolor": "#E5ECF6",
           "caxis": {
            "gridcolor": "white",
            "linecolor": "white",
            "ticks": ""
           }
          },
          "title": {
           "x": 0.05
          },
          "xaxis": {
           "automargin": true,
           "gridcolor": "white",
           "linecolor": "white",
           "ticks": "",
           "title": {
            "standoff": 15
           },
           "zerolinecolor": "white",
           "zerolinewidth": 2
          },
          "yaxis": {
           "automargin": true,
           "gridcolor": "white",
           "linecolor": "white",
           "ticks": "",
           "title": {
            "standoff": 15
           },
           "zerolinecolor": "white",
           "zerolinewidth": 2
          }
         }
        },
        "title": {
         "text": "Distribution of Unique Words",
         "x": 0.5,
         "y": 0.9
        },
        "xaxis": {
         "anchor": "y",
         "autorange": true,
         "domain": [
          0,
          1
         ],
         "range": [
          -0.5,
          6999.5
         ],
         "title": {
          "text": "Character Count Grouped by 1K"
         },
         "type": "linear"
        },
        "yaxis": {
         "anchor": "x",
         "autorange": true,
         "domain": [
          0,
          1
         ],
         "range": [
          0,
          61.05263157894737
         ],
         "title": {
          "text": "Distribution of Articles by Unique Word Count"
         }
        }
       }
      },
      "image/png": "[encoded data removed]",
      "text/html": [
       "<div>                            <div id=\"705c5081-e279-4c89-af12-51272fe876a7\" class=\"plotly-graph-div\" style=\"height:600px; width:100%;\"></div>            <script type=\"text/javascript\">                require([\"plotly\"], function(Plotly) {                    window.PLOTLYENV=window.PLOTLYENV || {};                                    if (document.getElementById(\"705c5081-e279-4c89-af12-51272fe876a7\")) {                    Plotly.newPlot(                        \"705c5081-e279-4c89-af12-51272fe876a7\",                        [{\"alignmentgroup\":\"True\",\"bingroup\":\"x\",\"hovertemplate\":\"Character Count Grouped by 1K=%{x}<br>count=%{y}<extra></extra>\",\"legendgroup\":\"\",\"marker\":{\"color\":\"#636efa\",\"pattern\":{\"shape\":\"\"}},\"name\":\"\",\"offsetgroup\":\"\",\"orientation\":\"v\",\"showlegend\":false,\"x\":[473,926,529,252,219,168,188,105,145,167,169,574,480,480,318,318,516,479,490,284,1178,1800,419,532,405,717,573,940,1122,339,616,1626,440,704,1333,258,454,276,1043,314,608,497,299,344,503,296,1204,1723,535,188,256,207,364,364,216,210,882,668,430,1377,337,682,595,668,526,134,426,280,647,647,759,574,448,172,818,456,907,499,968,506,444,426,331,742,378,282,382,382,304,304,792,252,342,1022,1037,6904,452,447,584,499],\"xaxis\":\"x\",\"yaxis\":\"y\",\"type\":\"histogram\"}],                        {\"template\":{\"data\":{\"histogram2dcontour\":[{\"type\":\"histogram2dcontour\",\"colorbar\":{\"outlinewidth\":0,\"ticks\":\"\"},\"colorscale\":[[0.0,\"#0d0887\"],[0.1111111111111111,\"#46039f\"],[0.2222222222222222,\"#7201a8\"],[0.3333333333333333,\"#9c179e\"],[0.4444444444444444,\"#bd3786\"],[0.5555555555555556,\"#d8576b\"],[0.6666666666666666,\"#ed7953\"],[0.7777777777777778,\"#fb9f3a\"],[0.8888888888888888,\"#fdca26\"],[1.0,\"#f0f921\"]]}],\"choropleth\":[{\"type\":\"choropleth\",\"colorbar\":{\"outlinewidth\":0,\"ticks\":\"\"}}],\"histogram2d\":[{\"type\":\"histogram2d\",\"colorbar\":{\"outlinewidth\":0,\"ticks\":\"\"},\"colorscale\":[[0.0,\"#0d0887\"],[0.1111111111111111,\"#46039f\"],[0.2222222222222222,\"#7201a8\"],[0.3333333333333333,\"#9c179e\"],[0.4444444444444444,\"#bd3786\"],[0.5555555555555556,\"#d8576b\"],[0.6666666666666666,\"#ed7953\"],[0.7777777777777778,\"#fb9f3a\"],[0.8888888888888888,\"#fdca26\"],[1.0,\"#f0f921\"]]}],\"heatmap\":[{\"type\":\"heatmap\",\"colorbar\":{\"outlinewidth\":0,\"ticks\":\"\"},\"colorscale\":[[0.0,\"#0d0887\"],[0.1111111111111111,\"#46039f\"],[0.2222222222222222,\"#7201a8\"],[0.3333333333333333,\"#9c179e\"],[0.4444444444444444,\"#bd3786\"],[0.5555555555555556,\"#d8576b\"],[0.6666666666666666,\"#ed7953\"],[0.7777777777777778,\"#fb9f3a\"],[0.8888888888888888,\"#fdca26\"],[1.0,\"#f0f921\"]]}],\"heatmapgl\":[{\"type\":\"heatmapgl\",\"colorbar\":{\"outlinewidth\":0,\"ticks\":\"\"},\"colorscale\":[[0.0,\"#0d0887\"],[0.1111111111111111,\"#46039f\"],[0.2222222222222222,\"#7201a8\"],[0.3333333333333333,\"#9c179e\"],[0.4444444444444444,\"#bd3786\"],[0.5555555555555556,\"#d8576b\"],[0.6666666666666666,\"#ed7953\"],[0.7777777777777778,\"#fb9f3a\"],[0.8888888888888888,\"#fdca26\"],[1.0,\"#f0f921\"]]}],\"contourcarpet\":[{\"type\":\"contourcarpet\",\"colorbar\":{\"outlinewidth\":0,\"ticks\":\"\"}}],\"contour\":[{\"type\":\"contour\",\"colorbar\":{\"outlinewidth\":0,\"ticks\":\"\"},\"colorscale\":[[0.0,\"#0d0887\"],[0.1111111111111111,\"#46039f\"],[0.2222222222222222,\"#7201a8\"],[0.3333333333333333,\"#9c179e\"],[0.4444444444444444,\"#bd3786\"],[0.5555555555555556,\"#d8576b\"],[0.6666666666666666,\"#ed7953\"],[0.7777777777777778,\"#fb9f3a\"],[0.8888888888888888,\"#fdca26\"],[1.0,\"#f0f921\"]]}],\"surface\":[{\"type\":\"surface\",\"colorbar\":{\"outlinewidth\":0,\"ticks\":\"\"},\"colorscale\":[[0.0,\"#0d0887\"],[0.1111111111111111,\"#46039f\"],[0.2222222222222222,\"#7201a8\"],[0.3333333333333333,\"#9c179e\"],[0.4444444444444444,\"#bd3786\"],[0.5555555555555556,\"#d8576b\"],[0.6666666666666666,\"#ed7953\"],[0.7777777777777778,\"#fb9f3a\"],[0.8888888888888888,\"#fdca26\"],[1.0,\"#f0f921\"]]}],\"mesh3d\":[{\"type\":\"mesh3d\",\"colorbar\":{\"outlinewidth\":0,\"ticks\":\"\"}}],\"scatter\":[{\"fillpattern\":{\"fillmode\":\"overlay\",\"size\":10,\"solidity\":0.2},\"type\":\"scatter\"}],\"parcoords\":[{\"type\":\"parcoords\",\"line\":{\"colorbar\":{\"outlinewidth\":0,\"ticks\":\"\"}}}],\"scatterpolargl\":[{\"type\":\"scatterpolargl\",\"marker\":{\"colorbar\":{\"outlinewidth\":0,\"ticks\":\"\"}}}],\"bar\":[{\"error_x\":{\"color\":\"#2a3f5f\"},\"error_y\":{\"color\":\"#2a3f5f\"},\"marker\":{\"line\":{\"color\":\"#E5ECF6\",\"width\":0.5},\"pattern\":{\"fillmode\":\"overlay\",\"size\":10,\"solidity\":0.2}},\"type\":\"bar\"}],\"scattergeo\":[{\"type\":\"scattergeo\",\"marker\":{\"colorbar\":{\"outlinewidth\":0,\"ticks\":\"\"}}}],\"scatterpolar\":[{\"type\":\"scatterpolar\",\"marker\":{\"colorbar\":{\"outlinewidth\":0,\"ticks\":\"\"}}}],\"histogram\":[{\"marker\":{\"pattern\":{\"fillmode\":\"overlay\",\"size\":10,\"solidity\":0.2}},\"type\":\"histogram\"}],\"scattergl\":[{\"type\":\"scattergl\",\"marker\":{\"colorbar\":{\"outlinewidth\":0,\"ticks\":\"\"}}}],\"scatter3d\":[{\"type\":\"scatter3d\",\"line\":{\"colorbar\":{\"outlinewidth\":0,\"ticks\":\"\"}},\"marker\":{\"colorbar\":{\"outlinewidth\":0,\"ticks\":\"\"}}}],\"scattermapbox\":[{\"type\":\"scattermapbox\",\"marker\":{\"colorbar\":{\"outlinewidth\":0,\"ticks\":\"\"}}}],\"scatterternary\":[{\"type\":\"scatterternary\",\"marker\":{\"colorbar\":{\"outlinewidth\":0,\"ticks\":\"\"}}}],\"scattercarpet\":[{\"type\":\"scattercarpet\",\"marker\":{\"colorbar\":{\"outlinewidth\":0,\"ticks\":\"\"}}}],\"carpet\":[{\"aaxis\":{\"endlinecolor\":\"#2a3f5f\",\"gridcolor\":\"white\",\"linecolor\":\"white\",\"minorgridcolor\":\"white\",\"startlinecolor\":\"#2a3f5f\"},\"baxis\":{\"endlinecolor\":\"#2a3f5f\",\"gridcolor\":\"white\",\"linecolor\":\"white\",\"minorgridcolor\":\"white\",\"startlinecolor\":\"#2a3f5f\"},\"type\":\"carpet\"}],\"table\":[{\"cells\":{\"fill\":{\"color\":\"#EBF0F8\"},\"line\":{\"color\":\"white\"}},\"header\":{\"fill\":{\"color\":\"#C8D4E3\"},\"line\":{\"color\":\"white\"}},\"type\":\"table\"}],\"barpolar\":[{\"marker\":{\"line\":{\"color\":\"#E5ECF6\",\"width\":0.5},\"pattern\":{\"fillmode\":\"overlay\",\"size\":10,\"solidity\":0.2}},\"type\":\"barpolar\"}],\"pie\":[{\"automargin\":true,\"type\":\"pie\"}]},\"layout\":{\"autotypenumbers\":\"strict\",\"colorway\":[\"#636efa\",\"#EF553B\",\"#00cc96\",\"#ab63fa\",\"#FFA15A\",\"#19d3f3\",\"#FF6692\",\"#B6E880\",\"#FF97FF\",\"#FECB52\"],\"font\":{\"color\":\"#2a3f5f\"},\"hovermode\":\"closest\",\"hoverlabel\":{\"align\":\"left\"},\"paper_bgcolor\":\"white\",\"plot_bgcolor\":\"#E5ECF6\",\"polar\":{\"bgcolor\":\"#E5ECF6\",\"angularaxis\":{\"gridcolor\":\"white\",\"linecolor\":\"white\",\"ticks\":\"\"},\"radialaxis\":{\"gridcolor\":\"white\",\"linecolor\":\"white\",\"ticks\":\"\"}},\"ternary\":{\"bgcolor\":\"#E5ECF6\",\"aaxis\":{\"gridcolor\":\"white\",\"linecolor\":\"white\",\"ticks\":\"\"},\"baxis\":{\"gridcolor\":\"white\",\"linecolor\":\"white\",\"ticks\":\"\"},\"caxis\":{\"gridcolor\":\"white\",\"linecolor\":\"white\",\"ticks\":\"\"}},\"coloraxis\":{\"colorbar\":{\"outlinewidth\":0,\"ticks\":\"\"}},\"colorscale\":{\"sequential\":[[0.0,\"#0d0887\"],[0.1111111111111111,\"#46039f\"],[0.2222222222222222,\"#7201a8\"],[0.3333333333333333,\"#9c179e\"],[0.4444444444444444,\"#bd3786\"],[0.5555555555555556,\"#d8576b\"],[0.6666666666666666,\"#ed7953\"],[0.7777777777777778,\"#fb9f3a\"],[0.8888888888888888,\"#fdca26\"],[1.0,\"#f0f921\"]],\"sequentialminus\":[[0.0,\"#0d0887\"],[0.1111111111111111,\"#46039f\"],[0.2222222222222222,\"#7201a8\"],[0.3333333333333333,\"#9c179e\"],[0.4444444444444444,\"#bd3786\"],[0.5555555555555556,\"#d8576b\"],[0.6666666666666666,\"#ed7953\"],[0.7777777777777778,\"#fb9f3a\"],[0.8888888888888888,\"#fdca26\"],[1.0,\"#f0f921\"]],\"diverging\":[[0,\"#8e0152\"],[0.1,\"#c51b7d\"],[0.2,\"#de77ae\"],[0.3,\"#f1b6da\"],[0.4,\"#fde0ef\"],[0.5,\"#f7f7f7\"],[0.6,\"#e6f5d0\"],[0.7,\"#b8e186\"],[0.8,\"#7fbc41\"],[0.9,\"#4d9221\"],[1,\"#276419\"]]},\"xaxis\":{\"gridcolor\":\"white\",\"linecolor\":\"white\",\"ticks\":\"\",\"title\":{\"standoff\":15},\"zerolinecolor\":\"white\",\"automargin\":true,\"zerolinewidth\":2},\"yaxis\":{\"gridcolor\":\"white\",\"linecolor\":\"white\",\"ticks\":\"\",\"title\":{\"standoff\":15},\"zerolinecolor\":\"white\",\"automargin\":true,\"zerolinewidth\":2},\"scene\":{\"xaxis\":{\"backgroundcolor\":\"#E5ECF6\",\"gridcolor\":\"white\",\"linecolor\":\"white\",\"showbackground\":true,\"ticks\":\"\",\"zerolinecolor\":\"white\",\"gridwidth\":2},\"yaxis\":{\"backgroundcolor\":\"#E5ECF6\",\"gridcolor\":\"white\",\"linecolor\":\"white\",\"showbackground\":true,\"ticks\":\"\",\"zerolinecolor\":\"white\",\"gridwidth\":2},\"zaxis\":{\"backgroundcolor\":\"#E5ECF6\",\"gridcolor\":\"white\",\"linecolor\":\"white\",\"showbackground\":true,\"ticks\":\"\",\"zerolinecolor\":\"white\",\"gridwidth\":2}},\"shapedefaults\":{\"line\":{\"color\":\"#2a3f5f\"}},\"annotationdefaults\":{\"arrowcolor\":\"#2a3f5f\",\"arrowhead\":0,\"arrowwidth\":1},\"geo\":{\"bgcolor\":\"white\",\"landcolor\":\"#E5ECF6\",\"subunitcolor\":\"white\",\"showland\":true,\"showlakes\":true,\"lakecolor\":\"white\"},\"title\":{\"x\":0.05},\"mapbox\":{\"style\":\"light\"}}},\"xaxis\":{\"anchor\":\"y\",\"domain\":[0.0,1.0],\"title\":{\"text\":\"Character Count Grouped by 1K\"}},\"yaxis\":{\"anchor\":\"x\",\"domain\":[0.0,1.0],\"title\":{\"text\":\"Distribution of Articles by Unique Word Count\"}},\"legend\":{\"tracegroupgap\":0},\"title\":{\"text\":\"Distribution of Unique Words\",\"y\":0.9,\"x\":0.5},\"barmode\":\"relative\",\"height\":600},                        {\"responsive\": true}                    ).then(function(){\n",
       "                            \n",
       "var gd = document.getElementById('705c5081-e279-4c89-af12-51272fe876a7');\n",
       "var x = new MutationObserver(function (mutations, observer) {{\n",
       "        var display = window.getComputedStyle(gd).display;\n",
       "        if (!display || display === 'none') {{\n",
       "            console.log([gd, 'removed!']);\n",
       "            Plotly.purge(gd);\n",
       "            observer.disconnect();\n",
       "        }}\n",
       "}});\n",
       "\n",
       "// Listen for the removal of the full notebook cells\n",
       "var notebookContainer = gd.closest('#notebook-container');\n",
       "if (notebookContainer) {{\n",
       "    x.observe(notebookContainer, {childList: true});\n",
       "}}\n",
       "\n",
       "// Listen for the clearing of the current output cell\n",
       "var outputEl = gd.closest('.output');\n",
       "if (outputEl) {{\n",
       "    x.observe(outputEl, {childList: true});\n",
       "}}\n",
       "\n",
       "                        })                };                });            </script>        </div>"
      ]
     },
     "metadata": {},
     "output_type": "display_data"
    }
   ],
   "source": [
    "# creating a histogram using plotly to visualize character count\n",
    "fig = px.histogram( x = train_df[\"unique word count\"],                    # passing character count on the x-axis\n",
    "                   title=\"Distribution of Unique Words\",     # editing the title of the graph\n",
    "                   height = 600,                                              # adjusting height\n",
    "                   labels = dict(x = \"Character Count Grouped by 1K\"))       # adding a label to the x-axis\n",
    "\n",
    "fig.update_yaxes(title_text = \"Distribution of Articles by Unique Word Count\")  # editing the y-axis title\n",
    "\n",
    "fig.update_layout(title = {'y' : 0.9, 'x' : 0.5})  # ensuring that the title is centred"
   ]
  },
  {
   "cell_type": "markdown",
   "id": "f887e465-2110-49fa-9f6d-c47668903b8d",
   "metadata": {},
   "source": [
    "### Word Count Takeaway\n",
    "\n",
    "+ It looks as if only one article has more than 7,000 words\n",
    "+ While the rest of the articles are under 2,000\n",
    "+ This has a very similar pattern to the two graphs above and it is likely that one article that is an outlier\n",
    "\n",
    "## Next Steps\n",
    "\n",
    "### Data Modelling\n",
    "\n",
    "+ Build a Neural Network that will be able to consume the pre-processed text and output a label\n",
    "+ For this task specifically, we will use a Siamese Network\n",
    "+ Siamese network was chosen because it can address the class imbalance and small data set sizes"
   ]
  },
  {
   "cell_type": "code",
   "execution_count": 17,
   "id": "d1e81bd5-b112-4cd7-b9e3-dffd6102ffd7",
   "metadata": {},
   "outputs": [],
   "source": [
    "import random\n",
    "import numpy as np\n",
    "import tensorflow as tf\n",
    "\n",
    "# wherever possible, for reproducibility of results\n",
    "np.random.seed(42)\n",
    "tf.random.set_seed(seed = 42)"
   ]
  },
  {
   "cell_type": "code",
   "execution_count": 18,
   "id": "8b8a8043-ea9a-44ae-ac7c-cac71d0fd795",
   "metadata": {},
   "outputs": [
    {
     "data": {
      "text/html": [
       "<div>\n",
       "<style scoped>\n",
       "    .dataframe tbody tr th:only-of-type {\n",
       "        vertical-align: middle;\n",
       "    }\n",
       "\n",
       "    .dataframe tbody tr th {\n",
       "        vertical-align: top;\n",
       "    }\n",
       "\n",
       "    .dataframe thead th {\n",
       "        text-align: right;\n",
       "    }\n",
       "</style>\n",
       "<table border=\"1\" class=\"dataframe\">\n",
       "  <thead>\n",
       "    <tr style=\"text-align: right;\">\n",
       "      <th></th>\n",
       "      <th>index</th>\n",
       "      <th>label</th>\n",
       "    </tr>\n",
       "  </thead>\n",
       "  <tbody>\n",
       "    <tr>\n",
       "      <th>0</th>\n",
       "      <td>2</td>\n",
       "      <td>59</td>\n",
       "    </tr>\n",
       "    <tr>\n",
       "      <th>1</th>\n",
       "      <td>1</td>\n",
       "      <td>32</td>\n",
       "    </tr>\n",
       "    <tr>\n",
       "      <th>2</th>\n",
       "      <td>3</td>\n",
       "      <td>9</td>\n",
       "    </tr>\n",
       "  </tbody>\n",
       "</table>\n",
       "</div>"
      ],
      "text/plain": [
       "   index  label\n",
       "0      2     59\n",
       "1      1     32\n",
       "2      3      9"
      ]
     },
     "execution_count": 18,
     "metadata": {},
     "output_type": "execute_result"
    }
   ],
   "source": [
    "# counting the labels to understand the distribution of labels and to size the imbalance\n",
    "train_df['label'].value_counts().reset_index()"
   ]
  },
  {
   "cell_type": "markdown",
   "id": "561a8a6a-6bce-4908-b09a-380df3d3125d",
   "metadata": {},
   "source": [
    "### A Siamese Network can fit the task well\n",
    "\n",
    "+  There is an imbalance on the labels side\n",
    "+ There are 59 documents for  label 2, 32 documents for label 1 and only 9 documents for label 3)"
   ]
  },
  {
   "cell_type": "markdown",
   "id": "b5007878-7126-4e40-8419-5bb713152286",
   "metadata": {},
   "source": [
    "### Data Generators\n",
    "\n",
    "+ Define a 'Pair' class that is used to generate batches of data pairs for a siamese network\n",
    "+ The 'Pair' class divides the data into anchor and negative groups for each class\n",
    "+ Where the anchor consists of the positive instances for a class and the negative group consists of the instances for all other classes\n",
    "+ The __getitem__ method of the class returns a batch of data pairs and their targets\n",
    "+ For each batch, it generates data pairs consisting of an anchor instance and a positive instance from the same class, and an anchor instance and a negative instance from a different class\n",
    "+ The get_support_set method returns a dictionary of sample sets of certain sizes for each target class, which is used to pass the input text multiple times through the model to provide a stable estimate \n",
    "+ The generated data pairs and their targets are returned as a numpy array and a tensorflow tensor, respectively"
   ]
  },
  {
   "cell_type": "code",
   "execution_count": 19,
   "id": "451b06f7-919c-4445-bc11-3edc842038b6",
   "metadata": {},
   "outputs": [],
   "source": [
    "class Pair(tf.keras.utils.Sequence):\n",
    "    def __init__(self, dataframe: pd.DataFrame, labels: pd.Series, n_batch: int, batch_size: int):\n",
    "        \"\"\"Initialize Pair class with required parameters\"\"\"\n",
    "        \n",
    "        # Store input data and labels\n",
    "        self.dataframe = dataframe\n",
    "        self.labels = labels\n",
    "        \n",
    "        # Define the number of batches and batch size\n",
    "        self.n_batch = n_batch\n",
    "        self.batch_size = batch_size\n",
    "        \n",
    "        # Find all unique classes in the input data\n",
    "        self.all_classes = set(self.labels)\n",
    "        \n",
    "        # Divide the data into anchor and negative groups for each class\n",
    "        self.anchor_groups = {}\n",
    "        for target_class in self.all_classes:\n",
    "            self.anchor_groups[target_class] = {\n",
    "                \"positive\": self.dataframe[self.labels == target_class],\n",
    "                \"negative\": self.dataframe[self.labels != target_class]\n",
    "            }\n",
    "\n",
    "    def __len__(self):\n",
    "        \"\"\"Returns the number of batches\"\"\"\n",
    "        return self.n_batch\n",
    "\n",
    "    def __getitem__(self, item):\n",
    "        \"\"\"Returns a batch of data pairs and their targets\"\"\"\n",
    "        pairs = []\n",
    "        \n",
    "        # Generate data pairs for the batch\n",
    "        for i in range(int(self.batch_size / 2)):\n",
    "            anchor_class = random.randint(1, 3)\n",
    "            anchor_group = self.anchor_groups[anchor_class][\"positive\"]\n",
    "            not_anchor_group = self.anchor_groups[anchor_class][\"negative\"]\n",
    "\n",
    "            anchor = anchor_group.sample(n=1).iloc[0]\n",
    "            positive = anchor_group.sample(n=1).iloc[0]\n",
    "            negative = not_anchor_group.sample(n=1).iloc[0]\n",
    "\n",
    "            pairs.append([anchor, positive, 1])\n",
    "            pairs.append([anchor, negative, 0])\n",
    "\n",
    "        # Shuffle the pairs and convert them to numpy array\n",
    "        random.shuffle(x=pairs)\n",
    "        pairs = np.array(pairs)\n",
    "\n",
    "        # Get data pairs and their targets\n",
    "        data_pairs = pairs[:, :2]\n",
    "        targets = pairs[:, 2]\n",
    "\n",
    "        # Convert targets to tensorflow tensor and return data pairs and targets\n",
    "        return data_pairs, tf.convert_to_tensor(targets, dtype=np.float32)\n",
    "\n",
    "    def get_support_set(self, sample_size: int = 1):\n",
    "        \"\"\"Returns sample sets of certain size of each target class\"\"\"\n",
    "        support_set = {}\n",
    "        for target_class in self.all_classes:\n",
    "            support_set[target_class] = self.anchor_groups[target_class][\"positive\"].sample(n=sample_size)\n",
    "        return support_set"
   ]
  },
  {
   "cell_type": "markdown",
   "id": "72861d61-9496-4a97-a774-1e8250551c1d",
   "metadata": {},
   "source": [
    "## Building a Siamese Neural Network\n",
    "\n",
    "### What is a Siamese Neural Network?\n",
    "\n",
    "+ A neural network that learns to compare and measure the similarity of inputs\n",
    "+ It uses a TextVectorization layer to convert text inputs into numeric vectors\n",
    "+ Encodes the vectors using a multilayer perceptron\n",
    "+ The Neural Network is then trained to minimize the distance between vectors of the same class and maximize the distance between vectors of different classes"
   ]
  },
  {
   "cell_type": "code",
   "execution_count": 20,
   "id": "7d875254-ffaf-41c5-a6a0-5cfec879792b",
   "metadata": {},
   "outputs": [],
   "source": [
    "class SiameseNetwork(tf.keras.Model):\n",
    "    def __init__(self, corpora: pd.Series):\n",
    "        super(SiameseNetwork, self).__init__()\n",
    "        \n",
    "        # Define the TextVectorization layer for the input\n",
    "        self.vectorizer_layer: tf.keras.layers.TextVectorization = tf.keras.layers.TextVectorization(\n",
    "            max_tokens=2000,  # Maximum number of unique tokens in the vocabulary\n",
    "            output_mode=\"int\",  # Output integers instead of one-hot encoding\n",
    "            output_sequence_length=512  # Length of the output sequence\n",
    "        )\n",
    "        \n",
    "        # Adapt the TextVectorization layer to the corpus of input data\n",
    "        self.vectorizer_layer.adapt(corpora.values)\n",
    "        \n",
    "        # Define the neural network encoder layers\n",
    "        self.encoder = tf.keras.Sequential(layers=[\n",
    "            self.vectorizer_layer,\n",
    "            tf.keras.layers.Dense(units=256, activation=tf.keras.activations.relu),\n",
    "            tf.keras.layers.Dropout(rate=0.3),\n",
    "            tf.keras.layers.Dense(units=128, activation=tf.keras.activations.relu),\n",
    "            tf.keras.layers.Dropout(rate=0.3),\n",
    "            tf.keras.layers.Dense(units=64, activation=tf.keras.activations.relu),\n",
    "            tf.keras.layers.Lambda(function=lambda x: tf.math.l2_normalize(x, axis=1))\n",
    "        ])\n",
    "        \n",
    "        # Define the distance layer between the encoded inputs\n",
    "        self.encoding_distance = tf.keras.layers.Dot(axes=1)\n",
    "\n",
    "    def __call__(self, inputs, *args, **kwargs):\n",
    "        # Split the inputs into anchors and supports\n",
    "        anchors, supports = inputs[:, 0], inputs[:, 1]\n",
    "        \n",
    "        # Encode the anchors and supports using the encoder neural network\n",
    "        anchors_encoded = self.encoder(anchors)\n",
    "        supports_encoded = self.encoder(supports)\n",
    "        \n",
    "        # Compute the distance between the encoded anchors and supports\n",
    "        return self.encoding_distance((anchors_encoded, supports_encoded))\n",
    "\n",
    "    def predict_with_support_set(self, entry, support_set: dict):\n",
    "        \"\"\"\n",
    "        Custom method that wraps around the __call__ method.\n",
    "        It is used to pass the entry (input text) multiple times\n",
    "        through the model to average out the losses and provide more\n",
    "        stable estimate.\n",
    "        \"\"\"\n",
    "        # Compute the mean distance between the input entry and the support set for each class\n",
    "        scores = {}\n",
    "        for instance_class, texts in support_set.items():\n",
    "            class_scores = ([self(np.array([entry, text]).reshape((-1, 2))) for text in texts])\n",
    "            scores[instance_class] = tf.math.reduce_mean(class_scores)\n",
    "        \n",
    "        # Return the class with the highest mean distance score\n",
    "        return max(scores, key=scores.get)"
   ]
  },
  {
   "cell_type": "code",
   "execution_count": 21,
   "id": "611e0ee5-1242-4ad4-b2d8-2a1257e8c119",
   "metadata": {},
   "outputs": [],
   "source": [
    "# creating a siamese network model using the training data\n",
    "model = SiameseNetwork(corpora = train_df['preprocessed_text'])"
   ]
  },
  {
   "cell_type": "code",
   "execution_count": 22,
   "id": "78903168-57d1-4b02-850f-4f2e5154232d",
   "metadata": {},
   "outputs": [],
   "source": [
    "# compiling the model with binary cross entropy loss function, adam optimizer and binary accuracy metric\n",
    "model.compile(loss = 'binary_crossentropy', optimizer = 'adam', metrics = 'binary_accuracy')"
   ]
  },
  {
   "cell_type": "markdown",
   "id": "bb7eb7a3-6f3b-4c78-9599-1b7eee383743",
   "metadata": {},
   "source": [
    "### Defining the three variables in the compile function\n",
    "\n",
    "+ Binary Crossentropy: It is a method for evaluating how well a model is performing when trying to predict a binary outcome (Ie. 0 or 1, True or False)\n",
    "+ Optimizer: A popular optimization algorithm used in Machine & Deep Learning to update the weights of a neural network during training\n",
    "+ Binary Accuracy Metric: A performance metric used to evaluate the accuracy of binary classification models."
   ]
  },
  {
   "cell_type": "code",
   "execution_count": 23,
   "id": "4c22a866-c342-4f16-8d4c-a73c74e21e73",
   "metadata": {},
   "outputs": [],
   "source": [
    "# importing train_test_split library from sklearn\n",
    "from sklearn.model_selection import train_test_split\n",
    "\n",
    "# splitting the training data into training and validation sets, stratified by the label\n",
    "X_train, X_val, y_train, y_val = train_test_split(train_df[\"preprocessed_text\"], train_df[\"label\"],\n",
    "                                                      test_size=0.2,\n",
    "                                                      random_state=42, \n",
    "                                                      stratify=train_df[\"label\"])"
   ]
  },
  {
   "cell_type": "code",
   "execution_count": 24,
   "id": "ea232207-82d1-4c0e-a498-4628faec8189",
   "metadata": {},
   "outputs": [],
   "source": [
    "# training params\n",
    "batch_size = 64\n",
    "n_batch = 100\n",
    "\n",
    "# we instantiate training and validation data / pair generators\n",
    "train_gen = Pair(dataframe = X_train, labels = y_train, n_batch = n_batch, batch_size = batch_size)\n",
    "val_gen = Pair(dataframe = X_val, labels = y_val, n_batch = n_batch, batch_size = batch_size)"
   ]
  },
  {
   "cell_type": "code",
   "execution_count": 25,
   "id": "2834620e-9365-429b-a8d1-53782af5d04a",
   "metadata": {},
   "outputs": [],
   "source": [
    "# creating an earlystop callback to prevent overfitting\n",
    "early_stopping_callback = tf.keras.callbacks.EarlyStopping(monitor=\"val_loss\", patience=3)"
   ]
  },
  {
   "cell_type": "code",
   "execution_count": 26,
   "id": "123dd4e6-8ba6-4b69-a919-fb1dd42f9876",
   "metadata": {},
   "outputs": [
    {
     "name": "stdout",
     "output_type": "stream",
     "text": [
      "Epoch 1/10\n",
      "100/100 [==============================] - 11s 103ms/step - loss: 0.1494 - binary_accuracy: 0.9298 - val_loss: 0.9457 - val_binary_accuracy: 0.5720\n",
      "Epoch 2/10\n",
      "100/100 [==============================] - 10s 101ms/step - loss: 0.0215 - binary_accuracy: 0.9881 - val_loss: 1.0480 - val_binary_accuracy: 0.5628\n",
      "Epoch 3/10\n",
      "100/100 [==============================] - 10s 105ms/step - loss: 0.0224 - binary_accuracy: 0.9883 - val_loss: 0.9650 - val_binary_accuracy: 0.5903\n",
      "Epoch 4/10\n",
      "100/100 [==============================] - 10s 100ms/step - loss: 0.0198 - binary_accuracy: 0.9900 - val_loss: 1.0732 - val_binary_accuracy: 0.5659\n"
     ]
    }
   ],
   "source": [
    "# fitting the model on the training data using a generator, with validation data and an early stop callback\n",
    "history = model.fit(\n",
    "    x = train_gen,\n",
    "    validation_data = val_gen,\n",
    "    epochs = 10,\n",
    "    callbacks = [early_stopping_callback],\n",
    "    verbose = 1\n",
    ")"
   ]
  },
  {
   "cell_type": "markdown",
   "id": "5ac7751d-558f-4189-b519-4fceb57b675c",
   "metadata": {},
   "source": [
    "### Model Evaluation\n",
    "\n",
    "+ It is time to evaluate the produced model\n",
    "+ The history object: all training information is stored in the history object that is returned by the model.fit()"
   ]
  },
  {
   "cell_type": "code",
   "execution_count": 27,
   "id": "b0f654f9-07e2-4e48-b378-66bdb3b3fce0",
   "metadata": {},
   "outputs": [
    {
     "data": {
      "application/vnd.plotly.v1+json": {
       "config": {
        "plotlyServerURL": "https://plot.ly"
       },
       "data": [
        {
         "name": "Training Accuracy",
         "type": "scatter",
         "y": [
          0.9298437237739563,
          0.9881250262260437,
          0.98828125,
          0.9900000095367432
         ]
        },
        {
         "name": "Validation Accuracy",
         "type": "scatter",
         "y": [
          0.5720312595367432,
          0.5628125071525574,
          0.5903124809265137,
          0.5659375190734863
         ]
        }
       ],
       "layout": {
        "height": 500,
        "template": {
         "data": {
          "bar": [
           {
            "error_x": {
             "color": "#2a3f5f"
            },
            "error_y": {
             "color": "#2a3f5f"
            },
            "marker": {
             "line": {
              "color": "#E5ECF6",
              "width": 0.5
             },
             "pattern": {
              "fillmode": "overlay",
              "size": 10,
              "solidity": 0.2
             }
            },
            "type": "bar"
           }
          ],
          "barpolar": [
           {
            "marker": {
             "line": {
              "color": "#E5ECF6",
              "width": 0.5
             },
             "pattern": {
              "fillmode": "overlay",
              "size": 10,
              "solidity": 0.2
             }
            },
            "type": "barpolar"
           }
          ],
          "carpet": [
           {
            "aaxis": {
             "endlinecolor": "#2a3f5f",
             "gridcolor": "white",
             "linecolor": "white",
             "minorgridcolor": "white",
             "startlinecolor": "#2a3f5f"
            },
            "baxis": {
             "endlinecolor": "#2a3f5f",
             "gridcolor": "white",
             "linecolor": "white",
             "minorgridcolor": "white",
             "startlinecolor": "#2a3f5f"
            },
            "type": "carpet"
           }
          ],
          "choropleth": [
           {
            "colorbar": {
             "outlinewidth": 0,
             "ticks": ""
            },
            "type": "choropleth"
           }
          ],
          "contour": [
           {
            "colorbar": {
             "outlinewidth": 0,
             "ticks": ""
            },
            "colorscale": [
             [
              0,
              "#0d0887"
             ],
             [
              0.1111111111111111,
              "#46039f"
             ],
             [
              0.2222222222222222,
              "#7201a8"
             ],
             [
              0.3333333333333333,
              "#9c179e"
             ],
             [
              0.4444444444444444,
              "#bd3786"
             ],
             [
              0.5555555555555556,
              "#d8576b"
             ],
             [
              0.6666666666666666,
              "#ed7953"
             ],
             [
              0.7777777777777778,
              "#fb9f3a"
             ],
             [
              0.8888888888888888,
              "#fdca26"
             ],
             [
              1,
              "#f0f921"
             ]
            ],
            "type": "contour"
           }
          ],
          "contourcarpet": [
           {
            "colorbar": {
             "outlinewidth": 0,
             "ticks": ""
            },
            "type": "contourcarpet"
           }
          ],
          "heatmap": [
           {
            "colorbar": {
             "outlinewidth": 0,
             "ticks": ""
            },
            "colorscale": [
             [
              0,
              "#0d0887"
             ],
             [
              0.1111111111111111,
              "#46039f"
             ],
             [
              0.2222222222222222,
              "#7201a8"
             ],
             [
              0.3333333333333333,
              "#9c179e"
             ],
             [
              0.4444444444444444,
              "#bd3786"
             ],
             [
              0.5555555555555556,
              "#d8576b"
             ],
             [
              0.6666666666666666,
              "#ed7953"
             ],
             [
              0.7777777777777778,
              "#fb9f3a"
             ],
             [
              0.8888888888888888,
              "#fdca26"
             ],
             [
              1,
              "#f0f921"
             ]
            ],
            "type": "heatmap"
           }
          ],
          "heatmapgl": [
           {
            "colorbar": {
             "outlinewidth": 0,
             "ticks": ""
            },
            "colorscale": [
             [
              0,
              "#0d0887"
             ],
             [
              0.1111111111111111,
              "#46039f"
             ],
             [
              0.2222222222222222,
              "#7201a8"
             ],
             [
              0.3333333333333333,
              "#9c179e"
             ],
             [
              0.4444444444444444,
              "#bd3786"
             ],
             [
              0.5555555555555556,
              "#d8576b"
             ],
             [
              0.6666666666666666,
              "#ed7953"
             ],
             [
              0.7777777777777778,
              "#fb9f3a"
             ],
             [
              0.8888888888888888,
              "#fdca26"
             ],
             [
              1,
              "#f0f921"
             ]
            ],
            "type": "heatmapgl"
           }
          ],
          "histogram": [
           {
            "marker": {
             "pattern": {
              "fillmode": "overlay",
              "size": 10,
              "solidity": 0.2
             }
            },
            "type": "histogram"
           }
          ],
          "histogram2d": [
           {
            "colorbar": {
             "outlinewidth": 0,
             "ticks": ""
            },
            "colorscale": [
             [
              0,
              "#0d0887"
             ],
             [
              0.1111111111111111,
              "#46039f"
             ],
             [
              0.2222222222222222,
              "#7201a8"
             ],
             [
              0.3333333333333333,
              "#9c179e"
             ],
             [
              0.4444444444444444,
              "#bd3786"
             ],
             [
              0.5555555555555556,
              "#d8576b"
             ],
             [
              0.6666666666666666,
              "#ed7953"
             ],
             [
              0.7777777777777778,
              "#fb9f3a"
             ],
             [
              0.8888888888888888,
              "#fdca26"
             ],
             [
              1,
              "#f0f921"
             ]
            ],
            "type": "histogram2d"
           }
          ],
          "histogram2dcontour": [
           {
            "colorbar": {
             "outlinewidth": 0,
             "ticks": ""
            },
            "colorscale": [
             [
              0,
              "#0d0887"
             ],
             [
              0.1111111111111111,
              "#46039f"
             ],
             [
              0.2222222222222222,
              "#7201a8"
             ],
             [
              0.3333333333333333,
              "#9c179e"
             ],
             [
              0.4444444444444444,
              "#bd3786"
             ],
             [
              0.5555555555555556,
              "#d8576b"
             ],
             [
              0.6666666666666666,
              "#ed7953"
             ],
             [
              0.7777777777777778,
              "#fb9f3a"
             ],
             [
              0.8888888888888888,
              "#fdca26"
             ],
             [
              1,
              "#f0f921"
             ]
            ],
            "type": "histogram2dcontour"
           }
          ],
          "mesh3d": [
           {
            "colorbar": {
             "outlinewidth": 0,
             "ticks": ""
            },
            "type": "mesh3d"
           }
          ],
          "parcoords": [
           {
            "line": {
             "colorbar": {
              "outlinewidth": 0,
              "ticks": ""
             }
            },
            "type": "parcoords"
           }
          ],
          "pie": [
           {
            "automargin": true,
            "type": "pie"
           }
          ],
          "scatter": [
           {
            "fillpattern": {
             "fillmode": "overlay",
             "size": 10,
             "solidity": 0.2
            },
            "type": "scatter"
           }
          ],
          "scatter3d": [
           {
            "line": {
             "colorbar": {
              "outlinewidth": 0,
              "ticks": ""
             }
            },
            "marker": {
             "colorbar": {
              "outlinewidth": 0,
              "ticks": ""
             }
            },
            "type": "scatter3d"
           }
          ],
          "scattercarpet": [
           {
            "marker": {
             "colorbar": {
              "outlinewidth": 0,
              "ticks": ""
             }
            },
            "type": "scattercarpet"
           }
          ],
          "scattergeo": [
           {
            "marker": {
             "colorbar": {
              "outlinewidth": 0,
              "ticks": ""
             }
            },
            "type": "scattergeo"
           }
          ],
          "scattergl": [
           {
            "marker": {
             "colorbar": {
              "outlinewidth": 0,
              "ticks": ""
             }
            },
            "type": "scattergl"
           }
          ],
          "scattermapbox": [
           {
            "marker": {
             "colorbar": {
              "outlinewidth": 0,
              "ticks": ""
             }
            },
            "type": "scattermapbox"
           }
          ],
          "scatterpolar": [
           {
            "marker": {
             "colorbar": {
              "outlinewidth": 0,
              "ticks": ""
             }
            },
            "type": "scatterpolar"
           }
          ],
          "scatterpolargl": [
           {
            "marker": {
             "colorbar": {
              "outlinewidth": 0,
              "ticks": ""
             }
            },
            "type": "scatterpolargl"
           }
          ],
          "scatterternary": [
           {
            "marker": {
             "colorbar": {
              "outlinewidth": 0,
              "ticks": ""
             }
            },
            "type": "scatterternary"
           }
          ],
          "surface": [
           {
            "colorbar": {
             "outlinewidth": 0,
             "ticks": ""
            },
            "colorscale": [
             [
              0,
              "#0d0887"
             ],
             [
              0.1111111111111111,
              "#46039f"
             ],
             [
              0.2222222222222222,
              "#7201a8"
             ],
             [
              0.3333333333333333,
              "#9c179e"
             ],
             [
              0.4444444444444444,
              "#bd3786"
             ],
             [
              0.5555555555555556,
              "#d8576b"
             ],
             [
              0.6666666666666666,
              "#ed7953"
             ],
             [
              0.7777777777777778,
              "#fb9f3a"
             ],
             [
              0.8888888888888888,
              "#fdca26"
             ],
             [
              1,
              "#f0f921"
             ]
            ],
            "type": "surface"
           }
          ],
          "table": [
           {
            "cells": {
             "fill": {
              "color": "#EBF0F8"
             },
             "line": {
              "color": "white"
             }
            },
            "header": {
             "fill": {
              "color": "#C8D4E3"
             },
             "line": {
              "color": "white"
             }
            },
            "type": "table"
           }
          ]
         },
         "layout": {
          "annotationdefaults": {
           "arrowcolor": "#2a3f5f",
           "arrowhead": 0,
           "arrowwidth": 1
          },
          "autotypenumbers": "strict",
          "coloraxis": {
           "colorbar": {
            "outlinewidth": 0,
            "ticks": ""
           }
          },
          "colorscale": {
           "diverging": [
            [
             0,
             "#8e0152"
            ],
            [
             0.1,
             "#c51b7d"
            ],
            [
             0.2,
             "#de77ae"
            ],
            [
             0.3,
             "#f1b6da"
            ],
            [
             0.4,
             "#fde0ef"
            ],
            [
             0.5,
             "#f7f7f7"
            ],
            [
             0.6,
             "#e6f5d0"
            ],
            [
             0.7,
             "#b8e186"
            ],
            [
             0.8,
             "#7fbc41"
            ],
            [
             0.9,
             "#4d9221"
            ],
            [
             1,
             "#276419"
            ]
           ],
           "sequential": [
            [
             0,
             "#0d0887"
            ],
            [
             0.1111111111111111,
             "#46039f"
            ],
            [
             0.2222222222222222,
             "#7201a8"
            ],
            [
             0.3333333333333333,
             "#9c179e"
            ],
            [
             0.4444444444444444,
             "#bd3786"
            ],
            [
             0.5555555555555556,
             "#d8576b"
            ],
            [
             0.6666666666666666,
             "#ed7953"
            ],
            [
             0.7777777777777778,
             "#fb9f3a"
            ],
            [
             0.8888888888888888,
             "#fdca26"
            ],
            [
             1,
             "#f0f921"
            ]
           ],
           "sequentialminus": [
            [
             0,
             "#0d0887"
            ],
            [
             0.1111111111111111,
             "#46039f"
            ],
            [
             0.2222222222222222,
             "#7201a8"
            ],
            [
             0.3333333333333333,
             "#9c179e"
            ],
            [
             0.4444444444444444,
             "#bd3786"
            ],
            [
             0.5555555555555556,
             "#d8576b"
            ],
            [
             0.6666666666666666,
             "#ed7953"
            ],
            [
             0.7777777777777778,
             "#fb9f3a"
            ],
            [
             0.8888888888888888,
             "#fdca26"
            ],
            [
             1,
             "#f0f921"
            ]
           ]
          },
          "colorway": [
           "#636efa",
           "#EF553B",
           "#00cc96",
           "#ab63fa",
           "#FFA15A",
           "#19d3f3",
           "#FF6692",
           "#B6E880",
           "#FF97FF",
           "#FECB52"
          ],
          "font": {
           "color": "#2a3f5f"
          },
          "geo": {
           "bgcolor": "white",
           "lakecolor": "white",
           "landcolor": "#E5ECF6",
           "showlakes": true,
           "showland": true,
           "subunitcolor": "white"
          },
          "hoverlabel": {
           "align": "left"
          },
          "hovermode": "closest",
          "mapbox": {
           "style": "light"
          },
          "paper_bgcolor": "white",
          "plot_bgcolor": "#E5ECF6",
          "polar": {
           "angularaxis": {
            "gridcolor": "white",
            "linecolor": "white",
            "ticks": ""
           },
           "bgcolor": "#E5ECF6",
           "radialaxis": {
            "gridcolor": "white",
            "linecolor": "white",
            "ticks": ""
           }
          },
          "scene": {
           "xaxis": {
            "backgroundcolor": "#E5ECF6",
            "gridcolor": "white",
            "gridwidth": 2,
            "linecolor": "white",
            "showbackground": true,
            "ticks": "",
            "zerolinecolor": "white"
           },
           "yaxis": {
            "backgroundcolor": "#E5ECF6",
            "gridcolor": "white",
            "gridwidth": 2,
            "linecolor": "white",
            "showbackground": true,
            "ticks": "",
            "zerolinecolor": "white"
           },
           "zaxis": {
            "backgroundcolor": "#E5ECF6",
            "gridcolor": "white",
            "gridwidth": 2,
            "linecolor": "white",
            "showbackground": true,
            "ticks": "",
            "zerolinecolor": "white"
           }
          },
          "shapedefaults": {
           "line": {
            "color": "#2a3f5f"
           }
          },
          "ternary": {
           "aaxis": {
            "gridcolor": "white",
            "linecolor": "white",
            "ticks": ""
           },
           "baxis": {
            "gridcolor": "white",
            "linecolor": "white",
            "ticks": ""
           },
           "bgcolor": "#E5ECF6",
           "caxis": {
            "gridcolor": "white",
            "linecolor": "white",
            "ticks": ""
           }
          },
          "title": {
           "x": 0.05
          },
          "xaxis": {
           "automargin": true,
           "gridcolor": "white",
           "linecolor": "white",
           "ticks": "",
           "title": {
            "standoff": 15
           },
           "zerolinecolor": "white",
           "zerolinewidth": 2
          },
          "yaxis": {
           "automargin": true,
           "gridcolor": "white",
           "linecolor": "white",
           "ticks": "",
           "title": {
            "standoff": 15
           },
           "zerolinecolor": "white",
           "zerolinewidth": 2
          }
         }
        },
        "title": {
         "text": "Model Accuracy During Training"
        },
        "width": 1000,
        "xaxis": {
         "autorange": true,
         "range": [
          -0.1859389454209066,
          3.1859389454209066
         ],
         "title": {
          "text": "Epoch"
         }
        },
        "yaxis": {
         "autorange": true,
         "range": [
          0.5327342427244374,
          1.0200782739648633
         ],
         "title": {
          "text": "Accuracy"
         },
         "type": "linear"
        }
       }
      },
      "image/png": "[encoded data removed]",
      "text/html": [
       "<div>                            <div id=\"da736774-87c5-46c7-ace0-8e914f44a607\" class=\"plotly-graph-div\" style=\"height:500px; width:1000px;\"></div>            <script type=\"text/javascript\">                require([\"plotly\"], function(Plotly) {                    window.PLOTLYENV=window.PLOTLYENV || {};                                    if (document.getElementById(\"da736774-87c5-46c7-ace0-8e914f44a607\")) {                    Plotly.newPlot(                        \"da736774-87c5-46c7-ace0-8e914f44a607\",                        [{\"name\":\"Training Accuracy\",\"y\":[0.9298437237739563,0.9881250262260437,0.98828125,0.9900000095367432],\"type\":\"scatter\"},{\"name\":\"Validation Accuracy\",\"y\":[0.5720312595367432,0.5628125071525574,0.5903124809265137,0.5659375190734863],\"type\":\"scatter\"}],                        {\"template\":{\"data\":{\"histogram2dcontour\":[{\"type\":\"histogram2dcontour\",\"colorbar\":{\"outlinewidth\":0,\"ticks\":\"\"},\"colorscale\":[[0.0,\"#0d0887\"],[0.1111111111111111,\"#46039f\"],[0.2222222222222222,\"#7201a8\"],[0.3333333333333333,\"#9c179e\"],[0.4444444444444444,\"#bd3786\"],[0.5555555555555556,\"#d8576b\"],[0.6666666666666666,\"#ed7953\"],[0.7777777777777778,\"#fb9f3a\"],[0.8888888888888888,\"#fdca26\"],[1.0,\"#f0f921\"]]}],\"choropleth\":[{\"type\":\"choropleth\",\"colorbar\":{\"outlinewidth\":0,\"ticks\":\"\"}}],\"histogram2d\":[{\"type\":\"histogram2d\",\"colorbar\":{\"outlinewidth\":0,\"ticks\":\"\"},\"colorscale\":[[0.0,\"#0d0887\"],[0.1111111111111111,\"#46039f\"],[0.2222222222222222,\"#7201a8\"],[0.3333333333333333,\"#9c179e\"],[0.4444444444444444,\"#bd3786\"],[0.5555555555555556,\"#d8576b\"],[0.6666666666666666,\"#ed7953\"],[0.7777777777777778,\"#fb9f3a\"],[0.8888888888888888,\"#fdca26\"],[1.0,\"#f0f921\"]]}],\"heatmap\":[{\"type\":\"heatmap\",\"colorbar\":{\"outlinewidth\":0,\"ticks\":\"\"},\"colorscale\":[[0.0,\"#0d0887\"],[0.1111111111111111,\"#46039f\"],[0.2222222222222222,\"#7201a8\"],[0.3333333333333333,\"#9c179e\"],[0.4444444444444444,\"#bd3786\"],[0.5555555555555556,\"#d8576b\"],[0.6666666666666666,\"#ed7953\"],[0.7777777777777778,\"#fb9f3a\"],[0.8888888888888888,\"#fdca26\"],[1.0,\"#f0f921\"]]}],\"heatmapgl\":[{\"type\":\"heatmapgl\",\"colorbar\":{\"outlinewidth\":0,\"ticks\":\"\"},\"colorscale\":[[0.0,\"#0d0887\"],[0.1111111111111111,\"#46039f\"],[0.2222222222222222,\"#7201a8\"],[0.3333333333333333,\"#9c179e\"],[0.4444444444444444,\"#bd3786\"],[0.5555555555555556,\"#d8576b\"],[0.6666666666666666,\"#ed7953\"],[0.7777777777777778,\"#fb9f3a\"],[0.8888888888888888,\"#fdca26\"],[1.0,\"#f0f921\"]]}],\"contourcarpet\":[{\"type\":\"contourcarpet\",\"colorbar\":{\"outlinewidth\":0,\"ticks\":\"\"}}],\"contour\":[{\"type\":\"contour\",\"colorbar\":{\"outlinewidth\":0,\"ticks\":\"\"},\"colorscale\":[[0.0,\"#0d0887\"],[0.1111111111111111,\"#46039f\"],[0.2222222222222222,\"#7201a8\"],[0.3333333333333333,\"#9c179e\"],[0.4444444444444444,\"#bd3786\"],[0.5555555555555556,\"#d8576b\"],[0.6666666666666666,\"#ed7953\"],[0.7777777777777778,\"#fb9f3a\"],[0.8888888888888888,\"#fdca26\"],[1.0,\"#f0f921\"]]}],\"surface\":[{\"type\":\"surface\",\"colorbar\":{\"outlinewidth\":0,\"ticks\":\"\"},\"colorscale\":[[0.0,\"#0d0887\"],[0.1111111111111111,\"#46039f\"],[0.2222222222222222,\"#7201a8\"],[0.3333333333333333,\"#9c179e\"],[0.4444444444444444,\"#bd3786\"],[0.5555555555555556,\"#d8576b\"],[0.6666666666666666,\"#ed7953\"],[0.7777777777777778,\"#fb9f3a\"],[0.8888888888888888,\"#fdca26\"],[1.0,\"#f0f921\"]]}],\"mesh3d\":[{\"type\":\"mesh3d\",\"colorbar\":{\"outlinewidth\":0,\"ticks\":\"\"}}],\"scatter\":[{\"fillpattern\":{\"fillmode\":\"overlay\",\"size\":10,\"solidity\":0.2},\"type\":\"scatter\"}],\"parcoords\":[{\"type\":\"parcoords\",\"line\":{\"colorbar\":{\"outlinewidth\":0,\"ticks\":\"\"}}}],\"scatterpolargl\":[{\"type\":\"scatterpolargl\",\"marker\":{\"colorbar\":{\"outlinewidth\":0,\"ticks\":\"\"}}}],\"bar\":[{\"error_x\":{\"color\":\"#2a3f5f\"},\"error_y\":{\"color\":\"#2a3f5f\"},\"marker\":{\"line\":{\"color\":\"#E5ECF6\",\"width\":0.5},\"pattern\":{\"fillmode\":\"overlay\",\"size\":10,\"solidity\":0.2}},\"type\":\"bar\"}],\"scattergeo\":[{\"type\":\"scattergeo\",\"marker\":{\"colorbar\":{\"outlinewidth\":0,\"ticks\":\"\"}}}],\"scatterpolar\":[{\"type\":\"scatterpolar\",\"marker\":{\"colorbar\":{\"outlinewidth\":0,\"ticks\":\"\"}}}],\"histogram\":[{\"marker\":{\"pattern\":{\"fillmode\":\"overlay\",\"size\":10,\"solidity\":0.2}},\"type\":\"histogram\"}],\"scattergl\":[{\"type\":\"scattergl\",\"marker\":{\"colorbar\":{\"outlinewidth\":0,\"ticks\":\"\"}}}],\"scatter3d\":[{\"type\":\"scatter3d\",\"line\":{\"colorbar\":{\"outlinewidth\":0,\"ticks\":\"\"}},\"marker\":{\"colorbar\":{\"outlinewidth\":0,\"ticks\":\"\"}}}],\"scattermapbox\":[{\"type\":\"scattermapbox\",\"marker\":{\"colorbar\":{\"outlinewidth\":0,\"ticks\":\"\"}}}],\"scatterternary\":[{\"type\":\"scatterternary\",\"marker\":{\"colorbar\":{\"outlinewidth\":0,\"ticks\":\"\"}}}],\"scattercarpet\":[{\"type\":\"scattercarpet\",\"marker\":{\"colorbar\":{\"outlinewidth\":0,\"ticks\":\"\"}}}],\"carpet\":[{\"aaxis\":{\"endlinecolor\":\"#2a3f5f\",\"gridcolor\":\"white\",\"linecolor\":\"white\",\"minorgridcolor\":\"white\",\"startlinecolor\":\"#2a3f5f\"},\"baxis\":{\"endlinecolor\":\"#2a3f5f\",\"gridcolor\":\"white\",\"linecolor\":\"white\",\"minorgridcolor\":\"white\",\"startlinecolor\":\"#2a3f5f\"},\"type\":\"carpet\"}],\"table\":[{\"cells\":{\"fill\":{\"color\":\"#EBF0F8\"},\"line\":{\"color\":\"white\"}},\"header\":{\"fill\":{\"color\":\"#C8D4E3\"},\"line\":{\"color\":\"white\"}},\"type\":\"table\"}],\"barpolar\":[{\"marker\":{\"line\":{\"color\":\"#E5ECF6\",\"width\":0.5},\"pattern\":{\"fillmode\":\"overlay\",\"size\":10,\"solidity\":0.2}},\"type\":\"barpolar\"}],\"pie\":[{\"automargin\":true,\"type\":\"pie\"}]},\"layout\":{\"autotypenumbers\":\"strict\",\"colorway\":[\"#636efa\",\"#EF553B\",\"#00cc96\",\"#ab63fa\",\"#FFA15A\",\"#19d3f3\",\"#FF6692\",\"#B6E880\",\"#FF97FF\",\"#FECB52\"],\"font\":{\"color\":\"#2a3f5f\"},\"hovermode\":\"closest\",\"hoverlabel\":{\"align\":\"left\"},\"paper_bgcolor\":\"white\",\"plot_bgcolor\":\"#E5ECF6\",\"polar\":{\"bgcolor\":\"#E5ECF6\",\"angularaxis\":{\"gridcolor\":\"white\",\"linecolor\":\"white\",\"ticks\":\"\"},\"radialaxis\":{\"gridcolor\":\"white\",\"linecolor\":\"white\",\"ticks\":\"\"}},\"ternary\":{\"bgcolor\":\"#E5ECF6\",\"aaxis\":{\"gridcolor\":\"white\",\"linecolor\":\"white\",\"ticks\":\"\"},\"baxis\":{\"gridcolor\":\"white\",\"linecolor\":\"white\",\"ticks\":\"\"},\"caxis\":{\"gridcolor\":\"white\",\"linecolor\":\"white\",\"ticks\":\"\"}},\"coloraxis\":{\"colorbar\":{\"outlinewidth\":0,\"ticks\":\"\"}},\"colorscale\":{\"sequential\":[[0.0,\"#0d0887\"],[0.1111111111111111,\"#46039f\"],[0.2222222222222222,\"#7201a8\"],[0.3333333333333333,\"#9c179e\"],[0.4444444444444444,\"#bd3786\"],[0.5555555555555556,\"#d8576b\"],[0.6666666666666666,\"#ed7953\"],[0.7777777777777778,\"#fb9f3a\"],[0.8888888888888888,\"#fdca26\"],[1.0,\"#f0f921\"]],\"sequentialminus\":[[0.0,\"#0d0887\"],[0.1111111111111111,\"#46039f\"],[0.2222222222222222,\"#7201a8\"],[0.3333333333333333,\"#9c179e\"],[0.4444444444444444,\"#bd3786\"],[0.5555555555555556,\"#d8576b\"],[0.6666666666666666,\"#ed7953\"],[0.7777777777777778,\"#fb9f3a\"],[0.8888888888888888,\"#fdca26\"],[1.0,\"#f0f921\"]],\"diverging\":[[0,\"#8e0152\"],[0.1,\"#c51b7d\"],[0.2,\"#de77ae\"],[0.3,\"#f1b6da\"],[0.4,\"#fde0ef\"],[0.5,\"#f7f7f7\"],[0.6,\"#e6f5d0\"],[0.7,\"#b8e186\"],[0.8,\"#7fbc41\"],[0.9,\"#4d9221\"],[1,\"#276419\"]]},\"xaxis\":{\"gridcolor\":\"white\",\"linecolor\":\"white\",\"ticks\":\"\",\"title\":{\"standoff\":15},\"zerolinecolor\":\"white\",\"automargin\":true,\"zerolinewidth\":2},\"yaxis\":{\"gridcolor\":\"white\",\"linecolor\":\"white\",\"ticks\":\"\",\"title\":{\"standoff\":15},\"zerolinecolor\":\"white\",\"automargin\":true,\"zerolinewidth\":2},\"scene\":{\"xaxis\":{\"backgroundcolor\":\"#E5ECF6\",\"gridcolor\":\"white\",\"linecolor\":\"white\",\"showbackground\":true,\"ticks\":\"\",\"zerolinecolor\":\"white\",\"gridwidth\":2},\"yaxis\":{\"backgroundcolor\":\"#E5ECF6\",\"gridcolor\":\"white\",\"linecolor\":\"white\",\"showbackground\":true,\"ticks\":\"\",\"zerolinecolor\":\"white\",\"gridwidth\":2},\"zaxis\":{\"backgroundcolor\":\"#E5ECF6\",\"gridcolor\":\"white\",\"linecolor\":\"white\",\"showbackground\":true,\"ticks\":\"\",\"zerolinecolor\":\"white\",\"gridwidth\":2}},\"shapedefaults\":{\"line\":{\"color\":\"#2a3f5f\"}},\"annotationdefaults\":{\"arrowcolor\":\"#2a3f5f\",\"arrowhead\":0,\"arrowwidth\":1},\"geo\":{\"bgcolor\":\"white\",\"landcolor\":\"#E5ECF6\",\"subunitcolor\":\"white\",\"showland\":true,\"showlakes\":true,\"lakecolor\":\"white\"},\"title\":{\"x\":0.05},\"mapbox\":{\"style\":\"light\"}}},\"title\":{\"text\":\"Model Accuracy During Training\"},\"xaxis\":{\"title\":{\"text\":\"Epoch\"}},\"yaxis\":{\"title\":{\"text\":\"Accuracy\"}},\"width\":1000,\"height\":500},                        {\"responsive\": true}                    ).then(function(){\n",
       "                            \n",
       "var gd = document.getElementById('da736774-87c5-46c7-ace0-8e914f44a607');\n",
       "var x = new MutationObserver(function (mutations, observer) {{\n",
       "        var display = window.getComputedStyle(gd).display;\n",
       "        if (!display || display === 'none') {{\n",
       "            console.log([gd, 'removed!']);\n",
       "            Plotly.purge(gd);\n",
       "            observer.disconnect();\n",
       "        }}\n",
       "}});\n",
       "\n",
       "// Listen for the removal of the full notebook cells\n",
       "var notebookContainer = gd.closest('#notebook-container');\n",
       "if (notebookContainer) {{\n",
       "    x.observe(notebookContainer, {childList: true});\n",
       "}}\n",
       "\n",
       "// Listen for the clearing of the current output cell\n",
       "var outputEl = gd.closest('.output');\n",
       "if (outputEl) {{\n",
       "    x.observe(outputEl, {childList: true});\n",
       "}}\n",
       "\n",
       "                        })                };                });            </script>        </div>"
      ]
     },
     "metadata": {},
     "output_type": "display_data"
    }
   ],
   "source": [
    "import plotly.graph_objects as go\n",
    "\n",
    "# creating a new empty figure object using plotly\n",
    "figure = go.Figure()\n",
    "\n",
    "# adding a scatter plot of training accuracy to the figure using the history object\n",
    "figure.add_scatter(y=history.history[\"binary_accuracy\"], name=\"Training Accuracy\")\n",
    "\n",
    "# adding a scatter plot of validation accuracy to the figure using the history object\n",
    "figure.add_scatter(y=history.history[\"val_binary_accuracy\"], name=\"Validation Accuracy\")\n",
    "\n",
    "# updating the layout of the figure with a title and axis labels\n",
    "figure.update_layout(dict1={\n",
    "    \"title\": \"Model Accuracy During Training\",\n",
    "    \"xaxis_title\": \"Epoch\",\n",
    "    \"yaxis_title\": \"Accuracy\"\n",
    "}, overwrite=True\n",
    " ,width = 1000\n",
    " ,height = 500)\n",
    "\n",
    "# displaying the figure\n",
    "figure.show()"
   ]
  },
  {
   "cell_type": "markdown",
   "id": "698fcabb-23f6-45a0-b876-c7177f483bad",
   "metadata": {},
   "source": [
    "### Results\n",
    "\n",
    "+ Training accuracy increases with the number of epochs, while the validation accuracy starts decreasing\n",
    "+ What does this mean? It is a sign of overfitting\n",
    "+ How? The training loss decreases then flattens, while the validation fluctuates then begins to decrease\n",
    "+ Let's look at the training and validations loss in a graph to see if we can arrive at any other assumptions"
   ]
  },
  {
   "cell_type": "code",
   "execution_count": 28,
   "id": "6d880374-d79a-4885-857c-ece6e029591e",
   "metadata": {},
   "outputs": [
    {
     "data": {
      "application/vnd.plotly.v1+json": {
       "config": {
        "plotlyServerURL": "https://plot.ly"
       },
       "data": [
        {
         "name": "Training Loss",
         "type": "scatter",
         "y": [
          0.14942321181297302,
          0.021465759724378586,
          0.02235284261405468,
          0.01980464905500412
         ]
        },
        {
         "name": "Validation Loss",
         "type": "scatter",
         "y": [
          0.9456709027290344,
          1.048019289970398,
          0.9649720788002014,
          1.0731570720672607
         ]
        }
       ],
       "layout": {
        "height": 500,
        "template": {
         "data": {
          "bar": [
           {
            "error_x": {
             "color": "#2a3f5f"
            },
            "error_y": {
             "color": "#2a3f5f"
            },
            "marker": {
             "line": {
              "color": "#E5ECF6",
              "width": 0.5
             },
             "pattern": {
              "fillmode": "overlay",
              "size": 10,
              "solidity": 0.2
             }
            },
            "type": "bar"
           }
          ],
          "barpolar": [
           {
            "marker": {
             "line": {
              "color": "#E5ECF6",
              "width": 0.5
             },
             "pattern": {
              "fillmode": "overlay",
              "size": 10,
              "solidity": 0.2
             }
            },
            "type": "barpolar"
           }
          ],
          "carpet": [
           {
            "aaxis": {
             "endlinecolor": "#2a3f5f",
             "gridcolor": "white",
             "linecolor": "white",
             "minorgridcolor": "white",
             "startlinecolor": "#2a3f5f"
            },
            "baxis": {
             "endlinecolor": "#2a3f5f",
             "gridcolor": "white",
             "linecolor": "white",
             "minorgridcolor": "white",
             "startlinecolor": "#2a3f5f"
            },
            "type": "carpet"
           }
          ],
          "choropleth": [
           {
            "colorbar": {
             "outlinewidth": 0,
             "ticks": ""
            },
            "type": "choropleth"
           }
          ],
          "contour": [
           {
            "colorbar": {
             "outlinewidth": 0,
             "ticks": ""
            },
            "colorscale": [
             [
              0,
              "#0d0887"
             ],
             [
              0.1111111111111111,
              "#46039f"
             ],
             [
              0.2222222222222222,
              "#7201a8"
             ],
             [
              0.3333333333333333,
              "#9c179e"
             ],
             [
              0.4444444444444444,
              "#bd3786"
             ],
             [
              0.5555555555555556,
              "#d8576b"
             ],
             [
              0.6666666666666666,
              "#ed7953"
             ],
             [
              0.7777777777777778,
              "#fb9f3a"
             ],
             [
              0.8888888888888888,
              "#fdca26"
             ],
             [
              1,
              "#f0f921"
             ]
            ],
            "type": "contour"
           }
          ],
          "contourcarpet": [
           {
            "colorbar": {
             "outlinewidth": 0,
             "ticks": ""
            },
            "type": "contourcarpet"
           }
          ],
          "heatmap": [
           {
            "colorbar": {
             "outlinewidth": 0,
             "ticks": ""
            },
            "colorscale": [
             [
              0,
              "#0d0887"
             ],
             [
              0.1111111111111111,
              "#46039f"
             ],
             [
              0.2222222222222222,
              "#7201a8"
             ],
             [
              0.3333333333333333,
              "#9c179e"
             ],
             [
              0.4444444444444444,
              "#bd3786"
             ],
             [
              0.5555555555555556,
              "#d8576b"
             ],
             [
              0.6666666666666666,
              "#ed7953"
             ],
             [
              0.7777777777777778,
              "#fb9f3a"
             ],
             [
              0.8888888888888888,
              "#fdca26"
             ],
             [
              1,
              "#f0f921"
             ]
            ],
            "type": "heatmap"
           }
          ],
          "heatmapgl": [
           {
            "colorbar": {
             "outlinewidth": 0,
             "ticks": ""
            },
            "colorscale": [
             [
              0,
              "#0d0887"
             ],
             [
              0.1111111111111111,
              "#46039f"
             ],
             [
              0.2222222222222222,
              "#7201a8"
             ],
             [
              0.3333333333333333,
              "#9c179e"
             ],
             [
              0.4444444444444444,
              "#bd3786"
             ],
             [
              0.5555555555555556,
              "#d8576b"
             ],
             [
              0.6666666666666666,
              "#ed7953"
             ],
             [
              0.7777777777777778,
              "#fb9f3a"
             ],
             [
              0.8888888888888888,
              "#fdca26"
             ],
             [
              1,
              "#f0f921"
             ]
            ],
            "type": "heatmapgl"
           }
          ],
          "histogram": [
           {
            "marker": {
             "pattern": {
              "fillmode": "overlay",
              "size": 10,
              "solidity": 0.2
             }
            },
            "type": "histogram"
           }
          ],
          "histogram2d": [
           {
            "colorbar": {
             "outlinewidth": 0,
             "ticks": ""
            },
            "colorscale": [
             [
              0,
              "#0d0887"
             ],
             [
              0.1111111111111111,
              "#46039f"
             ],
             [
              0.2222222222222222,
              "#7201a8"
             ],
             [
              0.3333333333333333,
              "#9c179e"
             ],
             [
              0.4444444444444444,
              "#bd3786"
             ],
             [
              0.5555555555555556,
              "#d8576b"
             ],
             [
              0.6666666666666666,
              "#ed7953"
             ],
             [
              0.7777777777777778,
              "#fb9f3a"
             ],
             [
              0.8888888888888888,
              "#fdca26"
             ],
             [
              1,
              "#f0f921"
             ]
            ],
            "type": "histogram2d"
           }
          ],
          "histogram2dcontour": [
           {
            "colorbar": {
             "outlinewidth": 0,
             "ticks": ""
            },
            "colorscale": [
             [
              0,
              "#0d0887"
             ],
             [
              0.1111111111111111,
              "#46039f"
             ],
             [
              0.2222222222222222,
              "#7201a8"
             ],
             [
              0.3333333333333333,
              "#9c179e"
             ],
             [
              0.4444444444444444,
              "#bd3786"
             ],
             [
              0.5555555555555556,
              "#d8576b"
             ],
             [
              0.6666666666666666,
              "#ed7953"
             ],
             [
              0.7777777777777778,
              "#fb9f3a"
             ],
             [
              0.8888888888888888,
              "#fdca26"
             ],
             [
              1,
              "#f0f921"
             ]
            ],
            "type": "histogram2dcontour"
           }
          ],
          "mesh3d": [
           {
            "colorbar": {
             "outlinewidth": 0,
             "ticks": ""
            },
            "type": "mesh3d"
           }
          ],
          "parcoords": [
           {
            "line": {
             "colorbar": {
              "outlinewidth": 0,
              "ticks": ""
             }
            },
            "type": "parcoords"
           }
          ],
          "pie": [
           {
            "automargin": true,
            "type": "pie"
           }
          ],
          "scatter": [
           {
            "fillpattern": {
             "fillmode": "overlay",
             "size": 10,
             "solidity": 0.2
            },
            "type": "scatter"
           }
          ],
          "scatter3d": [
           {
            "line": {
             "colorbar": {
              "outlinewidth": 0,
              "ticks": ""
             }
            },
            "marker": {
             "colorbar": {
              "outlinewidth": 0,
              "ticks": ""
             }
            },
            "type": "scatter3d"
           }
          ],
          "scattercarpet": [
           {
            "marker": {
             "colorbar": {
              "outlinewidth": 0,
              "ticks": ""
             }
            },
            "type": "scattercarpet"
           }
          ],
          "scattergeo": [
           {
            "marker": {
             "colorbar": {
              "outlinewidth": 0,
              "ticks": ""
             }
            },
            "type": "scattergeo"
           }
          ],
          "scattergl": [
           {
            "marker": {
             "colorbar": {
              "outlinewidth": 0,
              "ticks": ""
             }
            },
            "type": "scattergl"
           }
          ],
          "scattermapbox": [
           {
            "marker": {
             "colorbar": {
              "outlinewidth": 0,
              "ticks": ""
             }
            },
            "type": "scattermapbox"
           }
          ],
          "scatterpolar": [
           {
            "marker": {
             "colorbar": {
              "outlinewidth": 0,
              "ticks": ""
             }
            },
            "type": "scatterpolar"
           }
          ],
          "scatterpolargl": [
           {
            "marker": {
             "colorbar": {
              "outlinewidth": 0,
              "ticks": ""
             }
            },
            "type": "scatterpolargl"
           }
          ],
          "scatterternary": [
           {
            "marker": {
             "colorbar": {
              "outlinewidth": 0,
              "ticks": ""
             }
            },
            "type": "scatterternary"
           }
          ],
          "surface": [
           {
            "colorbar": {
             "outlinewidth": 0,
             "ticks": ""
            },
            "colorscale": [
             [
              0,
              "#0d0887"
             ],
             [
              0.1111111111111111,
              "#46039f"
             ],
             [
              0.2222222222222222,
              "#7201a8"
             ],
             [
              0.3333333333333333,
              "#9c179e"
             ],
             [
              0.4444444444444444,
              "#bd3786"
             ],
             [
              0.5555555555555556,
              "#d8576b"
             ],
             [
              0.6666666666666666,
              "#ed7953"
             ],
             [
              0.7777777777777778,
              "#fb9f3a"
             ],
             [
              0.8888888888888888,
              "#fdca26"
             ],
             [
              1,
              "#f0f921"
             ]
            ],
            "type": "surface"
           }
          ],
          "table": [
           {
            "cells": {
             "fill": {
              "color": "#EBF0F8"
             },
             "line": {
              "color": "white"
             }
            },
            "header": {
             "fill": {
              "color": "#C8D4E3"
             },
             "line": {
              "color": "white"
             }
            },
            "type": "table"
           }
          ]
         },
         "layout": {
          "annotationdefaults": {
           "arrowcolor": "#2a3f5f",
           "arrowhead": 0,
           "arrowwidth": 1
          },
          "autotypenumbers": "strict",
          "coloraxis": {
           "colorbar": {
            "outlinewidth": 0,
            "ticks": ""
           }
          },
          "colorscale": {
           "diverging": [
            [
             0,
             "#8e0152"
            ],
            [
             0.1,
             "#c51b7d"
            ],
            [
             0.2,
             "#de77ae"
            ],
            [
             0.3,
             "#f1b6da"
            ],
            [
             0.4,
             "#fde0ef"
            ],
            [
             0.5,
             "#f7f7f7"
            ],
            [
             0.6,
             "#e6f5d0"
            ],
            [
             0.7,
             "#b8e186"
            ],
            [
             0.8,
             "#7fbc41"
            ],
            [
             0.9,
             "#4d9221"
            ],
            [
             1,
             "#276419"
            ]
           ],
           "sequential": [
            [
             0,
             "#0d0887"
            ],
            [
             0.1111111111111111,
             "#46039f"
            ],
            [
             0.2222222222222222,
             "#7201a8"
            ],
            [
             0.3333333333333333,
             "#9c179e"
            ],
            [
             0.4444444444444444,
             "#bd3786"
            ],
            [
             0.5555555555555556,
             "#d8576b"
            ],
            [
             0.6666666666666666,
             "#ed7953"
            ],
            [
             0.7777777777777778,
             "#fb9f3a"
            ],
            [
             0.8888888888888888,
             "#fdca26"
            ],
            [
             1,
             "#f0f921"
            ]
           ],
           "sequentialminus": [
            [
             0,
             "#0d0887"
            ],
            [
             0.1111111111111111,
             "#46039f"
            ],
            [
             0.2222222222222222,
             "#7201a8"
            ],
            [
             0.3333333333333333,
             "#9c179e"
            ],
            [
             0.4444444444444444,
             "#bd3786"
            ],
            [
             0.5555555555555556,
             "#d8576b"
            ],
            [
             0.6666666666666666,
             "#ed7953"
            ],
            [
             0.7777777777777778,
             "#fb9f3a"
            ],
            [
             0.8888888888888888,
             "#fdca26"
            ],
            [
             1,
             "#f0f921"
            ]
           ]
          },
          "colorway": [
           "#636efa",
           "#EF553B",
           "#00cc96",
           "#ab63fa",
           "#FFA15A",
           "#19d3f3",
           "#FF6692",
           "#B6E880",
           "#FF97FF",
           "#FECB52"
          ],
          "font": {
           "color": "#2a3f5f"
          },
          "geo": {
           "bgcolor": "white",
           "lakecolor": "white",
           "landcolor": "#E5ECF6",
           "showlakes": true,
           "showland": true,
           "subunitcolor": "white"
          },
          "hoverlabel": {
           "align": "left"
          },
          "hovermode": "closest",
          "mapbox": {
           "style": "light"
          },
          "paper_bgcolor": "white",
          "plot_bgcolor": "#E5ECF6",
          "polar": {
           "angularaxis": {
            "gridcolor": "white",
            "linecolor": "white",
            "ticks": ""
           },
           "bgcolor": "#E5ECF6",
           "radialaxis": {
            "gridcolor": "white",
            "linecolor": "white",
            "ticks": ""
           }
          },
          "scene": {
           "xaxis": {
            "backgroundcolor": "#E5ECF6",
            "gridcolor": "white",
            "gridwidth": 2,
            "linecolor": "white",
            "showbackground": true,
            "ticks": "",
            "zerolinecolor": "white"
           },
           "yaxis": {
            "backgroundcolor": "#E5ECF6",
            "gridcolor": "white",
            "gridwidth": 2,
            "linecolor": "white",
            "showbackground": true,
            "ticks": "",
            "zerolinecolor": "white"
           },
           "zaxis": {
            "backgroundcolor": "#E5ECF6",
            "gridcolor": "white",
            "gridwidth": 2,
            "linecolor": "white",
            "showbackground": true,
            "ticks": "",
            "zerolinecolor": "white"
           }
          },
          "shapedefaults": {
           "line": {
            "color": "#2a3f5f"
           }
          },
          "ternary": {
           "aaxis": {
            "gridcolor": "white",
            "linecolor": "white",
            "ticks": ""
           },
           "baxis": {
            "gridcolor": "white",
            "linecolor": "white",
            "ticks": ""
           },
           "bgcolor": "#E5ECF6",
           "caxis": {
            "gridcolor": "white",
            "linecolor": "white",
            "ticks": ""
           }
          },
          "title": {
           "x": 0.05
          },
          "xaxis": {
           "automargin": true,
           "gridcolor": "white",
           "linecolor": "white",
           "ticks": "",
           "title": {
            "standoff": 15
           },
           "zerolinecolor": "white",
           "zerolinewidth": 2
          },
          "yaxis": {
           "automargin": true,
           "gridcolor": "white",
           "linecolor": "white",
           "ticks": "",
           "title": {
            "standoff": 15
           },
           "zerolinecolor": "white",
           "zerolinewidth": 2
          }
         }
        },
        "title": {
         "text": "Model Loss During Training"
        },
        "width": 1000,
        "xaxis": {
         "autorange": true,
         "range": [
          -0.18521816562778276,
          3.185218165627783
         ],
         "title": {
          "text": "Epoch"
         }
        },
        "yaxis": {
         "autorange": true,
         "range": [
          -0.054361876272953344,
          1.1473235973952183
         ],
         "title": {
          "text": "Loss"
         },
         "type": "linear"
        }
       }
      },
      "image/png": "[encoded data removed]",
      "text/html": [
       "<div>                            <div id=\"c6b3276e-039d-4f60-bf23-024a505b71a2\" class=\"plotly-graph-div\" style=\"height:500px; width:1000px;\"></div>            <script type=\"text/javascript\">                require([\"plotly\"], function(Plotly) {                    window.PLOTLYENV=window.PLOTLYENV || {};                                    if (document.getElementById(\"c6b3276e-039d-4f60-bf23-024a505b71a2\")) {                    Plotly.newPlot(                        \"c6b3276e-039d-4f60-bf23-024a505b71a2\",                        [{\"name\":\"Training Loss\",\"y\":[0.14942321181297302,0.021465759724378586,0.02235284261405468,0.01980464905500412],\"type\":\"scatter\"},{\"name\":\"Validation Loss\",\"y\":[0.9456709027290344,1.048019289970398,0.9649720788002014,1.0731570720672607],\"type\":\"scatter\"}],                        {\"template\":{\"data\":{\"histogram2dcontour\":[{\"type\":\"histogram2dcontour\",\"colorbar\":{\"outlinewidth\":0,\"ticks\":\"\"},\"colorscale\":[[0.0,\"#0d0887\"],[0.1111111111111111,\"#46039f\"],[0.2222222222222222,\"#7201a8\"],[0.3333333333333333,\"#9c179e\"],[0.4444444444444444,\"#bd3786\"],[0.5555555555555556,\"#d8576b\"],[0.6666666666666666,\"#ed7953\"],[0.7777777777777778,\"#fb9f3a\"],[0.8888888888888888,\"#fdca26\"],[1.0,\"#f0f921\"]]}],\"choropleth\":[{\"type\":\"choropleth\",\"colorbar\":{\"outlinewidth\":0,\"ticks\":\"\"}}],\"histogram2d\":[{\"type\":\"histogram2d\",\"colorbar\":{\"outlinewidth\":0,\"ticks\":\"\"},\"colorscale\":[[0.0,\"#0d0887\"],[0.1111111111111111,\"#46039f\"],[0.2222222222222222,\"#7201a8\"],[0.3333333333333333,\"#9c179e\"],[0.4444444444444444,\"#bd3786\"],[0.5555555555555556,\"#d8576b\"],[0.6666666666666666,\"#ed7953\"],[0.7777777777777778,\"#fb9f3a\"],[0.8888888888888888,\"#fdca26\"],[1.0,\"#f0f921\"]]}],\"heatmap\":[{\"type\":\"heatmap\",\"colorbar\":{\"outlinewidth\":0,\"ticks\":\"\"},\"colorscale\":[[0.0,\"#0d0887\"],[0.1111111111111111,\"#46039f\"],[0.2222222222222222,\"#7201a8\"],[0.3333333333333333,\"#9c179e\"],[0.4444444444444444,\"#bd3786\"],[0.5555555555555556,\"#d8576b\"],[0.6666666666666666,\"#ed7953\"],[0.7777777777777778,\"#fb9f3a\"],[0.8888888888888888,\"#fdca26\"],[1.0,\"#f0f921\"]]}],\"heatmapgl\":[{\"type\":\"heatmapgl\",\"colorbar\":{\"outlinewidth\":0,\"ticks\":\"\"},\"colorscale\":[[0.0,\"#0d0887\"],[0.1111111111111111,\"#46039f\"],[0.2222222222222222,\"#7201a8\"],[0.3333333333333333,\"#9c179e\"],[0.4444444444444444,\"#bd3786\"],[0.5555555555555556,\"#d8576b\"],[0.6666666666666666,\"#ed7953\"],[0.7777777777777778,\"#fb9f3a\"],[0.8888888888888888,\"#fdca26\"],[1.0,\"#f0f921\"]]}],\"contourcarpet\":[{\"type\":\"contourcarpet\",\"colorbar\":{\"outlinewidth\":0,\"ticks\":\"\"}}],\"contour\":[{\"type\":\"contour\",\"colorbar\":{\"outlinewidth\":0,\"ticks\":\"\"},\"colorscale\":[[0.0,\"#0d0887\"],[0.1111111111111111,\"#46039f\"],[0.2222222222222222,\"#7201a8\"],[0.3333333333333333,\"#9c179e\"],[0.4444444444444444,\"#bd3786\"],[0.5555555555555556,\"#d8576b\"],[0.6666666666666666,\"#ed7953\"],[0.7777777777777778,\"#fb9f3a\"],[0.8888888888888888,\"#fdca26\"],[1.0,\"#f0f921\"]]}],\"surface\":[{\"type\":\"surface\",\"colorbar\":{\"outlinewidth\":0,\"ticks\":\"\"},\"colorscale\":[[0.0,\"#0d0887\"],[0.1111111111111111,\"#46039f\"],[0.2222222222222222,\"#7201a8\"],[0.3333333333333333,\"#9c179e\"],[0.4444444444444444,\"#bd3786\"],[0.5555555555555556,\"#d8576b\"],[0.6666666666666666,\"#ed7953\"],[0.7777777777777778,\"#fb9f3a\"],[0.8888888888888888,\"#fdca26\"],[1.0,\"#f0f921\"]]}],\"mesh3d\":[{\"type\":\"mesh3d\",\"colorbar\":{\"outlinewidth\":0,\"ticks\":\"\"}}],\"scatter\":[{\"fillpattern\":{\"fillmode\":\"overlay\",\"size\":10,\"solidity\":0.2},\"type\":\"scatter\"}],\"parcoords\":[{\"type\":\"parcoords\",\"line\":{\"colorbar\":{\"outlinewidth\":0,\"ticks\":\"\"}}}],\"scatterpolargl\":[{\"type\":\"scatterpolargl\",\"marker\":{\"colorbar\":{\"outlinewidth\":0,\"ticks\":\"\"}}}],\"bar\":[{\"error_x\":{\"color\":\"#2a3f5f\"},\"error_y\":{\"color\":\"#2a3f5f\"},\"marker\":{\"line\":{\"color\":\"#E5ECF6\",\"width\":0.5},\"pattern\":{\"fillmode\":\"overlay\",\"size\":10,\"solidity\":0.2}},\"type\":\"bar\"}],\"scattergeo\":[{\"type\":\"scattergeo\",\"marker\":{\"colorbar\":{\"outlinewidth\":0,\"ticks\":\"\"}}}],\"scatterpolar\":[{\"type\":\"scatterpolar\",\"marker\":{\"colorbar\":{\"outlinewidth\":0,\"ticks\":\"\"}}}],\"histogram\":[{\"marker\":{\"pattern\":{\"fillmode\":\"overlay\",\"size\":10,\"solidity\":0.2}},\"type\":\"histogram\"}],\"scattergl\":[{\"type\":\"scattergl\",\"marker\":{\"colorbar\":{\"outlinewidth\":0,\"ticks\":\"\"}}}],\"scatter3d\":[{\"type\":\"scatter3d\",\"line\":{\"colorbar\":{\"outlinewidth\":0,\"ticks\":\"\"}},\"marker\":{\"colorbar\":{\"outlinewidth\":0,\"ticks\":\"\"}}}],\"scattermapbox\":[{\"type\":\"scattermapbox\",\"marker\":{\"colorbar\":{\"outlinewidth\":0,\"ticks\":\"\"}}}],\"scatterternary\":[{\"type\":\"scatterternary\",\"marker\":{\"colorbar\":{\"outlinewidth\":0,\"ticks\":\"\"}}}],\"scattercarpet\":[{\"type\":\"scattercarpet\",\"marker\":{\"colorbar\":{\"outlinewidth\":0,\"ticks\":\"\"}}}],\"carpet\":[{\"aaxis\":{\"endlinecolor\":\"#2a3f5f\",\"gridcolor\":\"white\",\"linecolor\":\"white\",\"minorgridcolor\":\"white\",\"startlinecolor\":\"#2a3f5f\"},\"baxis\":{\"endlinecolor\":\"#2a3f5f\",\"gridcolor\":\"white\",\"linecolor\":\"white\",\"minorgridcolor\":\"white\",\"startlinecolor\":\"#2a3f5f\"},\"type\":\"carpet\"}],\"table\":[{\"cells\":{\"fill\":{\"color\":\"#EBF0F8\"},\"line\":{\"color\":\"white\"}},\"header\":{\"fill\":{\"color\":\"#C8D4E3\"},\"line\":{\"color\":\"white\"}},\"type\":\"table\"}],\"barpolar\":[{\"marker\":{\"line\":{\"color\":\"#E5ECF6\",\"width\":0.5},\"pattern\":{\"fillmode\":\"overlay\",\"size\":10,\"solidity\":0.2}},\"type\":\"barpolar\"}],\"pie\":[{\"automargin\":true,\"type\":\"pie\"}]},\"layout\":{\"autotypenumbers\":\"strict\",\"colorway\":[\"#636efa\",\"#EF553B\",\"#00cc96\",\"#ab63fa\",\"#FFA15A\",\"#19d3f3\",\"#FF6692\",\"#B6E880\",\"#FF97FF\",\"#FECB52\"],\"font\":{\"color\":\"#2a3f5f\"},\"hovermode\":\"closest\",\"hoverlabel\":{\"align\":\"left\"},\"paper_bgcolor\":\"white\",\"plot_bgcolor\":\"#E5ECF6\",\"polar\":{\"bgcolor\":\"#E5ECF6\",\"angularaxis\":{\"gridcolor\":\"white\",\"linecolor\":\"white\",\"ticks\":\"\"},\"radialaxis\":{\"gridcolor\":\"white\",\"linecolor\":\"white\",\"ticks\":\"\"}},\"ternary\":{\"bgcolor\":\"#E5ECF6\",\"aaxis\":{\"gridcolor\":\"white\",\"linecolor\":\"white\",\"ticks\":\"\"},\"baxis\":{\"gridcolor\":\"white\",\"linecolor\":\"white\",\"ticks\":\"\"},\"caxis\":{\"gridcolor\":\"white\",\"linecolor\":\"white\",\"ticks\":\"\"}},\"coloraxis\":{\"colorbar\":{\"outlinewidth\":0,\"ticks\":\"\"}},\"colorscale\":{\"sequential\":[[0.0,\"#0d0887\"],[0.1111111111111111,\"#46039f\"],[0.2222222222222222,\"#7201a8\"],[0.3333333333333333,\"#9c179e\"],[0.4444444444444444,\"#bd3786\"],[0.5555555555555556,\"#d8576b\"],[0.6666666666666666,\"#ed7953\"],[0.7777777777777778,\"#fb9f3a\"],[0.8888888888888888,\"#fdca26\"],[1.0,\"#f0f921\"]],\"sequentialminus\":[[0.0,\"#0d0887\"],[0.1111111111111111,\"#46039f\"],[0.2222222222222222,\"#7201a8\"],[0.3333333333333333,\"#9c179e\"],[0.4444444444444444,\"#bd3786\"],[0.5555555555555556,\"#d8576b\"],[0.6666666666666666,\"#ed7953\"],[0.7777777777777778,\"#fb9f3a\"],[0.8888888888888888,\"#fdca26\"],[1.0,\"#f0f921\"]],\"diverging\":[[0,\"#8e0152\"],[0.1,\"#c51b7d\"],[0.2,\"#de77ae\"],[0.3,\"#f1b6da\"],[0.4,\"#fde0ef\"],[0.5,\"#f7f7f7\"],[0.6,\"#e6f5d0\"],[0.7,\"#b8e186\"],[0.8,\"#7fbc41\"],[0.9,\"#4d9221\"],[1,\"#276419\"]]},\"xaxis\":{\"gridcolor\":\"white\",\"linecolor\":\"white\",\"ticks\":\"\",\"title\":{\"standoff\":15},\"zerolinecolor\":\"white\",\"automargin\":true,\"zerolinewidth\":2},\"yaxis\":{\"gridcolor\":\"white\",\"linecolor\":\"white\",\"ticks\":\"\",\"title\":{\"standoff\":15},\"zerolinecolor\":\"white\",\"automargin\":true,\"zerolinewidth\":2},\"scene\":{\"xaxis\":{\"backgroundcolor\":\"#E5ECF6\",\"gridcolor\":\"white\",\"linecolor\":\"white\",\"showbackground\":true,\"ticks\":\"\",\"zerolinecolor\":\"white\",\"gridwidth\":2},\"yaxis\":{\"backgroundcolor\":\"#E5ECF6\",\"gridcolor\":\"white\",\"linecolor\":\"white\",\"showbackground\":true,\"ticks\":\"\",\"zerolinecolor\":\"white\",\"gridwidth\":2},\"zaxis\":{\"backgroundcolor\":\"#E5ECF6\",\"gridcolor\":\"white\",\"linecolor\":\"white\",\"showbackground\":true,\"ticks\":\"\",\"zerolinecolor\":\"white\",\"gridwidth\":2}},\"shapedefaults\":{\"line\":{\"color\":\"#2a3f5f\"}},\"annotationdefaults\":{\"arrowcolor\":\"#2a3f5f\",\"arrowhead\":0,\"arrowwidth\":1},\"geo\":{\"bgcolor\":\"white\",\"landcolor\":\"#E5ECF6\",\"subunitcolor\":\"white\",\"showland\":true,\"showlakes\":true,\"lakecolor\":\"white\"},\"title\":{\"x\":0.05},\"mapbox\":{\"style\":\"light\"}}},\"title\":{\"text\":\"Model Loss During Training\"},\"xaxis\":{\"title\":{\"text\":\"Epoch\"}},\"yaxis\":{\"title\":{\"text\":\"Loss\"}},\"width\":1000,\"height\":500},                        {\"responsive\": true}                    ).then(function(){\n",
       "                            \n",
       "var gd = document.getElementById('c6b3276e-039d-4f60-bf23-024a505b71a2');\n",
       "var x = new MutationObserver(function (mutations, observer) {{\n",
       "        var display = window.getComputedStyle(gd).display;\n",
       "        if (!display || display === 'none') {{\n",
       "            console.log([gd, 'removed!']);\n",
       "            Plotly.purge(gd);\n",
       "            observer.disconnect();\n",
       "        }}\n",
       "}});\n",
       "\n",
       "// Listen for the removal of the full notebook cells\n",
       "var notebookContainer = gd.closest('#notebook-container');\n",
       "if (notebookContainer) {{\n",
       "    x.observe(notebookContainer, {childList: true});\n",
       "}}\n",
       "\n",
       "// Listen for the clearing of the current output cell\n",
       "var outputEl = gd.closest('.output');\n",
       "if (outputEl) {{\n",
       "    x.observe(outputEl, {childList: true});\n",
       "}}\n",
       "\n",
       "                        })                };                });            </script>        </div>"
      ]
     },
     "metadata": {},
     "output_type": "display_data"
    }
   ],
   "source": [
    "# creating a new empty figure\n",
    "figure = go.Figure()\n",
    "\n",
    "# adding a scatter plot of training loss to the figure using the history\n",
    "figure.add_scatter(y=history.history[\"loss\"], name=\"Training Loss\")\n",
    "\n",
    "# adding a scatter plot of training loss to the figure using the history\n",
    "figure.add_scatter(y=history.history[\"val_loss\"], name=\"Validation Loss\")\n",
    "\n",
    "# updating the layout of the figure with a title and axis labels\n",
    "figure.update_layout(dict1={\n",
    "    \"title\": \"Model Loss During Training\",\n",
    "    \"xaxis_title\": \"Epoch\",\n",
    "    \"yaxis_title\": \"Loss\"\n",
    "}, overwrite=True\n",
    " ,width = 1000\n",
    " ,height = 500)\n",
    "\n",
    "# This code displays the figure.\n",
    "figure.show()"
   ]
  },
  {
   "cell_type": "markdown",
   "id": "b6347753-46ca-4372-a6ff-755b78d358e5",
   "metadata": {},
   "source": [
    "### Predictions on the Validation set\n",
    "\n",
    "+ Since we have used most of the data for training, the validation's metrics are going to be too accurate\n",
    "+ Why would this happen? Predictions for the model would be used for unseen data, and since validations data was used in training, it will impact the predictions made by the model\n",
    "+ In general, it is a realistic expectation to see lower accuracy in production setting (but hopefully the model has been trained well enough that it is not too much of a drop)\n",
    "\n",
    "\n",
    "### Passing the Predictions..\n",
    "\n",
    "+ Use predict_with_support_set method in the siamese network class\n",
    "+ The method will pass the entry multiple times through the model with different positive and negative sample to average out its errors\n",
    "+ The goal: stability when it comes to predictions"
   ]
  },
  {
   "cell_type": "code",
   "execution_count": 29,
   "id": "bd8ef48c-a976-494c-b8b0-f0403352f181",
   "metadata": {},
   "outputs": [],
   "source": [
    "# use the trained model to predict the output for the validation data \n",
    "y_pred = X_val.apply(lambda text: model.predict_with_support_set(entry = text, support_set = train_gen.get_support_set(7)))"
   ]
  },
  {
   "cell_type": "code",
   "execution_count": 30,
   "id": "0984b9fc-92cd-40fe-a238-a3946b3291cc",
   "metadata": {},
   "outputs": [
    {
     "name": "stdout",
     "output_type": "stream",
     "text": [
      "              precision    recall  f1-score   support\n",
      "\n",
      "           1       0.50      0.67      0.57         6\n",
      "           2       0.75      0.75      0.75        12\n",
      "           3       0.00      0.00      0.00         2\n",
      "\n",
      "    accuracy                           0.65        20\n",
      "   macro avg       0.42      0.47      0.44        20\n",
      "weighted avg       0.60      0.65      0.62        20\n",
      "\n"
     ]
    }
   ],
   "source": [
    "# build a classification report for the validation data using the support set generated from the training data\n",
    "from sklearn.metrics import classification_report\n",
    "\n",
    "# generating a classification report to evaluate the performance of the model\n",
    "# the zero_division parameter is set to 0 to avoid division by zero errors in the metrics\n",
    "report = classification_report(y_true = y_val, y_pred = y_pred, zero_division=0)\n",
    "\n",
    "# printing out classification report\n",
    "print(report)"
   ]
  },
  {
   "cell_type": "markdown",
   "id": "b76d5a99-109b-40f3-9b42-b7847b1d1489",
   "metadata": {},
   "source": [
    "### Prediction\n",
    "\n",
    "#### Goal\n",
    "\n",
    "+ Time to test the model vs. unseen data\n",
    "+ To predict the correct label on the test csv data"
   ]
  },
  {
   "cell_type": "code",
   "execution_count": 31,
   "id": "698ccdd1-748e-4d1e-b270-2c153ddac963",
   "metadata": {},
   "outputs": [],
   "source": [
    "# apply the read_html function to each value in the \"doc_id\" column of the train_df dataframe\n",
    "# and store the resulting HTML strings in a new column called \"html\"\n",
    "test_df[\"html\"] = test_df[\"doc_id\"].apply(read_html)"
   ]
  },
  {
   "cell_type": "code",
   "execution_count": 32,
   "id": "6bd8d180-4d93-457c-97d6-943709ae7451",
   "metadata": {},
   "outputs": [],
   "source": [
    "# applying the extract html function to the html column\n",
    "test_df['html_text'] = test_df['html'].apply(extract_html)"
   ]
  },
  {
   "cell_type": "code",
   "execution_count": 33,
   "id": "3b6ec7b5-5166-4dbc-bf6b-3ee151d0adfc",
   "metadata": {},
   "outputs": [],
   "source": [
    "# applying function to the html_text column and storing the preprocessed text in a new column\n",
    "test_df['preprocessed_text'] = test_df['html_text'].apply(preprocess_html_text)"
   ]
  },
  {
   "cell_type": "code",
   "execution_count": 34,
   "id": "d5298b7e-6efe-4ffd-90d5-8b7abb0219a3",
   "metadata": {},
   "outputs": [
    {
     "data": {
      "text/html": [
       "<div>\n",
       "<style scoped>\n",
       "    .dataframe tbody tr th:only-of-type {\n",
       "        vertical-align: middle;\n",
       "    }\n",
       "\n",
       "    .dataframe tbody tr th {\n",
       "        vertical-align: top;\n",
       "    }\n",
       "\n",
       "    .dataframe thead th {\n",
       "        text-align: right;\n",
       "    }\n",
       "</style>\n",
       "<table border=\"1\" class=\"dataframe\">\n",
       "  <thead>\n",
       "    <tr style=\"text-align: right;\">\n",
       "      <th></th>\n",
       "      <th>url</th>\n",
       "      <th>doc_id</th>\n",
       "      <th>html</th>\n",
       "      <th>html_text</th>\n",
       "      <th>preprocessed_text</th>\n",
       "    </tr>\n",
       "  </thead>\n",
       "  <tbody>\n",
       "    <tr>\n",
       "      <th>27</th>\n",
       "      <td>http://www.josephstift-dresden.de/pressemittei...</td>\n",
       "      <td>71</td>\n",
       "      <td>&lt;?xml version=\"1.0\" encoding=\"utf-8\"?&gt;\\n&lt;rss v...</td>\n",
       "      <td>\\n\\nKrankenhaus St. Joseph-Stift Dresden (PM)\\...</td>\n",
       "      <td>krankenhaus st joseph stift dresden pm https w...</td>\n",
       "    </tr>\n",
       "    <tr>\n",
       "      <th>40</th>\n",
       "      <td>http://www.pius-hospital.de/kliniken/gynaekolo...</td>\n",
       "      <td>123</td>\n",
       "      <td>&lt;!DOCTYPE html&gt;\\n&lt;html lang=\"de\" dir=\"ltr\" pre...</td>\n",
       "      <td>\\n\\n\\n\\n\\n\\n\\n\\n\\n\\n\\nPatienteninformationen |...</td>\n",
       "      <td>patienteninformationen klinik fã¼r frauenheilk...</td>\n",
       "    </tr>\n",
       "    <tr>\n",
       "      <th>26</th>\n",
       "      <td>http://www.interdisziplinaere-endoskopie.mri.t...</td>\n",
       "      <td>70</td>\n",
       "      <td>&lt;!DOCTYPE html&gt;\\n&lt;html lang=\"de\"&gt;\\n\\t&lt;!--[if I...</td>\n",
       "      <td>\\n\\n\\n \\n \\n\\n\\nHerzlich Willkommen â Interd...</td>\n",
       "      <td>herzlich willkommen â interdisziplinã endoskop...</td>\n",
       "    </tr>\n",
       "    <tr>\n",
       "      <th>43</th>\n",
       "      <td>http://www.uk-augsburg.de/krebsbehandlung/diag...</td>\n",
       "      <td>134</td>\n",
       "      <td>&lt;!DOCTYPE html&gt; \\n&lt;html lang=\"de\"&gt; \\n\\t&lt;head&gt; ...</td>\n",
       "      <td>\\n\\n\\n\\n\\n\\n\\n\\n\\n\\n\\n\\n\\n\\n\\nZweitmeinung â...</td>\n",
       "      <td>zweitmeinung â warum ein weiter einschã tzung ...</td>\n",
       "    </tr>\n",
       "    <tr>\n",
       "      <th>24</th>\n",
       "      <td>http://www.hjk-muenster.de/unsere-kompetenzen/...</td>\n",
       "      <td>68</td>\n",
       "      <td>&lt;!DOCTYPE html&gt;&lt;html lang=\"de\" class=\"no-js\"&gt;&lt;...</td>\n",
       "      <td>GelenkersatzSkip to main contenthjk Die Einric...</td>\n",
       "      <td>gelenkersatzskip main contenthjk die einrichtu...</td>\n",
       "    </tr>\n",
       "    <tr>\n",
       "      <th>37</th>\n",
       "      <td>http://www.maria-josef-hospital.de/unsere-komp...</td>\n",
       "      <td>109</td>\n",
       "      <td>&lt;!DOCTYPE html&gt;&lt;html lang=\"de\" class=\"no-js\"&gt;&lt;...</td>\n",
       "      <td>Leistungsspektrum BrustzentrumSkip to main con...</td>\n",
       "      <td>leistungsspektrum brustzentrumskip main conten...</td>\n",
       "    </tr>\n",
       "    <tr>\n",
       "      <th>12</th>\n",
       "      <td>http://www.ctk.de/klinikum/karriere/stellenang...</td>\n",
       "      <td>46</td>\n",
       "      <td>&lt;!DOCTYPE html&gt;\\n&lt;html lang=\"de\"&gt;\\n&lt;head&gt;\\n\\n&lt;...</td>\n",
       "      <td>\\n\\n\\n\\n\\n\\n\\n\\n\\n\\n\\n\\n\\n\\n\\n\\n\\nGesundheits-...</td>\n",
       "      <td>gesundheit und krankenpfleg w oder medizinisch...</td>\n",
       "    </tr>\n",
       "    <tr>\n",
       "      <th>19</th>\n",
       "      <td>http://www.gesundheitszentrum-wetterau.de/342/...</td>\n",
       "      <td>59</td>\n",
       "      <td>&lt;!DOCTYPE html&gt;\\n&lt;html lang=\"de\" dir=\"ltr\"&gt;\\n&lt;...</td>\n",
       "      <td>\\n\\n\\n\\n\\nMedizinisches Leistungsspektrum wird...</td>\n",
       "      <td>medizinisch leistungsspektrum wird erweitert s...</td>\n",
       "    </tr>\n",
       "    <tr>\n",
       "      <th>4</th>\n",
       "      <td>http://marienhospital-buer.de/mhb-av-chirurgie...</td>\n",
       "      <td>16</td>\n",
       "      <td>&lt;?xml version=\"1.0\" encoding=\"utf-8\"?&gt;\\n&lt;!DOCT...</td>\n",
       "      <td>\\n\\n\\n\\n\\nLeistungsspektrum: Sankt Marien-Hosp...</td>\n",
       "      <td>leistungsspektrum sankt marien hospit buer gmb...</td>\n",
       "    </tr>\n",
       "    <tr>\n",
       "      <th>25</th>\n",
       "      <td>http://www.hufeland.de/de/abteilung-fuer-gastr...</td>\n",
       "      <td>69</td>\n",
       "      <td>&lt;!DOCTYPE html PUBLIC \"-//W3C//DTD XHTML 1.0 T...</td>\n",
       "      <td>\\n\\n\\n\\n\\n\\n\\n\\n\\n\\n\\n\\n\\n\\n\\n\\n\\n\\n\\n\\n\\n\\n\\n...</td>\n",
       "      <td>such wir ã¼ber un das unternehmen die geschich...</td>\n",
       "    </tr>\n",
       "  </tbody>\n",
       "</table>\n",
       "</div>"
      ],
      "text/plain": [
       "                                                  url  doc_id  \\\n",
       "27  http://www.josephstift-dresden.de/pressemittei...      71   \n",
       "40  http://www.pius-hospital.de/kliniken/gynaekolo...     123   \n",
       "26  http://www.interdisziplinaere-endoskopie.mri.t...      70   \n",
       "43  http://www.uk-augsburg.de/krebsbehandlung/diag...     134   \n",
       "24  http://www.hjk-muenster.de/unsere-kompetenzen/...      68   \n",
       "37  http://www.maria-josef-hospital.de/unsere-komp...     109   \n",
       "12  http://www.ctk.de/klinikum/karriere/stellenang...      46   \n",
       "19  http://www.gesundheitszentrum-wetterau.de/342/...      59   \n",
       "4   http://marienhospital-buer.de/mhb-av-chirurgie...      16   \n",
       "25  http://www.hufeland.de/de/abteilung-fuer-gastr...      69   \n",
       "\n",
       "                                                 html  \\\n",
       "27  <?xml version=\"1.0\" encoding=\"utf-8\"?>\\n<rss v...   \n",
       "40  <!DOCTYPE html>\\n<html lang=\"de\" dir=\"ltr\" pre...   \n",
       "26  <!DOCTYPE html>\\n<html lang=\"de\">\\n\\t<!--[if I...   \n",
       "43  <!DOCTYPE html> \\n<html lang=\"de\"> \\n\\t<head> ...   \n",
       "24  <!DOCTYPE html><html lang=\"de\" class=\"no-js\"><...   \n",
       "37  <!DOCTYPE html><html lang=\"de\" class=\"no-js\"><...   \n",
       "12  <!DOCTYPE html>\\n<html lang=\"de\">\\n<head>\\n\\n<...   \n",
       "19  <!DOCTYPE html>\\n<html lang=\"de\" dir=\"ltr\">\\n<...   \n",
       "4   <?xml version=\"1.0\" encoding=\"utf-8\"?>\\n<!DOCT...   \n",
       "25  <!DOCTYPE html PUBLIC \"-//W3C//DTD XHTML 1.0 T...   \n",
       "\n",
       "                                            html_text  \\\n",
       "27  \\n\\nKrankenhaus St. Joseph-Stift Dresden (PM)\\...   \n",
       "40  \\n\\n\\n\\n\\n\\n\\n\\n\\n\\n\\nPatienteninformationen |...   \n",
       "26  \\n\\n\\n \\n \\n\\n\\nHerzlich Willkommen â Interd...   \n",
       "43  \\n\\n\\n\\n\\n\\n\\n\\n\\n\\n\\n\\n\\n\\n\\nZweitmeinung â...   \n",
       "24  GelenkersatzSkip to main contenthjk Die Einric...   \n",
       "37  Leistungsspektrum BrustzentrumSkip to main con...   \n",
       "12  \\n\\n\\n\\n\\n\\n\\n\\n\\n\\n\\n\\n\\n\\n\\n\\n\\nGesundheits-...   \n",
       "19  \\n\\n\\n\\n\\nMedizinisches Leistungsspektrum wird...   \n",
       "4   \\n\\n\\n\\n\\nLeistungsspektrum: Sankt Marien-Hosp...   \n",
       "25  \\n\\n\\n\\n\\n\\n\\n\\n\\n\\n\\n\\n\\n\\n\\n\\n\\n\\n\\n\\n\\n\\n\\n...   \n",
       "\n",
       "                                    preprocessed_text  \n",
       "27  krankenhaus st joseph stift dresden pm https w...  \n",
       "40  patienteninformationen klinik fã¼r frauenheilk...  \n",
       "26  herzlich willkommen â interdisziplinã endoskop...  \n",
       "43  zweitmeinung â warum ein weiter einschã tzung ...  \n",
       "24  gelenkersatzskip main contenthjk die einrichtu...  \n",
       "37  leistungsspektrum brustzentrumskip main conten...  \n",
       "12  gesundheit und krankenpfleg w oder medizinisch...  \n",
       "19  medizinisch leistungsspektrum wird erweitert s...  \n",
       "4   leistungsspektrum sankt marien hospit buer gmb...  \n",
       "25  such wir ã¼ber un das unternehmen die geschich...  "
      ]
     },
     "execution_count": 34,
     "metadata": {},
     "output_type": "execute_result"
    }
   ],
   "source": [
    "# printing out a small sample of the data\n",
    "test_df.sample(n = 10, random_state = 42)"
   ]
  },
  {
   "cell_type": "code",
   "execution_count": 36,
   "id": "519ac2e1-f2df-471a-9c57-e464228ece33",
   "metadata": {},
   "outputs": [],
   "source": [
    "# use the trained model to predict the output for the test data \n",
    "test_df['predictions'] = test_df['preprocessed_text'].apply(lambda text: model.predict_with_support_set(entry = text, support_set = train_gen.get_support_set(7)))"
   ]
  },
  {
   "cell_type": "code",
   "execution_count": null,
   "id": "cc550706-013b-45c9-a501-663d0408523f",
   "metadata": {},
   "outputs": [],
   "source": [
    "# getting a breakdown of the label count distribution from the train data\n",
    "train_df['label'].value_counts()"
   ]
  },
  {
   "cell_type": "code",
   "execution_count": 37,
   "id": "c4996e93-9cad-4e2c-9541-07c896d7771f",
   "metadata": {},
   "outputs": [
    {
     "data": {
      "text/plain": [
       "2    37\n",
       "1    11\n",
       "Name: predictions, dtype: int64"
      ]
     },
     "execution_count": 37,
     "metadata": {},
     "output_type": "execute_result"
    }
   ],
   "source": [
    "# getting a breakdown of the label count distribution from the test data\n",
    "test_df['predictions'].value_counts()"
   ]
  },
  {
   "cell_type": "code",
   "execution_count": 38,
   "id": "adc5cb1a-86bd-4eaf-b4ea-5046f59aafce",
   "metadata": {},
   "outputs": [
    {
     "data": {
      "text/html": [
       "<div>\n",
       "<style scoped>\n",
       "    .dataframe tbody tr th:only-of-type {\n",
       "        vertical-align: middle;\n",
       "    }\n",
       "\n",
       "    .dataframe tbody tr th {\n",
       "        vertical-align: top;\n",
       "    }\n",
       "\n",
       "    .dataframe thead th {\n",
       "        text-align: right;\n",
       "    }\n",
       "</style>\n",
       "<table border=\"1\" class=\"dataframe\">\n",
       "  <thead>\n",
       "    <tr style=\"text-align: right;\">\n",
       "      <th></th>\n",
       "      <th>url</th>\n",
       "      <th>doc_id</th>\n",
       "      <th>html</th>\n",
       "      <th>html_text</th>\n",
       "      <th>preprocessed_text</th>\n",
       "      <th>predictions</th>\n",
       "    </tr>\n",
       "  </thead>\n",
       "  <tbody>\n",
       "    <tr>\n",
       "      <th>0</th>\n",
       "      <td>http://chirurgie-goettingen.de/medizinische-ve...</td>\n",
       "      <td>0</td>\n",
       "      <td>&lt;!doctype html&gt;\\n&lt;html lang=\"de\" dir=\"ltr\"&gt;\\n\\...</td>\n",
       "      <td>\\n\\n\\n\\n\\n\\nBauchspeicheldrÃ¼se | Klinik fÃ¼r ...</td>\n",
       "      <td>bauchspeicheldrã¼s klinik fã¼r allgemein visze...</td>\n",
       "      <td>2</td>\n",
       "    </tr>\n",
       "    <tr>\n",
       "      <th>1</th>\n",
       "      <td>http://evkb.de/kliniken-zentren/chirurgie/allg...</td>\n",
       "      <td>2</td>\n",
       "      <td>&lt;!DOCTYPE html&gt;\\n&lt;html lang=\"de\" dir=\"ltr\" cla...</td>\n",
       "      <td>\\n\\n\\n\\n\\n\\n\\n\\n\\n\\n\\n\\n\\n\\n\\n\\n\\n\\n\\nChirurgi...</td>\n",
       "      <td>chirurgi der bauchspeicheldrã¼s pankreaschirur...</td>\n",
       "      <td>2</td>\n",
       "    </tr>\n",
       "    <tr>\n",
       "      <th>2</th>\n",
       "      <td>http://krebszentrum.kreiskliniken-reutlingen.d...</td>\n",
       "      <td>7</td>\n",
       "      <td>&lt;!DOCTYPE html PUBLIC \"-//W3C//DTD XHTML 1.0 T...</td>\n",
       "      <td>\\n\\n\\nBrustzentrum Reutlingen: Behandlungsverf...</td>\n",
       "      <td>brustzentrum reutlingen behandlungsverfahren k...</td>\n",
       "      <td>2</td>\n",
       "    </tr>\n",
       "    <tr>\n",
       "      <th>3</th>\n",
       "      <td>http://marienhospital-buer.de/mhb-av-chirurgie...</td>\n",
       "      <td>15</td>\n",
       "      <td>&lt;?xml version=\"1.0\" encoding=\"utf-8\"?&gt;\\n&lt;!DOCT...</td>\n",
       "      <td>\\n\\n\\n\\n\\nLeistungsspektrum: Sankt Marien-Hosp...</td>\n",
       "      <td>leistungsspektrum sankt marien hospit buer gmb...</td>\n",
       "      <td>2</td>\n",
       "    </tr>\n",
       "    <tr>\n",
       "      <th>4</th>\n",
       "      <td>http://marienhospital-buer.de/mhb-av-chirurgie...</td>\n",
       "      <td>16</td>\n",
       "      <td>&lt;?xml version=\"1.0\" encoding=\"utf-8\"?&gt;\\n&lt;!DOCT...</td>\n",
       "      <td>\\n\\n\\n\\n\\nLeistungsspektrum: Sankt Marien-Hosp...</td>\n",
       "      <td>leistungsspektrum sankt marien hospit buer gmb...</td>\n",
       "      <td>2</td>\n",
       "    </tr>\n",
       "    <tr>\n",
       "      <th>5</th>\n",
       "      <td>http://onkozentrum.med.uni-rostock.de/informat...</td>\n",
       "      <td>24</td>\n",
       "      <td>&lt;!DOCTYPE html&gt;\\n&lt;!-- HTML5 Shim and Respond.j...</td>\n",
       "      <td>\\n\\n\\n\\n\\n\\n\\n\\n\\n\\n\\n\\n\\n\\n\\n\\nTumorzentrum R...</td>\n",
       "      <td>tumorzentrum rostock e v â onkologisch zentrum...</td>\n",
       "      <td>1</td>\n",
       "    </tr>\n",
       "    <tr>\n",
       "      <th>6</th>\n",
       "      <td>http://www.asklepios.com/goslar/experten/haema...</td>\n",
       "      <td>31</td>\n",
       "      <td>&lt;!DOCTYPE html&gt;\\n&lt;html xml:lang=\"de\" lang=\"de\"...</td>\n",
       "      <td>\\n\\n\\nGynÃ¤kologische Tumore - Asklepios Harzk...</td>\n",
       "      <td>gynã kologisch tumor asklepio harzklinik gosla...</td>\n",
       "      <td>1</td>\n",
       "    </tr>\n",
       "    <tr>\n",
       "      <th>7</th>\n",
       "      <td>http://www.asklepios.com/hamburg/altona/expert...</td>\n",
       "      <td>32</td>\n",
       "      <td>&lt;!DOCTYPE html&gt;\\n&lt;html xml:lang=\"de\" lang=\"de\"...</td>\n",
       "      <td>\\n\\n\\nInterdisziplinÃ¤re Tumorkonferenzen - As...</td>\n",
       "      <td>interdisziplinã tumorkonferenzen asklepio klin...</td>\n",
       "      <td>1</td>\n",
       "    </tr>\n",
       "    <tr>\n",
       "      <th>8</th>\n",
       "      <td>http://www.barmherzige-regensburg.de/herzrhyth...</td>\n",
       "      <td>36</td>\n",
       "      <td>&lt;!DOCTYPE html&gt;\\n&lt;html lang=\"de\"&gt;\\n&lt;head&gt;\\n\\n&lt;...</td>\n",
       "      <td>\\n\\n\\n\\n\\n\\n\\n\\n\\nSelbsthilfegruppen - Kranken...</td>\n",
       "      <td>selbsthilfegruppen krankenhaus barmherzig brã¼...</td>\n",
       "      <td>1</td>\n",
       "    </tr>\n",
       "    <tr>\n",
       "      <th>9</th>\n",
       "      <td>http://www.barmherzige-regensburg.de/zentrum-f...</td>\n",
       "      <td>38</td>\n",
       "      <td>&lt;!DOCTYPE html&gt;\\n&lt;html lang=\"de\"&gt;\\n&lt;head&gt;\\n\\n&lt;...</td>\n",
       "      <td>\\n\\n\\n\\n\\n\\n\\n\\n\\nStereotaktische Radiotherapi...</td>\n",
       "      <td>stereotaktisch radiotherapi krankenhaus barmhe...</td>\n",
       "      <td>2</td>\n",
       "    </tr>\n",
       "    <tr>\n",
       "      <th>10</th>\n",
       "      <td>http://www.bbtgruppe.de/zentrale/projektueberg...</td>\n",
       "      <td>39</td>\n",
       "      <td>&lt;!DOCTYPE html&gt;\\n&lt;html lang=\"de\"&gt;\\n  &lt;head&gt;\\n ...</td>\n",
       "      <td>\\n\\nInterventionelle Radiologie - Mehr als nur...</td>\n",
       "      <td>interventionell radiologi mehr al nur bilder m...</td>\n",
       "      <td>2</td>\n",
       "    </tr>\n",
       "    <tr>\n",
       "      <th>11</th>\n",
       "      <td>http://www.chirurgie.uk-erlangen.de/aktuelles/...</td>\n",
       "      <td>43</td>\n",
       "      <td>&lt;!DOCTYPE html&gt;\\n&lt;html class=\"no-js\"&gt;\\n&lt;meta h...</td>\n",
       "      <td>\\n\\n\\n\\n\\nChirurgie\\n\\n\\n\\n\\n\\n\\n\\n\\n\\n\\nNachr...</td>\n",
       "      <td>chirurgi nachrichten universitã tsklinikum erl...</td>\n",
       "      <td>2</td>\n",
       "    </tr>\n",
       "    <tr>\n",
       "      <th>12</th>\n",
       "      <td>http://www.ctk.de/klinikum/karriere/stellenang...</td>\n",
       "      <td>46</td>\n",
       "      <td>&lt;!DOCTYPE html&gt;\\n&lt;html lang=\"de\"&gt;\\n&lt;head&gt;\\n\\n&lt;...</td>\n",
       "      <td>\\n\\n\\n\\n\\n\\n\\n\\n\\n\\n\\n\\n\\n\\n\\n\\n\\nGesundheits-...</td>\n",
       "      <td>gesundheit und krankenpfleg w oder medizinisch...</td>\n",
       "      <td>2</td>\n",
       "    </tr>\n",
       "    <tr>\n",
       "      <th>13</th>\n",
       "      <td>http://www.ctk.de/klinikum/kliniken-zentren/ze...</td>\n",
       "      <td>47</td>\n",
       "      <td>&lt;!DOCTYPE html&gt;\\n&lt;html lang=\"de\"&gt;\\n&lt;head&gt;\\n\\n&lt;...</td>\n",
       "      <td>\\n\\n\\n\\n\\n\\n\\n\\n\\n\\n\\n\\n\\n\\n\\n\\n\\n\\nOnkologisc...</td>\n",
       "      <td>onkologisch zentrum carl thiem klinikum cottbu...</td>\n",
       "      <td>1</td>\n",
       "    </tr>\n",
       "    <tr>\n",
       "      <th>14</th>\n",
       "      <td>http://www.diakovere.de/unternehmen-und-mehr/k...</td>\n",
       "      <td>50</td>\n",
       "      <td>&lt;!DOCTYPE html&gt;\\n&lt;!--[if IE 8 ]&gt;&lt;html lang=\"de...</td>\n",
       "      <td>\\n\\n\\n\\n\\n\\nKontakt &amp; Anfahrt Â« Darmkrebszent...</td>\n",
       "      <td>kontakt anfahrt â darmkrebszentrum â die behan...</td>\n",
       "      <td>1</td>\n",
       "    </tr>\n",
       "    <tr>\n",
       "      <th>15</th>\n",
       "      <td>http://www.drk-kliniken-berlin.de/radiologie-k...</td>\n",
       "      <td>51</td>\n",
       "      <td>&lt;!DOCTYPE html&gt;\\n&lt;html dir=\"ltr\" lang=\"de\"&gt;\\n&lt;...</td>\n",
       "      <td>\\n\\n\\n\\nDRK Kliniken Berlin: Leistungen\\n\\n\\n\\...</td>\n",
       "      <td>drk kliniken berlin leistungen ã ber un einwei...</td>\n",
       "      <td>1</td>\n",
       "    </tr>\n",
       "    <tr>\n",
       "      <th>16</th>\n",
       "      <td>http://www.evkln.de/kliniken-institute-zentren...</td>\n",
       "      <td>53</td>\n",
       "      <td>&lt;!doctype html&gt;\\n\\n&lt;!--[if lt IE 7]&gt;&lt;html lang...</td>\n",
       "      <td>\\n\\n\\n\\nZielsetzung - Evangelisches Klinikum N...</td>\n",
       "      <td>zielsetzung evangelisch klinikum niederrhein n...</td>\n",
       "      <td>2</td>\n",
       "    </tr>\n",
       "    <tr>\n",
       "      <th>17</th>\n",
       "      <td>http://www.gesundheit-nordhessen.de/en/zentrum...</td>\n",
       "      <td>56</td>\n",
       "      <td>&lt;!DOCTYPE html&gt;\\n&lt;!--[if lt IE 7 ]&gt;&lt;html dir=\"...</td>\n",
       "      <td>\\n\\n\\n\\n\\n\\nAblauf einer Strahlentherapie | Ze...</td>\n",
       "      <td>ablauf einer strahlentherapi zentrum fã¼r medi...</td>\n",
       "      <td>2</td>\n",
       "    </tr>\n",
       "    <tr>\n",
       "      <th>18</th>\n",
       "      <td>http://www.gesundheitnord.de/krankenhaeuserund...</td>\n",
       "      <td>58</td>\n",
       "      <td>&lt;!DOCTYPE html&gt;\\n&lt;html dir=\"ltr\" lang=\"de-DE\"&gt;...</td>\n",
       "      <td>\\n\\n\\n\\n\\n\\n\\n\\n\\n\\n\\n\\n\\n\\n\\n\\n\\n\\n\\n\\n\\n\\n\\n...</td>\n",
       "      <td>stoffwechselerkrankungen lipidapheres stoffwec...</td>\n",
       "      <td>2</td>\n",
       "    </tr>\n",
       "    <tr>\n",
       "      <th>19</th>\n",
       "      <td>http://www.gesundheitszentrum-wetterau.de/342/...</td>\n",
       "      <td>59</td>\n",
       "      <td>&lt;!DOCTYPE html&gt;\\n&lt;html lang=\"de\" dir=\"ltr\"&gt;\\n&lt;...</td>\n",
       "      <td>\\n\\n\\n\\n\\nMedizinisches Leistungsspektrum wird...</td>\n",
       "      <td>medizinisch leistungsspektrum wird erweitert s...</td>\n",
       "      <td>1</td>\n",
       "    </tr>\n",
       "    <tr>\n",
       "      <th>20</th>\n",
       "      <td>http://www.gfo-kliniken-bonn.de/fachabteilunge...</td>\n",
       "      <td>60</td>\n",
       "      <td>&lt;!DOCTYPE html&gt;\\n&lt;html lang=\"de\"&gt;\\n&lt;head&gt;&lt;!--[...</td>\n",
       "      <td>\\n\\n\\n\\n\\n\\n\\n\\n\\n\\n\\n\\n\\n\\n\\n\\nInfos fÃ¼r Fac...</td>\n",
       "      <td>info fã¼r fachperson gfo kliniken bonn kranken...</td>\n",
       "      <td>2</td>\n",
       "    </tr>\n",
       "    <tr>\n",
       "      <th>21</th>\n",
       "      <td>http://www.gp-ruesselsheim.de/01_gpr_gruppe/02...</td>\n",
       "      <td>62</td>\n",
       "      <td>&lt;!DOCTYPE html PUBLIC \"-//W3C//DTD HTML 4.01 T...</td>\n",
       "      <td>\\n\\n\\n\\n\\n\\n\\n\\n\\n\\n\\n\\n\\n\\n\\n \\n\\n\\n\\n\\n\\n \\n...</td>\n",
       "      <td>pressemitteilungen kontakt joachim haasunterne...</td>\n",
       "      <td>2</td>\n",
       "    </tr>\n",
       "    <tr>\n",
       "      <th>22</th>\n",
       "      <td>http://www.helios-gesundheit.de/kliniken/schwe...</td>\n",
       "      <td>65</td>\n",
       "      <td>&lt;!DOCTYPE html&gt;\\n&lt;html class=\"no-js\" lang=\"de-...</td>\n",
       "      <td>\\n\\n\\n\\n\\n\\n\\n\\n\\n\\n\\nHÃ¤ufige Fragen zur Stra...</td>\n",
       "      <td>hã ufig fragen zur strahlentherapi auf dieser ...</td>\n",
       "      <td>1</td>\n",
       "    </tr>\n",
       "    <tr>\n",
       "      <th>23</th>\n",
       "      <td>http://www.helios-gesundheit.de/nrw/helios-tum...</td>\n",
       "      <td>66</td>\n",
       "      <td>&lt;!DOCTYPE html&gt;\\n&lt;html class=\"no-js\" lang=\"de-...</td>\n",
       "      <td>\\n\\n\\n\\n\\n\\n\\n\\n\\n\\n\\nHelios Tumorzentrum NRW\\...</td>\n",
       "      <td>helio tumorzentrum nrw auf dieser websit werde...</td>\n",
       "      <td>2</td>\n",
       "    </tr>\n",
       "    <tr>\n",
       "      <th>24</th>\n",
       "      <td>http://www.hjk-muenster.de/unsere-kompetenzen/...</td>\n",
       "      <td>68</td>\n",
       "      <td>&lt;!DOCTYPE html&gt;&lt;html lang=\"de\" class=\"no-js\"&gt;&lt;...</td>\n",
       "      <td>GelenkersatzSkip to main contenthjk Die Einric...</td>\n",
       "      <td>gelenkersatzskip main contenthjk die einrichtu...</td>\n",
       "      <td>2</td>\n",
       "    </tr>\n",
       "    <tr>\n",
       "      <th>25</th>\n",
       "      <td>http://www.hufeland.de/de/abteilung-fuer-gastr...</td>\n",
       "      <td>69</td>\n",
       "      <td>&lt;!DOCTYPE html PUBLIC \"-//W3C//DTD XHTML 1.0 T...</td>\n",
       "      <td>\\n\\n\\n\\n\\n\\n\\n\\n\\n\\n\\n\\n\\n\\n\\n\\n\\n\\n\\n\\n\\n\\n\\n...</td>\n",
       "      <td>such wir ã¼ber un das unternehmen die geschich...</td>\n",
       "      <td>1</td>\n",
       "    </tr>\n",
       "    <tr>\n",
       "      <th>26</th>\n",
       "      <td>http://www.interdisziplinaere-endoskopie.mri.t...</td>\n",
       "      <td>70</td>\n",
       "      <td>&lt;!DOCTYPE html&gt;\\n&lt;html lang=\"de\"&gt;\\n\\t&lt;!--[if I...</td>\n",
       "      <td>\\n\\n\\n \\n \\n\\n\\nHerzlich Willkommen â Interd...</td>\n",
       "      <td>herzlich willkommen â interdisziplinã endoskop...</td>\n",
       "      <td>1</td>\n",
       "    </tr>\n",
       "    <tr>\n",
       "      <th>27</th>\n",
       "      <td>http://www.josephstift-dresden.de/pressemittei...</td>\n",
       "      <td>71</td>\n",
       "      <td>&lt;?xml version=\"1.0\" encoding=\"utf-8\"?&gt;\\n&lt;rss v...</td>\n",
       "      <td>\\n\\nKrankenhaus St. Joseph-Stift Dresden (PM)\\...</td>\n",
       "      <td>krankenhaus st joseph stift dresden pm https w...</td>\n",
       "      <td>2</td>\n",
       "    </tr>\n",
       "    <tr>\n",
       "      <th>28</th>\n",
       "      <td>http://www.klilu.de/medizin__pflege/kliniken_u...</td>\n",
       "      <td>74</td>\n",
       "      <td>&lt;!DOCTYPE html&gt;\\n&lt;html lang=\"de\"&gt;&lt;head&gt;\\n\\t&lt;me...</td>\n",
       "      <td>\\n\\n\\n\\nPathologie » Institute A-Z » Kliniken ...</td>\n",
       "      <td>pathologi institut z kliniken und fachbereich ...</td>\n",
       "      <td>2</td>\n",
       "    </tr>\n",
       "    <tr>\n",
       "      <th>29</th>\n",
       "      <td>http://www.kliniksued-rostock.de/kliniken-abte...</td>\n",
       "      <td>78</td>\n",
       "      <td>&lt;!DOCTYPE html&gt;\\n&lt;html lang=\"de\"&gt;\\n&lt;head&gt;\\n\\n&lt;...</td>\n",
       "      <td>\\n\\n\\n\\n\\nSprechstunden / Poliklinik\\n\\n\\n\\n\\n...</td>\n",
       "      <td>sprechstunden poliklinik kontaktsitemap notfal...</td>\n",
       "      <td>2</td>\n",
       "    </tr>\n",
       "    <tr>\n",
       "      <th>30</th>\n",
       "      <td>http://www.klinikum-esslingen.de/kliniken-und-...</td>\n",
       "      <td>82</td>\n",
       "      <td>&lt;!DOCTYPE html&gt;\\n&lt;html xmlns=\"http://www.w3.or...</td>\n",
       "      <td>\\n\\n\\n\\n\\n\\n\\n\\n\\n\\n\\n\\n\\n\\n\\n\\n\\n\\n\\n\\n\\n\\n\\n...</td>\n",
       "      <td>fort und weiterbildung radiologi nuklearmedizi...</td>\n",
       "      <td>2</td>\n",
       "    </tr>\n",
       "    <tr>\n",
       "      <th>31</th>\n",
       "      <td>http://www.klinikum-esslingen.de/kliniken-und-...</td>\n",
       "      <td>84</td>\n",
       "      <td>&lt;!DOCTYPE html&gt;\\n&lt;html xmlns=\"http://www.w3.or...</td>\n",
       "      <td>\\n\\n\\n\\n\\n\\n\\n\\n\\n\\n\\n\\n\\n\\n\\n\\n\\n\\n\\n\\n\\n\\n\\n...</td>\n",
       "      <td>unser profil gefã ã und thoraxchirurgi kliniku...</td>\n",
       "      <td>2</td>\n",
       "    </tr>\n",
       "    <tr>\n",
       "      <th>32</th>\n",
       "      <td>http://www.klinikum-esslingen.de/kliniken-und-...</td>\n",
       "      <td>87</td>\n",
       "      <td>&lt;!DOCTYPE html&gt;\\n&lt;html xmlns=\"http://www.w3.or...</td>\n",
       "      <td>\\n\\n\\n\\n\\n\\n\\n\\n\\n\\n\\n\\n\\n\\n\\n\\n\\n\\n\\n\\n\\n\\n\\n...</td>\n",
       "      <td>unser profil klinikum esslingen toggl navig kl...</td>\n",
       "      <td>2</td>\n",
       "    </tr>\n",
       "    <tr>\n",
       "      <th>33</th>\n",
       "      <td>http://www.klinikum-oberberg.de/en/karriere-au...</td>\n",
       "      <td>91</td>\n",
       "      <td>&lt;!DOCTYPE html&gt;\\n&lt;html lang=\"en\"&gt;\\n&lt;head&gt;\\n\\n&lt;...</td>\n",
       "      <td>\\n\\n\\n\\n\\n\\n\\n\\n\\nStrahlentherapie am Kreiskra...</td>\n",
       "      <td>strahlentherapi kreiskrankenhaus gummersbach k...</td>\n",
       "      <td>2</td>\n",
       "    </tr>\n",
       "    <tr>\n",
       "      <th>34</th>\n",
       "      <td>http://www.klinikverbund-suedwest.de/kliniken-...</td>\n",
       "      <td>99</td>\n",
       "      <td>&lt;!DOCTYPE html&gt; &lt;html xmlns=\"http://www.w3.org...</td>\n",
       "      <td>Zertifiziertes Darmkrebszentrum - ...</td>\n",
       "      <td>zertifiziert darmkrebszentrum warum darmkrebsz...</td>\n",
       "      <td>2</td>\n",
       "    </tr>\n",
       "    <tr>\n",
       "      <th>35</th>\n",
       "      <td>http://www.krupp-krankenhaus.de/allg-viszeralc...</td>\n",
       "      <td>103</td>\n",
       "      <td>&lt;!DOCTYPE html&gt;\\n&lt;html lang=\"de\"&gt;\\n&lt;head&gt;\\n\\n&lt;...</td>\n",
       "      <td>\\n\\n\\n\\nAlfried Krupp Krankenhaus | DÃ¼nn-, Di...</td>\n",
       "      <td>alfri krupp krankenhaus dã¼nn dick und mastdar...</td>\n",
       "      <td>2</td>\n",
       "    </tr>\n",
       "    <tr>\n",
       "      <th>36</th>\n",
       "      <td>http://www.malteser-franziskus.de/medizin-pfle...</td>\n",
       "      <td>104</td>\n",
       "      <td>&lt;!DOCTYPE html&gt;\\n&lt;html lang=\"de\"&gt;\\n&lt;head&gt;\\n\\n&lt;...</td>\n",
       "      <td>\\n\\n\\n\\n\\n\\n\\n\\n\\n\\n\\n\\n\\n\\n\\n\\n\\n\\n\\n\\n\\n\\n\\n...</td>\n",
       "      <td>maltes krankenhaus st franziskus hospit flensb...</td>\n",
       "      <td>2</td>\n",
       "    </tr>\n",
       "    <tr>\n",
       "      <th>37</th>\n",
       "      <td>http://www.maria-josef-hospital.de/unsere-komp...</td>\n",
       "      <td>109</td>\n",
       "      <td>&lt;!DOCTYPE html&gt;&lt;html lang=\"de\" class=\"no-js\"&gt;&lt;...</td>\n",
       "      <td>Leistungsspektrum BrustzentrumSkip to main con...</td>\n",
       "      <td>leistungsspektrum brustzentrumskip main conten...</td>\n",
       "      <td>2</td>\n",
       "    </tr>\n",
       "    <tr>\n",
       "      <th>38</th>\n",
       "      <td>http://www.medizin.uni-halle.de/?bf=&amp;id=2947&amp;l=0</td>\n",
       "      <td>113</td>\n",
       "      <td>&lt;!DOCTYPE html\\n     PUBLIC \"-//W3C//DTD XHTML...</td>\n",
       "      <td>\\n\\n\\n\\nUniversitÃ¤tsklinikum Halle(Saale): St...</td>\n",
       "      <td>universitã tsklinikum hall saal startseit umfr...</td>\n",
       "      <td>2</td>\n",
       "    </tr>\n",
       "    <tr>\n",
       "      <th>39</th>\n",
       "      <td>http://www.muk.uni-frankfurt.de/pressemitteilu...</td>\n",
       "      <td>116</td>\n",
       "      <td>&lt;!DOCTYPE html&gt;\\n&lt;html lang=\"de\"&gt;\\n  &lt;head&gt;\\n ...</td>\n",
       "      <td>\\n\\n\\n\\nGoethe-UniversitÃ¤t â âââââ...</td>\n",
       "      <td>goeth universitã â â â â â â â pressemitteilun...</td>\n",
       "      <td>2</td>\n",
       "    </tr>\n",
       "    <tr>\n",
       "      <th>40</th>\n",
       "      <td>http://www.pius-hospital.de/kliniken/gynaekolo...</td>\n",
       "      <td>123</td>\n",
       "      <td>&lt;!DOCTYPE html&gt;\\n&lt;html lang=\"de\" dir=\"ltr\" pre...</td>\n",
       "      <td>\\n\\n\\n\\n\\n\\n\\n\\n\\n\\n\\nPatienteninformationen |...</td>\n",
       "      <td>patienteninformationen klinik fã¼r frauenheilk...</td>\n",
       "      <td>2</td>\n",
       "    </tr>\n",
       "    <tr>\n",
       "      <th>41</th>\n",
       "      <td>http://www.prosper-hospital.de/brustkrebs.1312...</td>\n",
       "      <td>124</td>\n",
       "      <td>&lt;!DOCTYPE html&gt;\\n&lt;!--[if lt IE 7 ]&gt; &lt;html lang...</td>\n",
       "      <td>\\n\\n\\n\\n\\n\\n\\nProsper-Hospital Recklinghausen...</td>\n",
       "      <td>prosper hospit recklinghausen brustkreb ã ber ...</td>\n",
       "      <td>2</td>\n",
       "    </tr>\n",
       "    <tr>\n",
       "      <th>42</th>\n",
       "      <td>http://www.siemens-healthineers.com/de/digital...</td>\n",
       "      <td>127</td>\n",
       "      <td>&lt;!doctype html&gt;&lt;html class=\"no-js general-publ...</td>\n",
       "      <td>Vendor Neutral Archiving Solutions (VNA) - Si...</td>\n",
       "      <td>vendor neutral archiv solut vna siemen healthi...</td>\n",
       "      <td>2</td>\n",
       "    </tr>\n",
       "    <tr>\n",
       "      <th>43</th>\n",
       "      <td>http://www.uk-augsburg.de/krebsbehandlung/diag...</td>\n",
       "      <td>134</td>\n",
       "      <td>&lt;!DOCTYPE html&gt; \\n&lt;html lang=\"de\"&gt; \\n\\t&lt;head&gt; ...</td>\n",
       "      <td>\\n\\n\\n\\n\\n\\n\\n\\n\\n\\n\\n\\n\\n\\n\\nZweitmeinung â...</td>\n",
       "      <td>zweitmeinung â warum ein weiter einschã tzung ...</td>\n",
       "      <td>2</td>\n",
       "    </tr>\n",
       "    <tr>\n",
       "      <th>44</th>\n",
       "      <td>http://www.ukb.uni-bonn.de/42256bc8002af3e7/vw...</td>\n",
       "      <td>135</td>\n",
       "      <td>&lt;!DOCTYPE html&gt;\\n&lt;html lang=\"en\"&gt;\\n&lt;head&gt;\\n&lt;sc...</td>\n",
       "      <td>\\n\\n\\n\\nUKB Universitätsklinikum BONN / Medizi...</td>\n",
       "      <td>ukb universitätsklinikum bonn medizinisch faku...</td>\n",
       "      <td>2</td>\n",
       "    </tr>\n",
       "    <tr>\n",
       "      <th>45</th>\n",
       "      <td>http://www.uniklinikum-leipzig.de/einrichtunge...</td>\n",
       "      <td>142</td>\n",
       "      <td>\\n\\n&lt;!DOCTYPE html PUBLIC \"-//W3C//DTD XHTML 1...</td>\n",
       "      <td>\\n\\n\\t\\n\\tTumorboard des Lungenkrebszentrums\\n...</td>\n",
       "      <td>tumorboard des lungenkrebszentrum mã glicherwe...</td>\n",
       "      <td>2</td>\n",
       "    </tr>\n",
       "    <tr>\n",
       "      <th>46</th>\n",
       "      <td>http://www.vidia-kliniken.de/job-und-karriere/...</td>\n",
       "      <td>143</td>\n",
       "      <td>&lt;!DOCTYPE html&gt;\\n&lt;html lang=\"de\"&gt;\\n&lt;head&gt;\\n\\n&lt;...</td>\n",
       "      <td>\\n\\n\\n\\n\\n\\nOberarzt (m/w/d) fÃ¼r die HNO-Klin...</td>\n",
       "      <td>oberarzt w fã¼r die hno klinik notfal rettungs...</td>\n",
       "      <td>2</td>\n",
       "    </tr>\n",
       "    <tr>\n",
       "      <th>47</th>\n",
       "      <td>http://www.zollernalb-klinikum.de/medizin/klin...</td>\n",
       "      <td>147</td>\n",
       "      <td>&lt;!DOCTYPE html&gt; &lt;html lang=\"de\"&gt; &lt;meta name=\"v...</td>\n",
       "      <td>Klinik fÃ¼r Allgemeinchirurgie, Viszeralc...</td>\n",
       "      <td>klinik fã¼r allgemeinchirurgi viszeralchirurgi...</td>\n",
       "      <td>2</td>\n",
       "    </tr>\n",
       "  </tbody>\n",
       "</table>\n",
       "</div>"
      ],
      "text/plain": [
       "                                                  url  doc_id  \\\n",
       "0   http://chirurgie-goettingen.de/medizinische-ve...       0   \n",
       "1   http://evkb.de/kliniken-zentren/chirurgie/allg...       2   \n",
       "2   http://krebszentrum.kreiskliniken-reutlingen.d...       7   \n",
       "3   http://marienhospital-buer.de/mhb-av-chirurgie...      15   \n",
       "4   http://marienhospital-buer.de/mhb-av-chirurgie...      16   \n",
       "5   http://onkozentrum.med.uni-rostock.de/informat...      24   \n",
       "6   http://www.asklepios.com/goslar/experten/haema...      31   \n",
       "7   http://www.asklepios.com/hamburg/altona/expert...      32   \n",
       "8   http://www.barmherzige-regensburg.de/herzrhyth...      36   \n",
       "9   http://www.barmherzige-regensburg.de/zentrum-f...      38   \n",
       "10  http://www.bbtgruppe.de/zentrale/projektueberg...      39   \n",
       "11  http://www.chirurgie.uk-erlangen.de/aktuelles/...      43   \n",
       "12  http://www.ctk.de/klinikum/karriere/stellenang...      46   \n",
       "13  http://www.ctk.de/klinikum/kliniken-zentren/ze...      47   \n",
       "14  http://www.diakovere.de/unternehmen-und-mehr/k...      50   \n",
       "15  http://www.drk-kliniken-berlin.de/radiologie-k...      51   \n",
       "16  http://www.evkln.de/kliniken-institute-zentren...      53   \n",
       "17  http://www.gesundheit-nordhessen.de/en/zentrum...      56   \n",
       "18  http://www.gesundheitnord.de/krankenhaeuserund...      58   \n",
       "19  http://www.gesundheitszentrum-wetterau.de/342/...      59   \n",
       "20  http://www.gfo-kliniken-bonn.de/fachabteilunge...      60   \n",
       "21  http://www.gp-ruesselsheim.de/01_gpr_gruppe/02...      62   \n",
       "22  http://www.helios-gesundheit.de/kliniken/schwe...      65   \n",
       "23  http://www.helios-gesundheit.de/nrw/helios-tum...      66   \n",
       "24  http://www.hjk-muenster.de/unsere-kompetenzen/...      68   \n",
       "25  http://www.hufeland.de/de/abteilung-fuer-gastr...      69   \n",
       "26  http://www.interdisziplinaere-endoskopie.mri.t...      70   \n",
       "27  http://www.josephstift-dresden.de/pressemittei...      71   \n",
       "28  http://www.klilu.de/medizin__pflege/kliniken_u...      74   \n",
       "29  http://www.kliniksued-rostock.de/kliniken-abte...      78   \n",
       "30  http://www.klinikum-esslingen.de/kliniken-und-...      82   \n",
       "31  http://www.klinikum-esslingen.de/kliniken-und-...      84   \n",
       "32  http://www.klinikum-esslingen.de/kliniken-und-...      87   \n",
       "33  http://www.klinikum-oberberg.de/en/karriere-au...      91   \n",
       "34  http://www.klinikverbund-suedwest.de/kliniken-...      99   \n",
       "35  http://www.krupp-krankenhaus.de/allg-viszeralc...     103   \n",
       "36  http://www.malteser-franziskus.de/medizin-pfle...     104   \n",
       "37  http://www.maria-josef-hospital.de/unsere-komp...     109   \n",
       "38   http://www.medizin.uni-halle.de/?bf=&id=2947&l=0     113   \n",
       "39  http://www.muk.uni-frankfurt.de/pressemitteilu...     116   \n",
       "40  http://www.pius-hospital.de/kliniken/gynaekolo...     123   \n",
       "41  http://www.prosper-hospital.de/brustkrebs.1312...     124   \n",
       "42  http://www.siemens-healthineers.com/de/digital...     127   \n",
       "43  http://www.uk-augsburg.de/krebsbehandlung/diag...     134   \n",
       "44  http://www.ukb.uni-bonn.de/42256bc8002af3e7/vw...     135   \n",
       "45  http://www.uniklinikum-leipzig.de/einrichtunge...     142   \n",
       "46  http://www.vidia-kliniken.de/job-und-karriere/...     143   \n",
       "47  http://www.zollernalb-klinikum.de/medizin/klin...     147   \n",
       "\n",
       "                                                 html  \\\n",
       "0   <!doctype html>\\n<html lang=\"de\" dir=\"ltr\">\\n\\...   \n",
       "1   <!DOCTYPE html>\\n<html lang=\"de\" dir=\"ltr\" cla...   \n",
       "2   <!DOCTYPE html PUBLIC \"-//W3C//DTD XHTML 1.0 T...   \n",
       "3   <?xml version=\"1.0\" encoding=\"utf-8\"?>\\n<!DOCT...   \n",
       "4   <?xml version=\"1.0\" encoding=\"utf-8\"?>\\n<!DOCT...   \n",
       "5   <!DOCTYPE html>\\n<!-- HTML5 Shim and Respond.j...   \n",
       "6   <!DOCTYPE html>\\n<html xml:lang=\"de\" lang=\"de\"...   \n",
       "7   <!DOCTYPE html>\\n<html xml:lang=\"de\" lang=\"de\"...   \n",
       "8   <!DOCTYPE html>\\n<html lang=\"de\">\\n<head>\\n\\n<...   \n",
       "9   <!DOCTYPE html>\\n<html lang=\"de\">\\n<head>\\n\\n<...   \n",
       "10  <!DOCTYPE html>\\n<html lang=\"de\">\\n  <head>\\n ...   \n",
       "11  <!DOCTYPE html>\\n<html class=\"no-js\">\\n<meta h...   \n",
       "12  <!DOCTYPE html>\\n<html lang=\"de\">\\n<head>\\n\\n<...   \n",
       "13  <!DOCTYPE html>\\n<html lang=\"de\">\\n<head>\\n\\n<...   \n",
       "14  <!DOCTYPE html>\\n<!--[if IE 8 ]><html lang=\"de...   \n",
       "15  <!DOCTYPE html>\\n<html dir=\"ltr\" lang=\"de\">\\n<...   \n",
       "16  <!doctype html>\\n\\n<!--[if lt IE 7]><html lang...   \n",
       "17  <!DOCTYPE html>\\n<!--[if lt IE 7 ]><html dir=\"...   \n",
       "18  <!DOCTYPE html>\\n<html dir=\"ltr\" lang=\"de-DE\">...   \n",
       "19  <!DOCTYPE html>\\n<html lang=\"de\" dir=\"ltr\">\\n<...   \n",
       "20  <!DOCTYPE html>\\n<html lang=\"de\">\\n<head><!--[...   \n",
       "21  <!DOCTYPE html PUBLIC \"-//W3C//DTD HTML 4.01 T...   \n",
       "22  <!DOCTYPE html>\\n<html class=\"no-js\" lang=\"de-...   \n",
       "23  <!DOCTYPE html>\\n<html class=\"no-js\" lang=\"de-...   \n",
       "24  <!DOCTYPE html><html lang=\"de\" class=\"no-js\"><...   \n",
       "25  <!DOCTYPE html PUBLIC \"-//W3C//DTD XHTML 1.0 T...   \n",
       "26  <!DOCTYPE html>\\n<html lang=\"de\">\\n\\t<!--[if I...   \n",
       "27  <?xml version=\"1.0\" encoding=\"utf-8\"?>\\n<rss v...   \n",
       "28  <!DOCTYPE html>\\n<html lang=\"de\"><head>\\n\\t<me...   \n",
       "29  <!DOCTYPE html>\\n<html lang=\"de\">\\n<head>\\n\\n<...   \n",
       "30  <!DOCTYPE html>\\n<html xmlns=\"http://www.w3.or...   \n",
       "31  <!DOCTYPE html>\\n<html xmlns=\"http://www.w3.or...   \n",
       "32  <!DOCTYPE html>\\n<html xmlns=\"http://www.w3.or...   \n",
       "33  <!DOCTYPE html>\\n<html lang=\"en\">\\n<head>\\n\\n<...   \n",
       "34  <!DOCTYPE html> <html xmlns=\"http://www.w3.org...   \n",
       "35  <!DOCTYPE html>\\n<html lang=\"de\">\\n<head>\\n\\n<...   \n",
       "36  <!DOCTYPE html>\\n<html lang=\"de\">\\n<head>\\n\\n<...   \n",
       "37  <!DOCTYPE html><html lang=\"de\" class=\"no-js\"><...   \n",
       "38  <!DOCTYPE html\\n     PUBLIC \"-//W3C//DTD XHTML...   \n",
       "39  <!DOCTYPE html>\\n<html lang=\"de\">\\n  <head>\\n ...   \n",
       "40  <!DOCTYPE html>\\n<html lang=\"de\" dir=\"ltr\" pre...   \n",
       "41  <!DOCTYPE html>\\n<!--[if lt IE 7 ]> <html lang...   \n",
       "42  <!doctype html><html class=\"no-js general-publ...   \n",
       "43  <!DOCTYPE html> \\n<html lang=\"de\"> \\n\\t<head> ...   \n",
       "44  <!DOCTYPE html>\\n<html lang=\"en\">\\n<head>\\n<sc...   \n",
       "45  \\n\\n<!DOCTYPE html PUBLIC \"-//W3C//DTD XHTML 1...   \n",
       "46  <!DOCTYPE html>\\n<html lang=\"de\">\\n<head>\\n\\n<...   \n",
       "47  <!DOCTYPE html> <html lang=\"de\"> <meta name=\"v...   \n",
       "\n",
       "                                            html_text  \\\n",
       "0   \\n\\n\\n\\n\\n\\nBauchspeicheldrÃ¼se | Klinik fÃ¼r ...   \n",
       "1   \\n\\n\\n\\n\\n\\n\\n\\n\\n\\n\\n\\n\\n\\n\\n\\n\\n\\n\\nChirurgi...   \n",
       "2   \\n\\n\\nBrustzentrum Reutlingen: Behandlungsverf...   \n",
       "3   \\n\\n\\n\\n\\nLeistungsspektrum: Sankt Marien-Hosp...   \n",
       "4   \\n\\n\\n\\n\\nLeistungsspektrum: Sankt Marien-Hosp...   \n",
       "5   \\n\\n\\n\\n\\n\\n\\n\\n\\n\\n\\n\\n\\n\\n\\n\\nTumorzentrum R...   \n",
       "6   \\n\\n\\nGynÃ¤kologische Tumore - Asklepios Harzk...   \n",
       "7   \\n\\n\\nInterdisziplinÃ¤re Tumorkonferenzen - As...   \n",
       "8   \\n\\n\\n\\n\\n\\n\\n\\n\\nSelbsthilfegruppen - Kranken...   \n",
       "9   \\n\\n\\n\\n\\n\\n\\n\\n\\nStereotaktische Radiotherapi...   \n",
       "10  \\n\\nInterventionelle Radiologie - Mehr als nur...   \n",
       "11  \\n\\n\\n\\n\\nChirurgie\\n\\n\\n\\n\\n\\n\\n\\n\\n\\n\\nNachr...   \n",
       "12  \\n\\n\\n\\n\\n\\n\\n\\n\\n\\n\\n\\n\\n\\n\\n\\n\\nGesundheits-...   \n",
       "13  \\n\\n\\n\\n\\n\\n\\n\\n\\n\\n\\n\\n\\n\\n\\n\\n\\n\\nOnkologisc...   \n",
       "14  \\n\\n\\n\\n\\n\\nKontakt & Anfahrt Â« Darmkrebszent...   \n",
       "15  \\n\\n\\n\\nDRK Kliniken Berlin: Leistungen\\n\\n\\n\\...   \n",
       "16  \\n\\n\\n\\nZielsetzung - Evangelisches Klinikum N...   \n",
       "17  \\n\\n\\n\\n\\n\\nAblauf einer Strahlentherapie | Ze...   \n",
       "18  \\n\\n\\n\\n\\n\\n\\n\\n\\n\\n\\n\\n\\n\\n\\n\\n\\n\\n\\n\\n\\n\\n\\n...   \n",
       "19  \\n\\n\\n\\n\\nMedizinisches Leistungsspektrum wird...   \n",
       "20  \\n\\n\\n\\n\\n\\n\\n\\n\\n\\n\\n\\n\\n\\n\\n\\nInfos fÃ¼r Fac...   \n",
       "21  \\n\\n\\n\\n\\n\\n\\n\\n\\n\\n\\n\\n\\n\\n\\n \\n\\n\\n\\n\\n\\n \\n...   \n",
       "22  \\n\\n\\n\\n\\n\\n\\n\\n\\n\\n\\nHÃ¤ufige Fragen zur Stra...   \n",
       "23  \\n\\n\\n\\n\\n\\n\\n\\n\\n\\n\\nHelios Tumorzentrum NRW\\...   \n",
       "24  GelenkersatzSkip to main contenthjk Die Einric...   \n",
       "25  \\n\\n\\n\\n\\n\\n\\n\\n\\n\\n\\n\\n\\n\\n\\n\\n\\n\\n\\n\\n\\n\\n\\n...   \n",
       "26  \\n\\n\\n \\n \\n\\n\\nHerzlich Willkommen â Interd...   \n",
       "27  \\n\\nKrankenhaus St. Joseph-Stift Dresden (PM)\\...   \n",
       "28  \\n\\n\\n\\nPathologie » Institute A-Z » Kliniken ...   \n",
       "29  \\n\\n\\n\\n\\nSprechstunden / Poliklinik\\n\\n\\n\\n\\n...   \n",
       "30  \\n\\n\\n\\n\\n\\n\\n\\n\\n\\n\\n\\n\\n\\n\\n\\n\\n\\n\\n\\n\\n\\n\\n...   \n",
       "31  \\n\\n\\n\\n\\n\\n\\n\\n\\n\\n\\n\\n\\n\\n\\n\\n\\n\\n\\n\\n\\n\\n\\n...   \n",
       "32  \\n\\n\\n\\n\\n\\n\\n\\n\\n\\n\\n\\n\\n\\n\\n\\n\\n\\n\\n\\n\\n\\n\\n...   \n",
       "33  \\n\\n\\n\\n\\n\\n\\n\\n\\nStrahlentherapie am Kreiskra...   \n",
       "34              Zertifiziertes Darmkrebszentrum - ...   \n",
       "35  \\n\\n\\n\\nAlfried Krupp Krankenhaus | DÃ¼nn-, Di...   \n",
       "36  \\n\\n\\n\\n\\n\\n\\n\\n\\n\\n\\n\\n\\n\\n\\n\\n\\n\\n\\n\\n\\n\\n\\n...   \n",
       "37  Leistungsspektrum BrustzentrumSkip to main con...   \n",
       "38  \\n\\n\\n\\nUniversitÃ¤tsklinikum Halle(Saale): St...   \n",
       "39  \\n\\n\\n\\nGoethe-UniversitÃ¤t â âââââ...   \n",
       "40  \\n\\n\\n\\n\\n\\n\\n\\n\\n\\n\\nPatienteninformationen |...   \n",
       "41   \\n\\n\\n\\n\\n\\n\\nProsper-Hospital Recklinghausen...   \n",
       "42   Vendor Neutral Archiving Solutions (VNA) - Si...   \n",
       "43  \\n\\n\\n\\n\\n\\n\\n\\n\\n\\n\\n\\n\\n\\n\\nZweitmeinung â...   \n",
       "44  \\n\\n\\n\\nUKB Universitätsklinikum BONN / Medizi...   \n",
       "45  \\n\\n\\t\\n\\tTumorboard des Lungenkrebszentrums\\n...   \n",
       "46  \\n\\n\\n\\n\\n\\nOberarzt (m/w/d) fÃ¼r die HNO-Klin...   \n",
       "47       Klinik fÃ¼r Allgemeinchirurgie, Viszeralc...   \n",
       "\n",
       "                                    preprocessed_text  predictions  \n",
       "0   bauchspeicheldrã¼s klinik fã¼r allgemein visze...            2  \n",
       "1   chirurgi der bauchspeicheldrã¼s pankreaschirur...            2  \n",
       "2   brustzentrum reutlingen behandlungsverfahren k...            2  \n",
       "3   leistungsspektrum sankt marien hospit buer gmb...            2  \n",
       "4   leistungsspektrum sankt marien hospit buer gmb...            2  \n",
       "5   tumorzentrum rostock e v â onkologisch zentrum...            1  \n",
       "6   gynã kologisch tumor asklepio harzklinik gosla...            1  \n",
       "7   interdisziplinã tumorkonferenzen asklepio klin...            1  \n",
       "8   selbsthilfegruppen krankenhaus barmherzig brã¼...            1  \n",
       "9   stereotaktisch radiotherapi krankenhaus barmhe...            2  \n",
       "10  interventionell radiologi mehr al nur bilder m...            2  \n",
       "11  chirurgi nachrichten universitã tsklinikum erl...            2  \n",
       "12  gesundheit und krankenpfleg w oder medizinisch...            2  \n",
       "13  onkologisch zentrum carl thiem klinikum cottbu...            1  \n",
       "14  kontakt anfahrt â darmkrebszentrum â die behan...            1  \n",
       "15  drk kliniken berlin leistungen ã ber un einwei...            1  \n",
       "16  zielsetzung evangelisch klinikum niederrhein n...            2  \n",
       "17  ablauf einer strahlentherapi zentrum fã¼r medi...            2  \n",
       "18  stoffwechselerkrankungen lipidapheres stoffwec...            2  \n",
       "19  medizinisch leistungsspektrum wird erweitert s...            1  \n",
       "20  info fã¼r fachperson gfo kliniken bonn kranken...            2  \n",
       "21  pressemitteilungen kontakt joachim haasunterne...            2  \n",
       "22  hã ufig fragen zur strahlentherapi auf dieser ...            1  \n",
       "23  helio tumorzentrum nrw auf dieser websit werde...            2  \n",
       "24  gelenkersatzskip main contenthjk die einrichtu...            2  \n",
       "25  such wir ã¼ber un das unternehmen die geschich...            1  \n",
       "26  herzlich willkommen â interdisziplinã endoskop...            1  \n",
       "27  krankenhaus st joseph stift dresden pm https w...            2  \n",
       "28  pathologi institut z kliniken und fachbereich ...            2  \n",
       "29  sprechstunden poliklinik kontaktsitemap notfal...            2  \n",
       "30  fort und weiterbildung radiologi nuklearmedizi...            2  \n",
       "31  unser profil gefã ã und thoraxchirurgi kliniku...            2  \n",
       "32  unser profil klinikum esslingen toggl navig kl...            2  \n",
       "33  strahlentherapi kreiskrankenhaus gummersbach k...            2  \n",
       "34  zertifiziert darmkrebszentrum warum darmkrebsz...            2  \n",
       "35  alfri krupp krankenhaus dã¼nn dick und mastdar...            2  \n",
       "36  maltes krankenhaus st franziskus hospit flensb...            2  \n",
       "37  leistungsspektrum brustzentrumskip main conten...            2  \n",
       "38  universitã tsklinikum hall saal startseit umfr...            2  \n",
       "39  goeth universitã â â â â â â â pressemitteilun...            2  \n",
       "40  patienteninformationen klinik fã¼r frauenheilk...            2  \n",
       "41  prosper hospit recklinghausen brustkreb ã ber ...            2  \n",
       "42  vendor neutral archiv solut vna siemen healthi...            2  \n",
       "43  zweitmeinung â warum ein weiter einschã tzung ...            2  \n",
       "44  ukb universitätsklinikum bonn medizinisch faku...            2  \n",
       "45  tumorboard des lungenkrebszentrum mã glicherwe...            2  \n",
       "46  oberarzt w fã¼r die hno klinik notfal rettungs...            2  \n",
       "47  klinik fã¼r allgemeinchirurgi viszeralchirurgi...            2  "
      ]
     },
     "execution_count": 38,
     "metadata": {},
     "output_type": "execute_result"
    }
   ],
   "source": [
    "# displaying the predictions\n",
    "test_df"
   ]
  }
 ],
 "metadata": {
  "kernelspec": {
   "display_name": "Python 3",
   "language": "python",
   "name": "python3"
  },
  "language_info": {
   "codemirror_mode": {
    "name": "ipython",
    "version": 3
   },
   "file_extension": ".py",
   "mimetype": "text/x-python",
   "name": "python",
   "nbconvert_exporter": "python",
   "pygments_lexer": "ipython3",
   "version": "3.8.8"
  }
 },
 "nbformat": 4,
 "nbformat_minor": 5
}
